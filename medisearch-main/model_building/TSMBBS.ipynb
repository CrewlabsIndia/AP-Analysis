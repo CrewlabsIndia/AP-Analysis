{
 "cells": [
  {
   "cell_type": "markdown",
   "metadata": {},
   "source": []
  },
  {
   "cell_type": "code",
   "execution_count": 2,
   "metadata": {},
   "outputs": [],
   "source": [
    "import numpy as np \n",
    "import pandas as pd \n",
    "import matplotlib.pyplot as plt\n",
    "import seaborn as sns"
   ]
  },
  {
   "cell_type": "code",
   "execution_count": 3,
   "metadata": {},
   "outputs": [],
   "source": [
    "d0=pd.read_csv(\"/Users/namanmuktha/Desktop/mediksearch/Tel & Ap Data/medicine_parsed-2.csv\")\n",
    "d1=pd.read_csv(\"/Users/namanmuktha/Desktop/mediksearch/Tel & Ap Data/p2.csv\")\n",
    "d2=pd.read_csv(\"/Users/namanmuktha/Desktop/mediksearch/Tel & Ap Data/p3.csv\")\n",
    "d3=pd.read_csv(\"/Users/namanmuktha/Desktop/mediksearch/Tel & Ap Data/p4.csv\")\n",
    "d0['EWS']=d0['EWS'].fillna(value=\"NO\")"
   ]
  },
  {
   "cell_type": "code",
   "execution_count": 4,
   "metadata": {},
   "outputs": [
    {
     "data": {
      "text/html": [
       "<div>\n",
       "<style scoped>\n",
       "    .dataframe tbody tr th:only-of-type {\n",
       "        vertical-align: middle;\n",
       "    }\n",
       "\n",
       "    .dataframe tbody tr th {\n",
       "        vertical-align: top;\n",
       "    }\n",
       "\n",
       "    .dataframe thead th {\n",
       "        text-align: right;\n",
       "    }\n",
       "</style>\n",
       "<table border=\"1\" class=\"dataframe\">\n",
       "  <thead>\n",
       "    <tr style=\"text-align: right;\">\n",
       "      <th></th>\n",
       "      <th>COLLEGE</th>\n",
       "      <th>RANK</th>\n",
       "      <th>LOC</th>\n",
       "      <th>CAT</th>\n",
       "      <th>SX</th>\n",
       "      <th>EWS</th>\n",
       "      <th>PHASE</th>\n",
       "    </tr>\n",
       "  </thead>\n",
       "  <tbody>\n",
       "    <tr>\n",
       "      <th>0</th>\n",
       "      <td>OSMANIA MEDICAL COLLEGE, HYDERABAD</td>\n",
       "      <td>2043</td>\n",
       "      <td>OU</td>\n",
       "      <td>OC</td>\n",
       "      <td>M</td>\n",
       "      <td>NO</td>\n",
       "      <td>P1</td>\n",
       "    </tr>\n",
       "    <tr>\n",
       "      <th>1</th>\n",
       "      <td>OSMANIA MEDICAL COLLEGE, HYDERABAD</td>\n",
       "      <td>3339</td>\n",
       "      <td>AU</td>\n",
       "      <td>OC</td>\n",
       "      <td>F</td>\n",
       "      <td>NO</td>\n",
       "      <td>P1</td>\n",
       "    </tr>\n",
       "    <tr>\n",
       "      <th>2</th>\n",
       "      <td>OSMANIA MEDICAL COLLEGE, HYDERABAD</td>\n",
       "      <td>3701</td>\n",
       "      <td>AU</td>\n",
       "      <td>OC</td>\n",
       "      <td>M</td>\n",
       "      <td>NO</td>\n",
       "      <td>P1</td>\n",
       "    </tr>\n",
       "    <tr>\n",
       "      <th>3</th>\n",
       "      <td>OSMANIA MEDICAL COLLEGE, HYDERABAD</td>\n",
       "      <td>4098</td>\n",
       "      <td>SVU</td>\n",
       "      <td>OC</td>\n",
       "      <td>F</td>\n",
       "      <td>NO</td>\n",
       "      <td>P1</td>\n",
       "    </tr>\n",
       "    <tr>\n",
       "      <th>4</th>\n",
       "      <td>OSMANIA MEDICAL COLLEGE, HYDERABAD</td>\n",
       "      <td>4127</td>\n",
       "      <td>SVU</td>\n",
       "      <td>OC</td>\n",
       "      <td>M</td>\n",
       "      <td>NO</td>\n",
       "      <td>P1</td>\n",
       "    </tr>\n",
       "  </tbody>\n",
       "</table>\n",
       "</div>"
      ],
      "text/plain": [
       "                              COLLEGE  RANK  LOC CAT SX EWS PHASE\n",
       "0  OSMANIA MEDICAL COLLEGE, HYDERABAD  2043   OU  OC  M  NO    P1\n",
       "1  OSMANIA MEDICAL COLLEGE, HYDERABAD  3339   AU  OC  F  NO    P1\n",
       "2  OSMANIA MEDICAL COLLEGE, HYDERABAD  3701   AU  OC  M  NO    P1\n",
       "3  OSMANIA MEDICAL COLLEGE, HYDERABAD  4098  SVU  OC  F  NO    P1\n",
       "4  OSMANIA MEDICAL COLLEGE, HYDERABAD  4127  SVU  OC  M  NO    P1"
      ]
     },
     "execution_count": 4,
     "metadata": {},
     "output_type": "execute_result"
    }
   ],
   "source": [
    "d0.head()\n"
   ]
  },
  {
   "cell_type": "code",
   "execution_count": 5,
   "metadata": {},
   "outputs": [
    {
     "data": {
      "text/html": [
       "<div>\n",
       "<style scoped>\n",
       "    .dataframe tbody tr th:only-of-type {\n",
       "        vertical-align: middle;\n",
       "    }\n",
       "\n",
       "    .dataframe tbody tr th {\n",
       "        vertical-align: top;\n",
       "    }\n",
       "\n",
       "    .dataframe thead th {\n",
       "        text-align: right;\n",
       "    }\n",
       "</style>\n",
       "<table border=\"1\" class=\"dataframe\">\n",
       "  <thead>\n",
       "    <tr style=\"text-align: right;\">\n",
       "      <th></th>\n",
       "      <th>COLLEGE</th>\n",
       "      <th>RANK</th>\n",
       "      <th>LOC</th>\n",
       "      <th>CAT</th>\n",
       "      <th>SX</th>\n",
       "      <th>EWS</th>\n",
       "      <th>PHASE</th>\n",
       "    </tr>\n",
       "  </thead>\n",
       "  <tbody>\n",
       "    <tr>\n",
       "      <th>0</th>\n",
       "      <td>OSMANIA MEDICAL COLLEGE, HYDERABAD</td>\n",
       "      <td>4098</td>\n",
       "      <td>SVU</td>\n",
       "      <td>OC</td>\n",
       "      <td>F</td>\n",
       "      <td>NO</td>\n",
       "      <td>P1</td>\n",
       "    </tr>\n",
       "    <tr>\n",
       "      <th>1</th>\n",
       "      <td>OSMANIA MEDICAL COLLEGE, HYDERABAD</td>\n",
       "      <td>4259</td>\n",
       "      <td>AU</td>\n",
       "      <td>OC</td>\n",
       "      <td>M</td>\n",
       "      <td>NO</td>\n",
       "      <td>P1</td>\n",
       "    </tr>\n",
       "    <tr>\n",
       "      <th>2</th>\n",
       "      <td>OSMANIA MEDICAL COLLEGE, HYDERABAD</td>\n",
       "      <td>4460</td>\n",
       "      <td>AU</td>\n",
       "      <td>OC</td>\n",
       "      <td>M</td>\n",
       "      <td>NO</td>\n",
       "      <td>P2</td>\n",
       "    </tr>\n",
       "    <tr>\n",
       "      <th>3</th>\n",
       "      <td>OSMANIA MEDICAL COLLEGE, HYDERABAD</td>\n",
       "      <td>4760</td>\n",
       "      <td>NL</td>\n",
       "      <td>OC</td>\n",
       "      <td>M</td>\n",
       "      <td>NO</td>\n",
       "      <td>P2</td>\n",
       "    </tr>\n",
       "    <tr>\n",
       "      <th>4</th>\n",
       "      <td>OSMANIA MEDICAL COLLEGE, HYDERABAD</td>\n",
       "      <td>4995</td>\n",
       "      <td>SVU</td>\n",
       "      <td>OC</td>\n",
       "      <td>F</td>\n",
       "      <td>NO</td>\n",
       "      <td>P1</td>\n",
       "    </tr>\n",
       "  </tbody>\n",
       "</table>\n",
       "</div>"
      ],
      "text/plain": [
       "                              COLLEGE  RANK  LOC CAT SX EWS PHASE\n",
       "0  OSMANIA MEDICAL COLLEGE, HYDERABAD  4098  SVU  OC  F  NO    P1\n",
       "1  OSMANIA MEDICAL COLLEGE, HYDERABAD  4259   AU  OC  M  NO    P1\n",
       "2  OSMANIA MEDICAL COLLEGE, HYDERABAD  4460   AU  OC  M  NO    P2\n",
       "3  OSMANIA MEDICAL COLLEGE, HYDERABAD  4760   NL  OC  M  NO    P2\n",
       "4  OSMANIA MEDICAL COLLEGE, HYDERABAD  4995  SVU  OC  F  NO    P1"
      ]
     },
     "execution_count": 5,
     "metadata": {},
     "output_type": "execute_result"
    }
   ],
   "source": [
    "d1.head()"
   ]
  },
  {
   "cell_type": "code",
   "execution_count": 6,
   "metadata": {},
   "outputs": [
    {
     "data": {
      "text/html": [
       "<div>\n",
       "<style scoped>\n",
       "    .dataframe tbody tr th:only-of-type {\n",
       "        vertical-align: middle;\n",
       "    }\n",
       "\n",
       "    .dataframe tbody tr th {\n",
       "        vertical-align: top;\n",
       "    }\n",
       "\n",
       "    .dataframe thead th {\n",
       "        text-align: right;\n",
       "    }\n",
       "</style>\n",
       "<table border=\"1\" class=\"dataframe\">\n",
       "  <thead>\n",
       "    <tr style=\"text-align: right;\">\n",
       "      <th></th>\n",
       "      <th>COLLEGE</th>\n",
       "      <th>RANK</th>\n",
       "      <th>LOC</th>\n",
       "      <th>CAT</th>\n",
       "      <th>SX</th>\n",
       "      <th>EWS</th>\n",
       "      <th>PHASE</th>\n",
       "    </tr>\n",
       "  </thead>\n",
       "  <tbody>\n",
       "    <tr>\n",
       "      <th>0</th>\n",
       "      <td>OSMANIA MEDICAL COLLEGE, HYDERABAD</td>\n",
       "      <td>4098</td>\n",
       "      <td>SVU</td>\n",
       "      <td>OC</td>\n",
       "      <td>F</td>\n",
       "      <td>NO</td>\n",
       "      <td>P1</td>\n",
       "    </tr>\n",
       "    <tr>\n",
       "      <th>1</th>\n",
       "      <td>OSMANIA MEDICAL COLLEGE, HYDERABAD</td>\n",
       "      <td>4259</td>\n",
       "      <td>AU</td>\n",
       "      <td>OC</td>\n",
       "      <td>M</td>\n",
       "      <td>NO</td>\n",
       "      <td>P1</td>\n",
       "    </tr>\n",
       "    <tr>\n",
       "      <th>2</th>\n",
       "      <td>OSMANIA MEDICAL COLLEGE, HYDERABAD</td>\n",
       "      <td>4460</td>\n",
       "      <td>AU</td>\n",
       "      <td>OC</td>\n",
       "      <td>M</td>\n",
       "      <td>NO</td>\n",
       "      <td>P2</td>\n",
       "    </tr>\n",
       "    <tr>\n",
       "      <th>3</th>\n",
       "      <td>OSMANIA MEDICAL COLLEGE, HYDERABAD</td>\n",
       "      <td>5521</td>\n",
       "      <td>AU</td>\n",
       "      <td>OC</td>\n",
       "      <td>F</td>\n",
       "      <td>NO</td>\n",
       "      <td>P2</td>\n",
       "    </tr>\n",
       "    <tr>\n",
       "      <th>4</th>\n",
       "      <td>OSMANIA MEDICAL COLLEGE, HYDERABAD</td>\n",
       "      <td>5574</td>\n",
       "      <td>OU</td>\n",
       "      <td>BCE</td>\n",
       "      <td>M</td>\n",
       "      <td>NO</td>\n",
       "      <td>P1</td>\n",
       "    </tr>\n",
       "  </tbody>\n",
       "</table>\n",
       "</div>"
      ],
      "text/plain": [
       "                              COLLEGE  RANK  LOC  CAT SX EWS PHASE\n",
       "0  OSMANIA MEDICAL COLLEGE, HYDERABAD  4098  SVU   OC  F  NO    P1\n",
       "1  OSMANIA MEDICAL COLLEGE, HYDERABAD  4259   AU   OC  M  NO    P1\n",
       "2  OSMANIA MEDICAL COLLEGE, HYDERABAD  4460   AU   OC  M  NO    P2\n",
       "3  OSMANIA MEDICAL COLLEGE, HYDERABAD  5521   AU   OC  F  NO    P2\n",
       "4  OSMANIA MEDICAL COLLEGE, HYDERABAD  5574   OU  BCE  M  NO    P1"
      ]
     },
     "execution_count": 6,
     "metadata": {},
     "output_type": "execute_result"
    }
   ],
   "source": [
    "d2.head()"
   ]
  },
  {
   "cell_type": "code",
   "execution_count": 7,
   "metadata": {},
   "outputs": [
    {
     "data": {
      "text/html": [
       "<div>\n",
       "<style scoped>\n",
       "    .dataframe tbody tr th:only-of-type {\n",
       "        vertical-align: middle;\n",
       "    }\n",
       "\n",
       "    .dataframe tbody tr th {\n",
       "        vertical-align: top;\n",
       "    }\n",
       "\n",
       "    .dataframe thead th {\n",
       "        text-align: right;\n",
       "    }\n",
       "</style>\n",
       "<table border=\"1\" class=\"dataframe\">\n",
       "  <thead>\n",
       "    <tr style=\"text-align: right;\">\n",
       "      <th></th>\n",
       "      <th>COLLEGE</th>\n",
       "      <th>RANK</th>\n",
       "      <th>LOC</th>\n",
       "      <th>CAT</th>\n",
       "      <th>SX</th>\n",
       "      <th>EWS</th>\n",
       "      <th>PHASE</th>\n",
       "    </tr>\n",
       "  </thead>\n",
       "  <tbody>\n",
       "    <tr>\n",
       "      <th>0</th>\n",
       "      <td>APOLLO INSTITUTE OF MEDICAL SCIENCES AND RESEA...</td>\n",
       "      <td>32375</td>\n",
       "      <td>NL</td>\n",
       "      <td>OC</td>\n",
       "      <td>F</td>\n",
       "      <td>NO</td>\n",
       "      <td>P1</td>\n",
       "    </tr>\n",
       "    <tr>\n",
       "      <th>1</th>\n",
       "      <td>APOLLO INSTITUTE OF MEDICAL SCIENCES AND RESEA...</td>\n",
       "      <td>34091</td>\n",
       "      <td>NL</td>\n",
       "      <td>OC</td>\n",
       "      <td>M</td>\n",
       "      <td>NO</td>\n",
       "      <td>P2</td>\n",
       "    </tr>\n",
       "    <tr>\n",
       "      <th>2</th>\n",
       "      <td>APOLLO INSTITUTE OF MEDICAL SCIENCES AND RESEA...</td>\n",
       "      <td>63027</td>\n",
       "      <td>OU</td>\n",
       "      <td>OC</td>\n",
       "      <td>M</td>\n",
       "      <td>NO</td>\n",
       "      <td>P1</td>\n",
       "    </tr>\n",
       "    <tr>\n",
       "      <th>3</th>\n",
       "      <td>APOLLO INSTITUTE OF MEDICAL SCIENCES AND RESEA...</td>\n",
       "      <td>65907</td>\n",
       "      <td>OU</td>\n",
       "      <td>OC</td>\n",
       "      <td>F</td>\n",
       "      <td>NO</td>\n",
       "      <td>P1</td>\n",
       "    </tr>\n",
       "    <tr>\n",
       "      <th>4</th>\n",
       "      <td>APOLLO INSTITUTE OF MEDICAL SCIENCES AND RESEA...</td>\n",
       "      <td>79356</td>\n",
       "      <td>OU</td>\n",
       "      <td>BCD</td>\n",
       "      <td>M</td>\n",
       "      <td>NO</td>\n",
       "      <td>P1</td>\n",
       "    </tr>\n",
       "  </tbody>\n",
       "</table>\n",
       "</div>"
      ],
      "text/plain": [
       "                                             COLLEGE   RANK LOC  CAT SX EWS  \\\n",
       "0  APOLLO INSTITUTE OF MEDICAL SCIENCES AND RESEA...  32375  NL   OC  F  NO   \n",
       "1  APOLLO INSTITUTE OF MEDICAL SCIENCES AND RESEA...  34091  NL   OC  M  NO   \n",
       "2  APOLLO INSTITUTE OF MEDICAL SCIENCES AND RESEA...  63027  OU   OC  M  NO   \n",
       "3  APOLLO INSTITUTE OF MEDICAL SCIENCES AND RESEA...  65907  OU   OC  F  NO   \n",
       "4  APOLLO INSTITUTE OF MEDICAL SCIENCES AND RESEA...  79356  OU  BCD  M  NO   \n",
       "\n",
       "  PHASE  \n",
       "0    P1  \n",
       "1    P2  \n",
       "2    P1  \n",
       "3    P1  \n",
       "4    P1  "
      ]
     },
     "execution_count": 7,
     "metadata": {},
     "output_type": "execute_result"
    }
   ],
   "source": [
    "d3.head()"
   ]
  },
  {
   "cell_type": "code",
   "execution_count": 8,
   "metadata": {},
   "outputs": [
    {
     "data": {
      "text/plain": [
       "array(['P1'], dtype=object)"
      ]
     },
     "execution_count": 8,
     "metadata": {},
     "output_type": "execute_result"
    }
   ],
   "source": [
    "d0[\"PHASE\"].unique()"
   ]
  },
  {
   "cell_type": "code",
   "execution_count": 9,
   "metadata": {},
   "outputs": [
    {
     "data": {
      "text/plain": [
       "array(['P1', 'P2'], dtype=object)"
      ]
     },
     "execution_count": 9,
     "metadata": {},
     "output_type": "execute_result"
    }
   ],
   "source": [
    "d1[\"PHASE\"].unique()"
   ]
  },
  {
   "cell_type": "code",
   "execution_count": 10,
   "metadata": {},
   "outputs": [
    {
     "data": {
      "text/plain": [
       "array(['P1', 'P2', 'P3'], dtype=object)"
      ]
     },
     "execution_count": 10,
     "metadata": {},
     "output_type": "execute_result"
    }
   ],
   "source": [
    "d2[\"PHASE\"].unique()"
   ]
  },
  {
   "cell_type": "code",
   "execution_count": 11,
   "metadata": {},
   "outputs": [
    {
     "data": {
      "text/plain": [
       "array(['P1', 'P2', 'P4', 'P5', 'P3'], dtype=object)"
      ]
     },
     "execution_count": 11,
     "metadata": {},
     "output_type": "execute_result"
    }
   ],
   "source": [
    "d3[\"PHASE\"].unique()"
   ]
  },
  {
   "cell_type": "code",
   "execution_count": 12,
   "metadata": {},
   "outputs": [],
   "source": [
    "df=pd.concat([d0,d1,d2,d3],ignore_index=True)"
   ]
  },
  {
   "cell_type": "code",
   "execution_count": 13,
   "metadata": {},
   "outputs": [
    {
     "data": {
      "text/html": [
       "<div>\n",
       "<style scoped>\n",
       "    .dataframe tbody tr th:only-of-type {\n",
       "        vertical-align: middle;\n",
       "    }\n",
       "\n",
       "    .dataframe tbody tr th {\n",
       "        vertical-align: top;\n",
       "    }\n",
       "\n",
       "    .dataframe thead th {\n",
       "        text-align: right;\n",
       "    }\n",
       "</style>\n",
       "<table border=\"1\" class=\"dataframe\">\n",
       "  <thead>\n",
       "    <tr style=\"text-align: right;\">\n",
       "      <th></th>\n",
       "      <th>COLLEGE</th>\n",
       "      <th>RANK</th>\n",
       "      <th>LOC</th>\n",
       "      <th>CAT</th>\n",
       "      <th>SX</th>\n",
       "      <th>EWS</th>\n",
       "      <th>PHASE</th>\n",
       "    </tr>\n",
       "  </thead>\n",
       "  <tbody>\n",
       "    <tr>\n",
       "      <th>0</th>\n",
       "      <td>OSMANIA MEDICAL COLLEGE, HYDERABAD</td>\n",
       "      <td>2043</td>\n",
       "      <td>OU</td>\n",
       "      <td>OC</td>\n",
       "      <td>M</td>\n",
       "      <td>NO</td>\n",
       "      <td>P1</td>\n",
       "    </tr>\n",
       "    <tr>\n",
       "      <th>1</th>\n",
       "      <td>OSMANIA MEDICAL COLLEGE, HYDERABAD</td>\n",
       "      <td>3339</td>\n",
       "      <td>AU</td>\n",
       "      <td>OC</td>\n",
       "      <td>F</td>\n",
       "      <td>NO</td>\n",
       "      <td>P1</td>\n",
       "    </tr>\n",
       "    <tr>\n",
       "      <th>2</th>\n",
       "      <td>OSMANIA MEDICAL COLLEGE, HYDERABAD</td>\n",
       "      <td>3701</td>\n",
       "      <td>AU</td>\n",
       "      <td>OC</td>\n",
       "      <td>M</td>\n",
       "      <td>NO</td>\n",
       "      <td>P1</td>\n",
       "    </tr>\n",
       "    <tr>\n",
       "      <th>3</th>\n",
       "      <td>OSMANIA MEDICAL COLLEGE, HYDERABAD</td>\n",
       "      <td>4098</td>\n",
       "      <td>SVU</td>\n",
       "      <td>OC</td>\n",
       "      <td>F</td>\n",
       "      <td>NO</td>\n",
       "      <td>P1</td>\n",
       "    </tr>\n",
       "    <tr>\n",
       "      <th>4</th>\n",
       "      <td>OSMANIA MEDICAL COLLEGE, HYDERABAD</td>\n",
       "      <td>4127</td>\n",
       "      <td>SVU</td>\n",
       "      <td>OC</td>\n",
       "      <td>M</td>\n",
       "      <td>NO</td>\n",
       "      <td>P1</td>\n",
       "    </tr>\n",
       "  </tbody>\n",
       "</table>\n",
       "</div>"
      ],
      "text/plain": [
       "                              COLLEGE  RANK  LOC CAT SX EWS PHASE\n",
       "0  OSMANIA MEDICAL COLLEGE, HYDERABAD  2043   OU  OC  M  NO    P1\n",
       "1  OSMANIA MEDICAL COLLEGE, HYDERABAD  3339   AU  OC  F  NO    P1\n",
       "2  OSMANIA MEDICAL COLLEGE, HYDERABAD  3701   AU  OC  M  NO    P1\n",
       "3  OSMANIA MEDICAL COLLEGE, HYDERABAD  4098  SVU  OC  F  NO    P1\n",
       "4  OSMANIA MEDICAL COLLEGE, HYDERABAD  4127  SVU  OC  M  NO    P1"
      ]
     },
     "execution_count": 13,
     "metadata": {},
     "output_type": "execute_result"
    }
   ],
   "source": [
    "df.head()"
   ]
  },
  {
   "cell_type": "code",
   "execution_count": 14,
   "metadata": {},
   "outputs": [
    {
     "data": {
      "text/plain": [
       "(17694, 7)"
      ]
     },
     "execution_count": 14,
     "metadata": {},
     "output_type": "execute_result"
    }
   ],
   "source": [
    "df.shape"
   ]
  },
  {
   "cell_type": "code",
   "execution_count": 15,
   "metadata": {},
   "outputs": [
    {
     "data": {
      "text/plain": [
       "COLLEGE    0\n",
       "RANK       0\n",
       "LOC        0\n",
       "CAT        0\n",
       "SX         0\n",
       "EWS        0\n",
       "PHASE      0\n",
       "dtype: int64"
      ]
     },
     "execution_count": 15,
     "metadata": {},
     "output_type": "execute_result"
    }
   ],
   "source": [
    "df.isna().sum()"
   ]
  },
  {
   "cell_type": "code",
   "execution_count": 16,
   "metadata": {},
   "outputs": [
    {
     "data": {
      "text/plain": [
       "(17694, 7)"
      ]
     },
     "execution_count": 16,
     "metadata": {},
     "output_type": "execute_result"
    }
   ],
   "source": [
    "df.shape"
   ]
  },
  {
   "cell_type": "code",
   "execution_count": 17,
   "metadata": {},
   "outputs": [
    {
     "data": {
      "text/plain": [
       "<Axes: xlabel='COLLEGE', ylabel='count'>"
      ]
     },
     "execution_count": 17,
     "metadata": {},
     "output_type": "execute_result"
    },
    {
     "data": {
      "image/png": "[encoded data removed]",
      "text/plain": [
       "<Figure size 2400x1000 with 1 Axes>"
      ]
     },
     "metadata": {},
     "output_type": "display_data"
    }
   ],
   "source": [
    "plt.figure(figsize=(24,10))\n",
    "sns.countplot(data=df,x=\"COLLEGE\")"
   ]
  },
  {
   "cell_type": "code",
   "execution_count": 18,
   "metadata": {},
   "outputs": [
    {
     "data": {
      "text/plain": [
       "COLLEGE    object\n",
       "RANK        int64\n",
       "LOC        object\n",
       "CAT        object\n",
       "SX         object\n",
       "EWS        object\n",
       "PHASE      object\n",
       "dtype: object"
      ]
     },
     "execution_count": 18,
     "metadata": {},
     "output_type": "execute_result"
    }
   ],
   "source": [
    "df.dtypes"
   ]
  },
  {
   "cell_type": "code",
   "execution_count": 19,
   "metadata": {},
   "outputs": [
    {
     "data": {
      "text/plain": [
       "COLLEGE      55\n",
       "RANK       8181\n",
       "LOC           4\n",
       "CAT           8\n",
       "SX            2\n",
       "EWS           2\n",
       "PHASE         5\n",
       "dtype: int64"
      ]
     },
     "execution_count": 19,
     "metadata": {},
     "output_type": "execute_result"
    }
   ],
   "source": [
    "df.nunique()"
   ]
  },
  {
   "cell_type": "code",
   "execution_count": 20,
   "metadata": {},
   "outputs": [],
   "source": [
    "from sklearn.preprocessing import LabelEncoder\n",
    "disorder_column = df['COLLEGE']\n",
    "label_encoder = LabelEncoder()\n",
    "encoded_values = label_encoder.fit_transform(disorder_column)\n",
    "label_mapping = dict(zip(label_encoder.classes_, label_encoder.transform(label_encoder.classes_)))\n",
    "df['COLLEGE'] = encoded_values"
   ]
  },
  {
   "cell_type": "code",
   "execution_count": 21,
   "metadata": {},
   "outputs": [],
   "source": [
    "from sklearn.preprocessing import LabelEncoder\n",
    "disorder_column = df['SX']\n",
    "label_encoder = LabelEncoder()\n",
    "encoded_values = label_encoder.fit_transform(disorder_column)\n",
    "label_mapping1 = dict(zip(label_encoder.classes_, label_encoder.transform(label_encoder.classes_)))\n",
    "df['SX'] = encoded_values"
   ]
  },
  {
   "cell_type": "code",
   "execution_count": 22,
   "metadata": {},
   "outputs": [],
   "source": [
    "one_hot_encoded = pd.get_dummies(df['CAT'], prefix='CAT')\n",
    "\n",
    "# Drop the original 'CAT' column from the DataFrame\n",
    "df = df.drop('CAT', axis=1)\n",
    "\n",
    "# Concatenate the original DataFrame with the one-hot encoded DataFrame\n",
    "df = pd.concat([df, one_hot_encoded], axis=1)\n"
   ]
  },
  {
   "cell_type": "code",
   "execution_count": 23,
   "metadata": {},
   "outputs": [],
   "source": [
    "\n",
    "from sklearn.preprocessing import LabelEncoder\n",
    "disorder_column = df['LOC']\n",
    "label_encoder = LabelEncoder()\n",
    "encoded_values = label_encoder.fit_transform(disorder_column)\n",
    "label_mapping_loc = dict(zip(label_encoder.classes_, label_encoder.transform(label_encoder.classes_)))\n",
    "df['LOC'] = encoded_values"
   ]
  },
  {
   "cell_type": "code",
   "execution_count": 24,
   "metadata": {},
   "outputs": [],
   "source": [
    "from sklearn.preprocessing import LabelEncoder\n",
    "disorder_column = df['PHASE']\n",
    "label_encoder = LabelEncoder()\n",
    "encoded_values = label_encoder.fit_transform(disorder_column)\n",
    "label_mapping_phase = dict(zip(label_encoder.classes_, label_encoder.transform(label_encoder.classes_)))\n",
    "df['PHASE'] = encoded_values"
   ]
  },
  {
   "cell_type": "code",
   "execution_count": 25,
   "metadata": {},
   "outputs": [],
   "source": [
    "from sklearn.preprocessing import LabelEncoder\n",
    "disorder_column = df['EWS']\n",
    "label_encoder = LabelEncoder()\n",
    "encoded_values = label_encoder.fit_transform(disorder_column)\n",
    "label_mapping_phase = dict(zip(label_encoder.classes_, label_encoder.transform(label_encoder.classes_)))\n",
    "df['EWS'] = encoded_values"
   ]
  },
  {
   "cell_type": "code",
   "execution_count": 26,
   "metadata": {},
   "outputs": [
    {
     "data": {
      "text/html": [
       "<div>\n",
       "<style scoped>\n",
       "    .dataframe tbody tr th:only-of-type {\n",
       "        vertical-align: middle;\n",
       "    }\n",
       "\n",
       "    .dataframe tbody tr th {\n",
       "        vertical-align: top;\n",
       "    }\n",
       "\n",
       "    .dataframe thead th {\n",
       "        text-align: right;\n",
       "    }\n",
       "</style>\n",
       "<table border=\"1\" class=\"dataframe\">\n",
       "  <thead>\n",
       "    <tr style=\"text-align: right;\">\n",
       "      <th></th>\n",
       "      <th>COLLEGE</th>\n",
       "      <th>RANK</th>\n",
       "      <th>LOC</th>\n",
       "      <th>SX</th>\n",
       "      <th>EWS</th>\n",
       "      <th>PHASE</th>\n",
       "      <th>CAT_BCA</th>\n",
       "      <th>CAT_BCB</th>\n",
       "      <th>CAT_BCC</th>\n",
       "      <th>CAT_BCD</th>\n",
       "      <th>CAT_BCE</th>\n",
       "      <th>CAT_OC</th>\n",
       "      <th>CAT_SC</th>\n",
       "      <th>CAT_ST</th>\n",
       "    </tr>\n",
       "  </thead>\n",
       "  <tbody>\n",
       "    <tr>\n",
       "      <th>0</th>\n",
       "      <td>45</td>\n",
       "      <td>2043</td>\n",
       "      <td>2</td>\n",
       "      <td>1</td>\n",
       "      <td>1</td>\n",
       "      <td>0</td>\n",
       "      <td>False</td>\n",
       "      <td>False</td>\n",
       "      <td>False</td>\n",
       "      <td>False</td>\n",
       "      <td>False</td>\n",
       "      <td>True</td>\n",
       "      <td>False</td>\n",
       "      <td>False</td>\n",
       "    </tr>\n",
       "    <tr>\n",
       "      <th>1</th>\n",
       "      <td>45</td>\n",
       "      <td>3339</td>\n",
       "      <td>0</td>\n",
       "      <td>0</td>\n",
       "      <td>1</td>\n",
       "      <td>0</td>\n",
       "      <td>False</td>\n",
       "      <td>False</td>\n",
       "      <td>False</td>\n",
       "      <td>False</td>\n",
       "      <td>False</td>\n",
       "      <td>True</td>\n",
       "      <td>False</td>\n",
       "      <td>False</td>\n",
       "    </tr>\n",
       "    <tr>\n",
       "      <th>2</th>\n",
       "      <td>45</td>\n",
       "      <td>3701</td>\n",
       "      <td>0</td>\n",
       "      <td>1</td>\n",
       "      <td>1</td>\n",
       "      <td>0</td>\n",
       "      <td>False</td>\n",
       "      <td>False</td>\n",
       "      <td>False</td>\n",
       "      <td>False</td>\n",
       "      <td>False</td>\n",
       "      <td>True</td>\n",
       "      <td>False</td>\n",
       "      <td>False</td>\n",
       "    </tr>\n",
       "    <tr>\n",
       "      <th>3</th>\n",
       "      <td>45</td>\n",
       "      <td>4098</td>\n",
       "      <td>3</td>\n",
       "      <td>0</td>\n",
       "      <td>1</td>\n",
       "      <td>0</td>\n",
       "      <td>False</td>\n",
       "      <td>False</td>\n",
       "      <td>False</td>\n",
       "      <td>False</td>\n",
       "      <td>False</td>\n",
       "      <td>True</td>\n",
       "      <td>False</td>\n",
       "      <td>False</td>\n",
       "    </tr>\n",
       "    <tr>\n",
       "      <th>4</th>\n",
       "      <td>45</td>\n",
       "      <td>4127</td>\n",
       "      <td>3</td>\n",
       "      <td>1</td>\n",
       "      <td>1</td>\n",
       "      <td>0</td>\n",
       "      <td>False</td>\n",
       "      <td>False</td>\n",
       "      <td>False</td>\n",
       "      <td>False</td>\n",
       "      <td>False</td>\n",
       "      <td>True</td>\n",
       "      <td>False</td>\n",
       "      <td>False</td>\n",
       "    </tr>\n",
       "  </tbody>\n",
       "</table>\n",
       "</div>"
      ],
      "text/plain": [
       "   COLLEGE  RANK  LOC  SX  EWS  PHASE  CAT_BCA  CAT_BCB  CAT_BCC  CAT_BCD  \\\n",
       "0       45  2043    2   1    1      0    False    False    False    False   \n",
       "1       45  3339    0   0    1      0    False    False    False    False   \n",
       "2       45  3701    0   1    1      0    False    False    False    False   \n",
       "3       45  4098    3   0    1      0    False    False    False    False   \n",
       "4       45  4127    3   1    1      0    False    False    False    False   \n",
       "\n",
       "   CAT_BCE  CAT_OC  CAT_SC  CAT_ST  \n",
       "0    False    True   False   False  \n",
       "1    False    True   False   False  \n",
       "2    False    True   False   False  \n",
       "3    False    True   False   False  \n",
       "4    False    True   False   False  "
      ]
     },
     "execution_count": 26,
     "metadata": {},
     "output_type": "execute_result"
    }
   ],
   "source": [
    "df.head()"
   ]
  },
  {
   "cell_type": "code",
   "execution_count": 27,
   "metadata": {},
   "outputs": [
    {
     "name": "stdout",
     "output_type": "stream",
     "text": [
      "       COLLEGE    RANK  LOC  SX  EWS  PHASE  CAT_BCA  CAT_BCB  CAT_BCC  \\\n",
      "0           45    2043    2   1    1      0    False    False    False   \n",
      "1           45    3339    0   0    1      0    False    False    False   \n",
      "2           45    3701    0   1    1      0    False    False    False   \n",
      "3           45    4098    3   0    1      0    False    False    False   \n",
      "4           45    4127    3   1    1      0    False    False    False   \n",
      "...        ...     ...  ...  ..  ...    ...      ...      ...      ...   \n",
      "17689        8  766682    3   0    1      4    False    False    False   \n",
      "17690        8  852801    1   0    1      4    False    False    False   \n",
      "17691        8  886463    2   0    1      2    False    False    False   \n",
      "17692        8  971542    2   0    1      1    False    False    False   \n",
      "17693        8  985384    0   0    1      0    False    False    False   \n",
      "\n",
      "       CAT_BCD  CAT_BCE  CAT_OC  CAT_SC  CAT_ST  discrete_column  \n",
      "0        False    False    True   False   False              0.0  \n",
      "1        False    False    True   False   False              0.0  \n",
      "2        False    False    True   False   False              0.0  \n",
      "3        False    False    True   False   False              0.0  \n",
      "4        False    False    True   False   False              0.0  \n",
      "...        ...      ...     ...     ...     ...              ...  \n",
      "17689    False    False    True   False   False             47.0  \n",
      "17690    False    False    True   False   False             52.0  \n",
      "17691    False     True   False   False   False             54.0  \n",
      "17692    False    False    True   False   False             59.0  \n",
      "17693    False    False    True   False   False             60.0  \n",
      "\n",
      "[17694 rows x 15 columns]\n"
     ]
    },
    {
     "name": "stderr",
     "output_type": "stream",
     "text": [
      "/Users/namanmuktha/anaconda3/lib/python3.11/site-packages/sklearn/preprocessing/_discretization.py:248: FutureWarning: In version 1.5 onwards, subsample=200_000 will be used by default. Set subsample explicitly to silence this warning in the mean time. Set subsample=None to disable subsampling explicitly.\n",
      "  warnings.warn(\n"
     ]
    }
   ],
   "source": [
    "from sklearn.preprocessing import KBinsDiscretizer\n",
    "discretizer = KBinsDiscretizer(n_bins=75, encode='ordinal', strategy='uniform')\n",
    "\n",
    "# Fit and transform the continuous column\n",
    "df['discrete_column'] = discretizer.fit_transform(df[['RANK']])\n",
    "\n",
    "# Print the DataFrame with the discretized column\n",
    "print(df)"
   ]
  },
  {
   "cell_type": "code",
   "execution_count": 28,
   "metadata": {},
   "outputs": [
    {
     "data": {
      "text/html": [
       "<div>\n",
       "<style scoped>\n",
       "    .dataframe tbody tr th:only-of-type {\n",
       "        vertical-align: middle;\n",
       "    }\n",
       "\n",
       "    .dataframe tbody tr th {\n",
       "        vertical-align: top;\n",
       "    }\n",
       "\n",
       "    .dataframe thead th {\n",
       "        text-align: right;\n",
       "    }\n",
       "</style>\n",
       "<table border=\"1\" class=\"dataframe\">\n",
       "  <thead>\n",
       "    <tr style=\"text-align: right;\">\n",
       "      <th></th>\n",
       "      <th>COLLEGE</th>\n",
       "      <th>RANK</th>\n",
       "      <th>LOC</th>\n",
       "      <th>SX</th>\n",
       "      <th>EWS</th>\n",
       "      <th>PHASE</th>\n",
       "      <th>CAT_BCA</th>\n",
       "      <th>CAT_BCB</th>\n",
       "      <th>CAT_BCC</th>\n",
       "      <th>CAT_BCD</th>\n",
       "      <th>CAT_BCE</th>\n",
       "      <th>CAT_OC</th>\n",
       "      <th>CAT_SC</th>\n",
       "      <th>CAT_ST</th>\n",
       "      <th>discrete_column</th>\n",
       "    </tr>\n",
       "  </thead>\n",
       "  <tbody>\n",
       "    <tr>\n",
       "      <th>0</th>\n",
       "      <td>45</td>\n",
       "      <td>2043</td>\n",
       "      <td>2</td>\n",
       "      <td>1</td>\n",
       "      <td>1</td>\n",
       "      <td>0</td>\n",
       "      <td>False</td>\n",
       "      <td>False</td>\n",
       "      <td>False</td>\n",
       "      <td>False</td>\n",
       "      <td>False</td>\n",
       "      <td>True</td>\n",
       "      <td>False</td>\n",
       "      <td>False</td>\n",
       "      <td>0.0</td>\n",
       "    </tr>\n",
       "    <tr>\n",
       "      <th>1</th>\n",
       "      <td>45</td>\n",
       "      <td>3339</td>\n",
       "      <td>0</td>\n",
       "      <td>0</td>\n",
       "      <td>1</td>\n",
       "      <td>0</td>\n",
       "      <td>False</td>\n",
       "      <td>False</td>\n",
       "      <td>False</td>\n",
       "      <td>False</td>\n",
       "      <td>False</td>\n",
       "      <td>True</td>\n",
       "      <td>False</td>\n",
       "      <td>False</td>\n",
       "      <td>0.0</td>\n",
       "    </tr>\n",
       "    <tr>\n",
       "      <th>2</th>\n",
       "      <td>45</td>\n",
       "      <td>3701</td>\n",
       "      <td>0</td>\n",
       "      <td>1</td>\n",
       "      <td>1</td>\n",
       "      <td>0</td>\n",
       "      <td>False</td>\n",
       "      <td>False</td>\n",
       "      <td>False</td>\n",
       "      <td>False</td>\n",
       "      <td>False</td>\n",
       "      <td>True</td>\n",
       "      <td>False</td>\n",
       "      <td>False</td>\n",
       "      <td>0.0</td>\n",
       "    </tr>\n",
       "    <tr>\n",
       "      <th>3</th>\n",
       "      <td>45</td>\n",
       "      <td>4098</td>\n",
       "      <td>3</td>\n",
       "      <td>0</td>\n",
       "      <td>1</td>\n",
       "      <td>0</td>\n",
       "      <td>False</td>\n",
       "      <td>False</td>\n",
       "      <td>False</td>\n",
       "      <td>False</td>\n",
       "      <td>False</td>\n",
       "      <td>True</td>\n",
       "      <td>False</td>\n",
       "      <td>False</td>\n",
       "      <td>0.0</td>\n",
       "    </tr>\n",
       "    <tr>\n",
       "      <th>4</th>\n",
       "      <td>45</td>\n",
       "      <td>4127</td>\n",
       "      <td>3</td>\n",
       "      <td>1</td>\n",
       "      <td>1</td>\n",
       "      <td>0</td>\n",
       "      <td>False</td>\n",
       "      <td>False</td>\n",
       "      <td>False</td>\n",
       "      <td>False</td>\n",
       "      <td>False</td>\n",
       "      <td>True</td>\n",
       "      <td>False</td>\n",
       "      <td>False</td>\n",
       "      <td>0.0</td>\n",
       "    </tr>\n",
       "  </tbody>\n",
       "</table>\n",
       "</div>"
      ],
      "text/plain": [
       "   COLLEGE  RANK  LOC  SX  EWS  PHASE  CAT_BCA  CAT_BCB  CAT_BCC  CAT_BCD  \\\n",
       "0       45  2043    2   1    1      0    False    False    False    False   \n",
       "1       45  3339    0   0    1      0    False    False    False    False   \n",
       "2       45  3701    0   1    1      0    False    False    False    False   \n",
       "3       45  4098    3   0    1      0    False    False    False    False   \n",
       "4       45  4127    3   1    1      0    False    False    False    False   \n",
       "\n",
       "   CAT_BCE  CAT_OC  CAT_SC  CAT_ST  discrete_column  \n",
       "0    False    True   False   False              0.0  \n",
       "1    False    True   False   False              0.0  \n",
       "2    False    True   False   False              0.0  \n",
       "3    False    True   False   False              0.0  \n",
       "4    False    True   False   False              0.0  "
      ]
     },
     "execution_count": 28,
     "metadata": {},
     "output_type": "execute_result"
    }
   ],
   "source": [
    "df.head()"
   ]
  },
  {
   "cell_type": "code",
   "execution_count": 29,
   "metadata": {},
   "outputs": [
    {
     "data": {
      "text/plain": [
       "COLLEGE              55\n",
       "RANK               8181\n",
       "LOC                   4\n",
       "SX                    2\n",
       "EWS                   2\n",
       "PHASE                 5\n",
       "CAT_BCA               2\n",
       "CAT_BCB               2\n",
       "CAT_BCC               2\n",
       "CAT_BCD               2\n",
       "CAT_BCE               2\n",
       "CAT_OC                2\n",
       "CAT_SC                2\n",
       "CAT_ST                2\n",
       "discrete_column      75\n",
       "dtype: int64"
      ]
     },
     "execution_count": 29,
     "metadata": {},
     "output_type": "execute_result"
    }
   ],
   "source": [
    "df.nunique()"
   ]
  },
  {
   "cell_type": "code",
   "execution_count": 30,
   "metadata": {},
   "outputs": [
    {
     "data": {
      "text/plain": [
       "<Axes: xlabel='COLLEGE', ylabel='count'>"
      ]
     },
     "execution_count": 30,
     "metadata": {},
     "output_type": "execute_result"
    },
    {
     "data": {
      "image/png": "[encoded data removed]",
      "text/plain": [
       "<Figure size 2400x1000 with 1 Axes>"
      ]
     },
     "metadata": {},
     "output_type": "display_data"
    }
   ],
   "source": [
    "plt.figure(figsize=(24,10))\n",
    "sns.countplot(data=df,x=\"COLLEGE\")"
   ]
  },
  {
   "cell_type": "code",
   "execution_count": 31,
   "metadata": {},
   "outputs": [],
   "source": [
    "from imblearn.over_sampling import RandomOverSampler\n",
    "oversampler = RandomOverSampler(random_state=420)"
   ]
  },
  {
   "cell_type": "code",
   "execution_count": 32,
   "metadata": {},
   "outputs": [],
   "source": [
    "X=df.drop(['COLLEGE'],axis=1)\n",
    "y=df['COLLEGE']"
   ]
  },
  {
   "cell_type": "code",
   "execution_count": 33,
   "metadata": {},
   "outputs": [],
   "source": [
    "X_resampled, y_resampled = oversampler.fit_resample(X,y)"
   ]
  },
  {
   "cell_type": "code",
   "execution_count": 34,
   "metadata": {},
   "outputs": [],
   "source": [
    "df_updated=X_resampled"
   ]
  },
  {
   "cell_type": "code",
   "execution_count": 35,
   "metadata": {},
   "outputs": [],
   "source": [
    "df_updated['COLLEGE']=y_resampled"
   ]
  },
  {
   "cell_type": "code",
   "execution_count": 36,
   "metadata": {},
   "outputs": [
    {
     "data": {
      "text/plain": [
       "<Axes: xlabel='COLLEGE', ylabel='count'>"
      ]
     },
     "execution_count": 36,
     "metadata": {},
     "output_type": "execute_result"
    },
    {
     "data": {
      "image/png": "[encoded data removed]",
      "text/plain": [
       "<Figure size 2400x1000 with 1 Axes>"
      ]
     },
     "metadata": {},
     "output_type": "display_data"
    }
   ],
   "source": [
    "plt.figure(figsize=(24,10))\n",
    "sns.countplot(data=df_updated,x=\"COLLEGE\")"
   ]
  },
  {
   "cell_type": "code",
   "execution_count": 37,
   "metadata": {},
   "outputs": [],
   "source": [
    "from sklearn.model_selection import train_test_split \n",
    "X_train,X_test,y_train,y_test=train_test_split(df_updated.drop([\"COLLEGE\"],axis=1),df_updated[\"COLLEGE\"],test_size=0.2,random_state=231)"
   ]
  },
  {
   "cell_type": "code",
   "execution_count": 38,
   "metadata": {},
   "outputs": [
    {
     "name": "stdout",
     "output_type": "stream",
     "text": [
      "89.77964787952608\n",
      "[[134   0   0 ...   0   0   0]\n",
      " [  0 167   1 ...   0   0   1]\n",
      " [  1   0 185 ...   0   0   1]\n",
      " ...\n",
      " [  0   0   0 ... 158   0   0]\n",
      " [  0   0   0 ...   0 151   0]\n",
      " [  1   2   1 ...   0   0 154]]\n",
      "              precision    recall  f1-score   support\n",
      "\n",
      "           0       0.92      0.93      0.93       144\n",
      "           1       0.93      0.91      0.92       183\n",
      "           2       0.96      0.96      0.96       193\n",
      "           3       0.85      0.81      0.83       163\n",
      "           4       0.88      0.93      0.90       163\n",
      "           5       0.79      0.85      0.82       159\n",
      "           6       0.99      0.96      0.98       175\n",
      "           7       0.79      0.86      0.82       141\n",
      "           8       1.00      0.97      0.99       176\n",
      "           9       1.00      0.97      0.98       192\n",
      "          10       0.90      0.83      0.87       174\n",
      "          11       0.87      0.74      0.80       205\n",
      "          12       0.89      0.93      0.91       159\n",
      "          13       0.95      0.96      0.95       168\n",
      "          14       0.99      0.96      0.98       168\n",
      "          15       0.99      0.98      0.99       156\n",
      "          16       0.99      0.99      0.99       194\n",
      "          17       0.78      0.89      0.83       147\n",
      "          18       0.93      0.80      0.86       178\n",
      "          19       0.99      0.95      0.97       165\n",
      "          20       0.97      0.96      0.96       172\n",
      "          21       0.81      0.66      0.73       200\n",
      "          22       0.93      0.98      0.96       160\n",
      "          23       0.91      0.75      0.83       179\n",
      "          24       0.85      0.74      0.79       171\n",
      "          25       0.98      0.99      0.99       187\n",
      "          26       0.64      0.76      0.70       159\n",
      "          27       0.99      0.96      0.98       144\n",
      "          28       0.98      0.97      0.97       150\n",
      "          29       0.67      0.86      0.75       133\n",
      "          30       0.62      0.64      0.63       149\n",
      "          31       0.96      0.97      0.96       155\n",
      "          32       0.67      0.88      0.76       130\n",
      "          33       0.87      0.96      0.91       139\n",
      "          34       0.98      0.96      0.97       170\n",
      "          35       0.66      0.76      0.71       151\n",
      "          36       0.86      0.82      0.84       186\n",
      "          37       0.98      0.93      0.95       160\n",
      "          38       0.98      0.91      0.94       150\n",
      "          39       0.90      0.95      0.92       147\n",
      "          40       0.96      0.94      0.95       168\n",
      "          41       0.83      0.91      0.87       148\n",
      "          42       0.94      0.89      0.91       163\n",
      "          43       0.94      0.92      0.93       166\n",
      "          44       1.00      0.99      0.99       174\n",
      "          45       0.66      0.80      0.72       131\n",
      "          46       0.86      0.90      0.88       157\n",
      "          47       0.93      0.93      0.93       153\n",
      "          48       0.98      0.97      0.98       190\n",
      "          49       0.85      0.91      0.88       161\n",
      "          50       0.94      0.86      0.90       161\n",
      "          51       0.99      0.94      0.96       177\n",
      "          52       0.96      0.97      0.97       163\n",
      "          53       0.96      0.94      0.95       161\n",
      "          54       0.98      0.94      0.96       163\n",
      "\n",
      "    accuracy                           0.90      9031\n",
      "   macro avg       0.90      0.90      0.90      9031\n",
      "weighted avg       0.90      0.90      0.90      9031\n",
      "\n"
     ]
    }
   ],
   "source": [
    "from sklearn.ensemble import RandomForestClassifier\n",
    "from sklearn.metrics import accuracy_score,confusion_matrix,classification_report\n",
    "rfc=RandomForestClassifier()\n",
    "rfc.fit(X_train,y_train)\n",
    "y_p=rfc.predict(X_test)\n",
    "print(accuracy_score(y_p,y_test)*100)\n",
    "print(confusion_matrix(y_p,y_test))\n",
    "print(classification_report(y_p,y_test))"
   ]
  },
  {
   "cell_type": "code",
   "execution_count": 39,
   "metadata": {},
   "outputs": [
    {
     "data": {
      "text/plain": [
       "38279    40\n",
       "872       9\n",
       "23606    11\n",
       "21370     7\n",
       "43901    52\n",
       "         ..\n",
       "34829    32\n",
       "31381    25\n",
       "38266    40\n",
       "23149    10\n",
       "27982    19\n",
       "Name: COLLEGE, Length: 9031, dtype: int64"
      ]
     },
     "execution_count": 39,
     "metadata": {},
     "output_type": "execute_result"
    }
   ],
   "source": [
    "y_test"
   ]
  },
  {
   "cell_type": "code",
   "execution_count": 40,
   "metadata": {},
   "outputs": [
    {
     "data": {
      "text/plain": [
       "array([40,  9, 11, ..., 40, 10, 19])"
      ]
     },
     "execution_count": 40,
     "metadata": {},
     "output_type": "execute_result"
    }
   ],
   "source": [
    "y_p"
   ]
  },
  {
   "cell_type": "code",
   "execution_count": 41,
   "metadata": {},
   "outputs": [
    {
     "name": "stdout",
     "output_type": "stream",
     "text": [
      "0.9038866127782084\n",
      "              precision    recall  f1-score   support\n",
      "\n",
      "           0       0.94      0.95      0.94       143\n",
      "           1       0.94      0.94      0.94       178\n",
      "           2       0.96      0.97      0.97       191\n",
      "           3       0.90      0.81      0.85       171\n",
      "           4       0.87      0.96      0.92       157\n",
      "           5       0.81      0.84      0.82       165\n",
      "           6       0.99      0.98      0.99       172\n",
      "           7       0.81      0.84      0.82       148\n",
      "           8       1.00      0.99      0.99       173\n",
      "           9       1.00      0.98      0.99       190\n",
      "          10       0.88      0.81      0.84       175\n",
      "          11       0.93      0.74      0.82       217\n",
      "          12       0.93      0.95      0.94       164\n",
      "          13       0.95      0.96      0.96       169\n",
      "          14       0.99      0.97      0.98       167\n",
      "          15       1.00      0.97      0.99       158\n",
      "          16       0.99      0.98      0.98       196\n",
      "          17       0.79      0.90      0.84       148\n",
      "          18       0.92      0.80      0.85       175\n",
      "          19       0.99      0.93      0.96       168\n",
      "          20       0.98      0.97      0.97       173\n",
      "          21       0.88      0.66      0.75       215\n",
      "          22       0.95      0.99      0.97       161\n",
      "          23       0.97      0.75      0.85       190\n",
      "          24       0.94      0.74      0.83       188\n",
      "          25       0.98      0.99      0.99       187\n",
      "          26       0.59      0.82      0.69       137\n",
      "          27       0.98      1.00      0.99       136\n",
      "          28       0.98      0.97      0.97       150\n",
      "          29       0.69      0.77      0.73       151\n",
      "          30       0.56      0.68      0.62       126\n",
      "          31       0.95      0.98      0.96       151\n",
      "          32       0.68      0.94      0.79       124\n",
      "          33       0.88      0.97      0.92       139\n",
      "          34       0.99      0.97      0.98       172\n",
      "          35       0.65      0.85      0.74       131\n",
      "          36       0.85      0.84      0.85       178\n",
      "          37       0.99      0.94      0.96       158\n",
      "          38       0.99      0.93      0.95       148\n",
      "          39       0.90      0.92      0.91       151\n",
      "          40       0.97      0.95      0.96       169\n",
      "          41       0.84      0.90      0.87       151\n",
      "          42       0.94      0.91      0.92       159\n",
      "          43       0.94      0.93      0.94       164\n",
      "          44       1.00      0.98      0.99       176\n",
      "          45       0.66      0.87      0.75       121\n",
      "          46       0.86      0.87      0.86       164\n",
      "          47       0.92      0.93      0.93       152\n",
      "          48       0.98      0.95      0.97       194\n",
      "          49       0.87      0.90      0.88       165\n",
      "          50       0.95      0.88      0.91       158\n",
      "          51       0.98      0.95      0.96       174\n",
      "          52       0.96      0.95      0.95       167\n",
      "          53       0.97      0.94      0.96       163\n",
      "          54       0.99      0.95      0.97       163\n",
      "\n",
      "    accuracy                           0.90      9031\n",
      "   macro avg       0.90      0.91      0.90      9031\n",
      "weighted avg       0.91      0.90      0.91      9031\n",
      "\n"
     ]
    }
   ],
   "source": [
    "from sklearn.tree import DecisionTreeClassifier\n",
    "dt=DecisionTreeClassifier(criterion= 'entropy', min_samples_leaf= 1, min_samples_split=2)\n",
    "dt.fit(X_train,y_train)\n",
    "y_p=dt.predict(X_test)\n",
    "print(accuracy_score(y_p,y_test))\n",
    "print(classification_report(y_p,y_test))"
   ]
  },
  {
   "cell_type": "code",
   "execution_count": 42,
   "metadata": {},
   "outputs": [
    {
     "name": "stdout",
     "output_type": "stream",
     "text": [
      "0.8905990477245045\n",
      "              precision    recall  f1-score   support\n",
      "\n",
      "           0       0.91      0.98      0.94       135\n",
      "           1       0.93      0.99      0.96       169\n",
      "           2       0.95      0.98      0.97       185\n",
      "           3       0.85      0.85      0.85       155\n",
      "           4       0.87      1.00      0.93       151\n",
      "           5       0.80      0.77      0.79       178\n",
      "           6       0.99      0.96      0.98       175\n",
      "           7       0.78      0.85      0.81       142\n",
      "           8       1.00      0.98      0.99       175\n",
      "           9       1.00      0.95      0.98       195\n",
      "          10       0.84      0.80      0.82       168\n",
      "          11       0.75      0.71      0.73       183\n",
      "          12       0.90      0.90      0.90       167\n",
      "          13       0.98      0.98      0.98       170\n",
      "          14       0.99      0.98      0.98       167\n",
      "          15       0.99      0.94      0.97       161\n",
      "          16       0.99      0.99      0.99       195\n",
      "          17       0.80      0.87      0.84       156\n",
      "          18       0.90      0.83      0.86       166\n",
      "          19       0.98      0.95      0.97       163\n",
      "          20       0.97      0.99      0.98       167\n",
      "          21       0.73      0.64      0.69       183\n",
      "          22       0.94      0.96      0.95       164\n",
      "          23       0.86      0.75      0.81       170\n",
      "          24       0.80      0.77      0.78       155\n",
      "          25       0.98      0.95      0.97       194\n",
      "          26       0.64      0.65      0.64       187\n",
      "          27       0.98      0.96      0.97       141\n",
      "          28       0.97      0.94      0.96       153\n",
      "          29       0.66      0.70      0.68       159\n",
      "          30       0.57      0.58      0.58       149\n",
      "          31       0.96      0.97      0.96       155\n",
      "          32       0.73      0.82      0.77       151\n",
      "          33       0.82      0.89      0.86       143\n",
      "          34       1.00      0.96      0.98       174\n",
      "          35       0.67      0.80      0.73       145\n",
      "          36       0.84      0.89      0.86       166\n",
      "          37       0.98      0.97      0.98       152\n",
      "          38       0.99      0.95      0.97       144\n",
      "          39       0.88      0.94      0.91       144\n",
      "          40       0.95      0.96      0.95       163\n",
      "          41       0.88      0.90      0.89       157\n",
      "          42       0.95      0.90      0.92       163\n",
      "          43       0.94      0.93      0.94       163\n",
      "          44       1.00      0.95      0.97       182\n",
      "          45       0.64      0.65      0.64       155\n",
      "          46       0.86      0.88      0.87       161\n",
      "          47       0.95      0.92      0.94       158\n",
      "          48       0.97      0.94      0.96       194\n",
      "          49       0.85      0.92      0.88       158\n",
      "          50       0.94      0.89      0.91       155\n",
      "          51       0.98      0.98      0.98       167\n",
      "          52       0.97      0.94      0.95       169\n",
      "          53       0.97      0.90      0.94       170\n",
      "          54       0.97      0.93      0.95       164\n",
      "\n",
      "    accuracy                           0.89      9031\n",
      "   macro avg       0.89      0.89      0.89      9031\n",
      "weighted avg       0.89      0.89      0.89      9031\n",
      "\n"
     ]
    }
   ],
   "source": [
    "from sklearn.neighbors import KNeighborsClassifier\n",
    "knn=KNeighborsClassifier(n_neighbors=1)\n",
    "knn.fit(X_train,y_train)\n",
    "y_p=knn.predict(X_test)\n",
    "print(accuracy_score(y_p,y_test))\n",
    "print(classification_report(y_p,y_test))"
   ]
  },
  {
   "cell_type": "code",
   "execution_count": 43,
   "metadata": {},
   "outputs": [
    {
     "data": {
      "text/plain": [
       "(45155, 15)"
      ]
     },
     "execution_count": 43,
     "metadata": {},
     "output_type": "execute_result"
    }
   ],
   "source": [
    "df_updated.shape"
   ]
  },
  {
   "cell_type": "code",
   "execution_count": 44,
   "metadata": {},
   "outputs": [
    {
     "data": {
      "text/plain": [
       "(17694, 15)"
      ]
     },
     "execution_count": 44,
     "metadata": {},
     "output_type": "execute_result"
    }
   ],
   "source": [
    "df.shape"
   ]
  },
  {
   "cell_type": "code",
   "execution_count": null,
   "metadata": {},
   "outputs": [],
   "source": []
  }
 ],
 "metadata": {
  "kernelspec": {
   "display_name": "base",
   "language": "python",
   "name": "python3"
  },
  "language_info": {
   "codemirror_mode": {
    "name": "ipython",
    "version": 3
   },
   "file_extension": ".py",
   "mimetype": "text/x-python",
   "name": "python",
   "nbconvert_exporter": "python",
   "pygments_lexer": "ipython3",
   "version": "3.11.5"
  }
 },
 "nbformat": 4,
 "nbformat_minor": 2
}
