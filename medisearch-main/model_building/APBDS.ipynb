{
 "cells": [
  {
   "cell_type": "code",
   "execution_count": 129,
   "metadata": {},
   "outputs": [],
   "source": [
    "import numpy as np \n",
    "import pandas as pd \n",
    "import matplotlib.pyplot as plt\n",
    "import seaborn as sns"
   ]
  },
  {
   "cell_type": "code",
   "execution_count": 130,
   "metadata": {},
   "outputs": [],
   "source": [
    "df=pd.read_csv(\"/Users/namanmuktha/Desktop/mediksearch/Tel & Ap Data/completeApBDS.csv\")"
   ]
  },
  {
   "cell_type": "code",
   "execution_count": 131,
   "metadata": {},
   "outputs": [
    {
     "data": {
      "text/html": [
       "<div>\n",
       "<style scoped>\n",
       "    .dataframe tbody tr th:only-of-type {\n",
       "        vertical-align: middle;\n",
       "    }\n",
       "\n",
       "    .dataframe tbody tr th {\n",
       "        vertical-align: top;\n",
       "    }\n",
       "\n",
       "    .dataframe thead th {\n",
       "        text-align: right;\n",
       "    }\n",
       "</style>\n",
       "<table border=\"1\" class=\"dataframe\">\n",
       "  <thead>\n",
       "    <tr style=\"text-align: right;\">\n",
       "      <th></th>\n",
       "      <th>COLLEGE</th>\n",
       "      <th>RANK</th>\n",
       "      <th>NEET_ROLL_NO</th>\n",
       "      <th>SCORE</th>\n",
       "      <th>SX</th>\n",
       "      <th>CAT</th>\n",
       "      <th>LOC</th>\n",
       "      <th>PHASE</th>\n",
       "      <th>EWS</th>\n",
       "    </tr>\n",
       "  </thead>\n",
       "  <tbody>\n",
       "    <tr>\n",
       "      <th>0</th>\n",
       "      <td>Care Dental College, Guntur</td>\n",
       "      <td>410692</td>\n",
       "      <td>1205220140</td>\n",
       "      <td>304</td>\n",
       "      <td>F</td>\n",
       "      <td>BCA</td>\n",
       "      <td>AU</td>\n",
       "      <td>MOPUP6</td>\n",
       "      <td>NO</td>\n",
       "    </tr>\n",
       "    <tr>\n",
       "      <th>1</th>\n",
       "      <td>Anil NeeruKonda Institute of Dental Sciences, ...</td>\n",
       "      <td>102303</td>\n",
       "      <td>1206150026</td>\n",
       "      <td>506</td>\n",
       "      <td>F</td>\n",
       "      <td>BCD</td>\n",
       "      <td>AU</td>\n",
       "      <td>P1</td>\n",
       "      <td>NO</td>\n",
       "    </tr>\n",
       "    <tr>\n",
       "      <th>2</th>\n",
       "      <td>Anil NeeruKonda Institute of Dental Sciences, ...</td>\n",
       "      <td>105297</td>\n",
       "      <td>1222010480</td>\n",
       "      <td>503</td>\n",
       "      <td>M</td>\n",
       "      <td>OC</td>\n",
       "      <td>SVU</td>\n",
       "      <td>P1</td>\n",
       "      <td>NO</td>\n",
       "    </tr>\n",
       "    <tr>\n",
       "      <th>3</th>\n",
       "      <td>Anil NeeruKonda Institute of Dental Sciences, ...</td>\n",
       "      <td>109936</td>\n",
       "      <td>1206110326</td>\n",
       "      <td>499</td>\n",
       "      <td>F</td>\n",
       "      <td>BCD</td>\n",
       "      <td>AU</td>\n",
       "      <td>P1</td>\n",
       "      <td>NO</td>\n",
       "    </tr>\n",
       "    <tr>\n",
       "      <th>4</th>\n",
       "      <td>Anil NeeruKonda Institute of Dental Sciences, ...</td>\n",
       "      <td>112199</td>\n",
       "      <td>1205220293</td>\n",
       "      <td>496</td>\n",
       "      <td>F</td>\n",
       "      <td>OC</td>\n",
       "      <td>AU</td>\n",
       "      <td>P1</td>\n",
       "      <td>NO</td>\n",
       "    </tr>\n",
       "  </tbody>\n",
       "</table>\n",
       "</div>"
      ],
      "text/plain": [
       "                                             COLLEGE    RANK  NEET_ROLL_NO  \\\n",
       "0                        Care Dental College, Guntur  410692    1205220140   \n",
       "1  Anil NeeruKonda Institute of Dental Sciences, ...  102303    1206150026   \n",
       "2  Anil NeeruKonda Institute of Dental Sciences, ...  105297    1222010480   \n",
       "3  Anil NeeruKonda Institute of Dental Sciences, ...  109936    1206110326   \n",
       "4  Anil NeeruKonda Institute of Dental Sciences, ...  112199    1205220293   \n",
       "\n",
       "   SCORE SX  CAT  LOC   PHASE EWS  \n",
       "0    304  F  BCA   AU  MOPUP6  NO  \n",
       "1    506  F  BCD   AU      P1  NO  \n",
       "2    503  M   OC  SVU      P1  NO  \n",
       "3    499  F  BCD   AU      P1  NO  \n",
       "4    496  F   OC   AU      P1  NO  "
      ]
     },
     "execution_count": 131,
     "metadata": {},
     "output_type": "execute_result"
    }
   ],
   "source": [
    "df.head()"
   ]
  },
  {
   "cell_type": "code",
   "execution_count": 132,
   "metadata": {},
   "outputs": [
    {
     "data": {
      "text/plain": [
       "array(['Care Dental College, Guntur',\n",
       "       'Anil NeeruKonda Institute of Dental Sciences, Visakhapatnam',\n",
       "       'C.K.S. Theja Institute of Dental Sciences and Research, Tirupathi',\n",
       "       'Drs. Sudha and Nageswara Rao Siddhartha Inst. of Dental Sciences., Gannavaram',\n",
       "       'G. Pulla Reddy Dental College and Hospital, Kurnool',\n",
       "       'GITAM Dental College and Hospital, Visakhapatnam',\n",
       "       'Government Dental College and Hospital, Kadapa',\n",
       "       'Government Dental College and Hospital, Vijayawada',\n",
       "       'GSL Dental College and Hospital, Rajamahendravaram',\n",
       "       'KIMS Dental College and Hospital, Amalapuram',\n",
       "       'Lenora Institute of Dental Sciences, Rajamahendravaram',\n",
       "       'Narayana Dental College and Hospital, Nellore',\n",
       "       'Nimra Institute of Dental Sciences, Vijayawada',\n",
       "       'Sibar Institute of Dental Sciences, Guntur',\n",
       "       'Sree Sai Dental College and Research Institute, Srikakulum',\n",
       "       'St. Joseph Dental College, Eluru',\n",
       "       'Vishnu Dental College, Bhimavaram',\n",
       "       'Sree Sai Dental College and Research Institute'], dtype=object)"
      ]
     },
     "execution_count": 132,
     "metadata": {},
     "output_type": "execute_result"
    }
   ],
   "source": [
    "df[\"COLLEGE\"].unique()"
   ]
  },
  {
   "cell_type": "code",
   "execution_count": 133,
   "metadata": {},
   "outputs": [
    {
     "data": {
      "text/plain": [
       "COLLEGE           18\n",
       "RANK            1352\n",
       "NEET_ROLL_NO    1352\n",
       "SCORE            263\n",
       "SX                 2\n",
       "CAT                8\n",
       "LOC                6\n",
       "PHASE              9\n",
       "EWS                1\n",
       "dtype: int64"
      ]
     },
     "execution_count": 133,
     "metadata": {},
     "output_type": "execute_result"
    }
   ],
   "source": [
    "df.nunique()"
   ]
  },
  {
   "cell_type": "code",
   "execution_count": 134,
   "metadata": {},
   "outputs": [
    {
     "data": {
      "text/plain": [
       "array(['MOPUP6', 'P1', 'P2', 'MopUp', 'Mopup1', 'MopUp2', 'MopUp3',\n",
       "       'MopUp4', 'MOPUP5'], dtype=object)"
      ]
     },
     "execution_count": 134,
     "metadata": {},
     "output_type": "execute_result"
    }
   ],
   "source": [
    "df[\"PHASE\"].unique()"
   ]
  },
  {
   "cell_type": "code",
   "execution_count": 135,
   "metadata": {},
   "outputs": [
    {
     "data": {
      "text/plain": [
       "(1830, 9)"
      ]
     },
     "execution_count": 135,
     "metadata": {},
     "output_type": "execute_result"
    }
   ],
   "source": [
    "df.shape"
   ]
  },
  {
   "cell_type": "code",
   "execution_count": 136,
   "metadata": {},
   "outputs": [],
   "source": [
    "df=df.drop(['NEET_ROLL_NO','SCORE','EWS'],axis=1)"
   ]
  },
  {
   "cell_type": "code",
   "execution_count": 137,
   "metadata": {},
   "outputs": [
    {
     "data": {
      "text/html": [
       "<div>\n",
       "<style scoped>\n",
       "    .dataframe tbody tr th:only-of-type {\n",
       "        vertical-align: middle;\n",
       "    }\n",
       "\n",
       "    .dataframe tbody tr th {\n",
       "        vertical-align: top;\n",
       "    }\n",
       "\n",
       "    .dataframe thead th {\n",
       "        text-align: right;\n",
       "    }\n",
       "</style>\n",
       "<table border=\"1\" class=\"dataframe\">\n",
       "  <thead>\n",
       "    <tr style=\"text-align: right;\">\n",
       "      <th></th>\n",
       "      <th>COLLEGE</th>\n",
       "      <th>RANK</th>\n",
       "      <th>SX</th>\n",
       "      <th>CAT</th>\n",
       "      <th>LOC</th>\n",
       "      <th>PHASE</th>\n",
       "    </tr>\n",
       "  </thead>\n",
       "  <tbody>\n",
       "    <tr>\n",
       "      <th>0</th>\n",
       "      <td>Care Dental College, Guntur</td>\n",
       "      <td>410692</td>\n",
       "      <td>F</td>\n",
       "      <td>BCA</td>\n",
       "      <td>AU</td>\n",
       "      <td>MOPUP6</td>\n",
       "    </tr>\n",
       "    <tr>\n",
       "      <th>1</th>\n",
       "      <td>Anil NeeruKonda Institute of Dental Sciences, ...</td>\n",
       "      <td>102303</td>\n",
       "      <td>F</td>\n",
       "      <td>BCD</td>\n",
       "      <td>AU</td>\n",
       "      <td>P1</td>\n",
       "    </tr>\n",
       "    <tr>\n",
       "      <th>2</th>\n",
       "      <td>Anil NeeruKonda Institute of Dental Sciences, ...</td>\n",
       "      <td>105297</td>\n",
       "      <td>M</td>\n",
       "      <td>OC</td>\n",
       "      <td>SVU</td>\n",
       "      <td>P1</td>\n",
       "    </tr>\n",
       "    <tr>\n",
       "      <th>3</th>\n",
       "      <td>Anil NeeruKonda Institute of Dental Sciences, ...</td>\n",
       "      <td>109936</td>\n",
       "      <td>F</td>\n",
       "      <td>BCD</td>\n",
       "      <td>AU</td>\n",
       "      <td>P1</td>\n",
       "    </tr>\n",
       "    <tr>\n",
       "      <th>4</th>\n",
       "      <td>Anil NeeruKonda Institute of Dental Sciences, ...</td>\n",
       "      <td>112199</td>\n",
       "      <td>F</td>\n",
       "      <td>OC</td>\n",
       "      <td>AU</td>\n",
       "      <td>P1</td>\n",
       "    </tr>\n",
       "  </tbody>\n",
       "</table>\n",
       "</div>"
      ],
      "text/plain": [
       "                                             COLLEGE    RANK SX  CAT  LOC  \\\n",
       "0                        Care Dental College, Guntur  410692  F  BCA   AU   \n",
       "1  Anil NeeruKonda Institute of Dental Sciences, ...  102303  F  BCD   AU   \n",
       "2  Anil NeeruKonda Institute of Dental Sciences, ...  105297  M   OC  SVU   \n",
       "3  Anil NeeruKonda Institute of Dental Sciences, ...  109936  F  BCD   AU   \n",
       "4  Anil NeeruKonda Institute of Dental Sciences, ...  112199  F   OC   AU   \n",
       "\n",
       "    PHASE  \n",
       "0  MOPUP6  \n",
       "1      P1  \n",
       "2      P1  \n",
       "3      P1  \n",
       "4      P1  "
      ]
     },
     "execution_count": 137,
     "metadata": {},
     "output_type": "execute_result"
    }
   ],
   "source": [
    "df.head()"
   ]
  },
  {
   "cell_type": "code",
   "execution_count": 138,
   "metadata": {},
   "outputs": [
    {
     "data": {
      "text/plain": [
       "<Axes: xlabel='COLLEGE', ylabel='count'>"
      ]
     },
     "execution_count": 138,
     "metadata": {},
     "output_type": "execute_result"
    },
    {
     "data": {
      "image/png": "[encoded data removed]",
      "text/plain": [
       "<Figure size 640x480 with 1 Axes>"
      ]
     },
     "metadata": {},
     "output_type": "display_data"
    }
   ],
   "source": [
    "sns.countplot(data=df,x=\"COLLEGE\")"
   ]
  },
  {
   "cell_type": "code",
   "execution_count": 139,
   "metadata": {},
   "outputs": [],
   "source": [
    "from sklearn.preprocessing import LabelEncoder\n",
    "disorder_column = df['COLLEGE']\n",
    "label_encoder = LabelEncoder()\n",
    "encoded_values = label_encoder.fit_transform(disorder_column)\n",
    "label_mapping = dict(zip(label_encoder.classes_, label_encoder.transform(label_encoder.classes_)))\n",
    "df['COLLEGE'] = encoded_values"
   ]
  },
  {
   "cell_type": "code",
   "execution_count": 140,
   "metadata": {},
   "outputs": [],
   "source": [
    "from sklearn.preprocessing import LabelEncoder\n",
    "disorder_column = df['SX']\n",
    "label_encoder = LabelEncoder()\n",
    "encoded_values = label_encoder.fit_transform(disorder_column)\n",
    "label_mapping1 = dict(zip(label_encoder.classes_, label_encoder.transform(label_encoder.classes_)))\n",
    "df['SX'] = encoded_values"
   ]
  },
  {
   "cell_type": "code",
   "execution_count": 141,
   "metadata": {},
   "outputs": [],
   "source": [
    "from sklearn.preprocessing import LabelEncoder\n",
    "disorder_column = df['CAT']\n",
    "label_encoder = LabelEncoder()\n",
    "encoded_values = label_encoder.fit_transform(disorder_column)\n",
    "label_mapping1 = dict(zip(label_encoder.classes_, label_encoder.transform(label_encoder.classes_)))\n",
    "df['CAT'] = encoded_values"
   ]
  },
  {
   "cell_type": "code",
   "execution_count": 142,
   "metadata": {},
   "outputs": [
    {
     "data": {
      "text/html": [
       "<div>\n",
       "<style scoped>\n",
       "    .dataframe tbody tr th:only-of-type {\n",
       "        vertical-align: middle;\n",
       "    }\n",
       "\n",
       "    .dataframe tbody tr th {\n",
       "        vertical-align: top;\n",
       "    }\n",
       "\n",
       "    .dataframe thead th {\n",
       "        text-align: right;\n",
       "    }\n",
       "</style>\n",
       "<table border=\"1\" class=\"dataframe\">\n",
       "  <thead>\n",
       "    <tr style=\"text-align: right;\">\n",
       "      <th></th>\n",
       "      <th>COLLEGE</th>\n",
       "      <th>RANK</th>\n",
       "      <th>SX</th>\n",
       "      <th>CAT</th>\n",
       "      <th>LOC</th>\n",
       "      <th>PHASE</th>\n",
       "    </tr>\n",
       "  </thead>\n",
       "  <tbody>\n",
       "    <tr>\n",
       "      <th>0</th>\n",
       "      <td>2</td>\n",
       "      <td>410692</td>\n",
       "      <td>0</td>\n",
       "      <td>0</td>\n",
       "      <td>AU</td>\n",
       "      <td>MOPUP6</td>\n",
       "    </tr>\n",
       "    <tr>\n",
       "      <th>1</th>\n",
       "      <td>0</td>\n",
       "      <td>102303</td>\n",
       "      <td>0</td>\n",
       "      <td>3</td>\n",
       "      <td>AU</td>\n",
       "      <td>P1</td>\n",
       "    </tr>\n",
       "    <tr>\n",
       "      <th>2</th>\n",
       "      <td>0</td>\n",
       "      <td>105297</td>\n",
       "      <td>1</td>\n",
       "      <td>5</td>\n",
       "      <td>SVU</td>\n",
       "      <td>P1</td>\n",
       "    </tr>\n",
       "    <tr>\n",
       "      <th>3</th>\n",
       "      <td>0</td>\n",
       "      <td>109936</td>\n",
       "      <td>0</td>\n",
       "      <td>3</td>\n",
       "      <td>AU</td>\n",
       "      <td>P1</td>\n",
       "    </tr>\n",
       "    <tr>\n",
       "      <th>4</th>\n",
       "      <td>0</td>\n",
       "      <td>112199</td>\n",
       "      <td>0</td>\n",
       "      <td>5</td>\n",
       "      <td>AU</td>\n",
       "      <td>P1</td>\n",
       "    </tr>\n",
       "  </tbody>\n",
       "</table>\n",
       "</div>"
      ],
      "text/plain": [
       "   COLLEGE    RANK  SX  CAT  LOC   PHASE\n",
       "0        2  410692   0    0   AU  MOPUP6\n",
       "1        0  102303   0    3   AU      P1\n",
       "2        0  105297   1    5  SVU      P1\n",
       "3        0  109936   0    3   AU      P1\n",
       "4        0  112199   0    5   AU      P1"
      ]
     },
     "execution_count": 142,
     "metadata": {},
     "output_type": "execute_result"
    }
   ],
   "source": [
    "df.head()"
   ]
  },
  {
   "cell_type": "code",
   "execution_count": 143,
   "metadata": {},
   "outputs": [],
   "source": [
    "from sklearn.preprocessing import LabelEncoder\n",
    "disorder_column = df['LOC']\n",
    "label_encoder = LabelEncoder()\n",
    "encoded_values = label_encoder.fit_transform(disorder_column)\n",
    "label_mapping_loc = dict(zip(label_encoder.classes_, label_encoder.transform(label_encoder.classes_)))\n",
    "df['LOC'] = encoded_values"
   ]
  },
  {
   "cell_type": "code",
   "execution_count": 144,
   "metadata": {},
   "outputs": [],
   "source": [
    "from sklearn.preprocessing import LabelEncoder\n",
    "disorder_column = df['PHASE']\n",
    "label_encoder = LabelEncoder()\n",
    "encoded_values = label_encoder.fit_transform(disorder_column)\n",
    "label_mapping_phase = dict(zip(label_encoder.classes_, label_encoder.transform(label_encoder.classes_)))\n",
    "df['PHASE'] = encoded_values"
   ]
  },
  {
   "cell_type": "code",
   "execution_count": 145,
   "metadata": {},
   "outputs": [
    {
     "data": {
      "text/html": [
       "<div>\n",
       "<style scoped>\n",
       "    .dataframe tbody tr th:only-of-type {\n",
       "        vertical-align: middle;\n",
       "    }\n",
       "\n",
       "    .dataframe tbody tr th {\n",
       "        vertical-align: top;\n",
       "    }\n",
       "\n",
       "    .dataframe thead th {\n",
       "        text-align: right;\n",
       "    }\n",
       "</style>\n",
       "<table border=\"1\" class=\"dataframe\">\n",
       "  <thead>\n",
       "    <tr style=\"text-align: right;\">\n",
       "      <th></th>\n",
       "      <th>COLLEGE</th>\n",
       "      <th>RANK</th>\n",
       "      <th>SX</th>\n",
       "      <th>CAT</th>\n",
       "      <th>LOC</th>\n",
       "      <th>PHASE</th>\n",
       "    </tr>\n",
       "  </thead>\n",
       "  <tbody>\n",
       "    <tr>\n",
       "      <th>0</th>\n",
       "      <td>2</td>\n",
       "      <td>410692</td>\n",
       "      <td>0</td>\n",
       "      <td>0</td>\n",
       "      <td>1</td>\n",
       "      <td>1</td>\n",
       "    </tr>\n",
       "    <tr>\n",
       "      <th>1</th>\n",
       "      <td>0</td>\n",
       "      <td>102303</td>\n",
       "      <td>0</td>\n",
       "      <td>3</td>\n",
       "      <td>1</td>\n",
       "      <td>7</td>\n",
       "    </tr>\n",
       "    <tr>\n",
       "      <th>2</th>\n",
       "      <td>0</td>\n",
       "      <td>105297</td>\n",
       "      <td>1</td>\n",
       "      <td>5</td>\n",
       "      <td>5</td>\n",
       "      <td>7</td>\n",
       "    </tr>\n",
       "    <tr>\n",
       "      <th>3</th>\n",
       "      <td>0</td>\n",
       "      <td>109936</td>\n",
       "      <td>0</td>\n",
       "      <td>3</td>\n",
       "      <td>1</td>\n",
       "      <td>7</td>\n",
       "    </tr>\n",
       "    <tr>\n",
       "      <th>4</th>\n",
       "      <td>0</td>\n",
       "      <td>112199</td>\n",
       "      <td>0</td>\n",
       "      <td>5</td>\n",
       "      <td>1</td>\n",
       "      <td>7</td>\n",
       "    </tr>\n",
       "  </tbody>\n",
       "</table>\n",
       "</div>"
      ],
      "text/plain": [
       "   COLLEGE    RANK  SX  CAT  LOC  PHASE\n",
       "0        2  410692   0    0    1      1\n",
       "1        0  102303   0    3    1      7\n",
       "2        0  105297   1    5    5      7\n",
       "3        0  109936   0    3    1      7\n",
       "4        0  112199   0    5    1      7"
      ]
     },
     "execution_count": 145,
     "metadata": {},
     "output_type": "execute_result"
    }
   ],
   "source": [
    "df.head()"
   ]
  },
  {
   "cell_type": "code",
   "execution_count": 146,
   "metadata": {},
   "outputs": [
    {
     "data": {
      "text/plain": [
       "<Axes: xlabel='COLLEGE', ylabel='count'>"
      ]
     },
     "execution_count": 146,
     "metadata": {},
     "output_type": "execute_result"
    },
    {
     "data": {
      "image/png": "[encoded data removed]",
      "text/plain": [
       "<Figure size 640x480 with 1 Axes>"
      ]
     },
     "metadata": {},
     "output_type": "display_data"
    }
   ],
   "source": [
    "sns.countplot(x=df['COLLEGE'])"
   ]
  },
  {
   "cell_type": "code",
   "execution_count": 147,
   "metadata": {},
   "outputs": [
    {
     "data": {
      "text/plain": [
       "{'Anil NeeruKonda Institute of Dental Sciences, Visakhapatnam': 0,\n",
       " 'C.K.S. Theja Institute of Dental Sciences and Research, Tirupathi': 1,\n",
       " 'Care Dental College, Guntur': 2,\n",
       " 'Drs. Sudha and Nageswara Rao Siddhartha Inst. of Dental Sciences., Gannavaram': 3,\n",
       " 'G. Pulla Reddy Dental College and Hospital, Kurnool': 4,\n",
       " 'GITAM Dental College and Hospital, Visakhapatnam': 5,\n",
       " 'GSL Dental College and Hospital, Rajamahendravaram': 6,\n",
       " 'Government Dental College and Hospital, Kadapa': 7,\n",
       " 'Government Dental College and Hospital, Vijayawada': 8,\n",
       " 'KIMS Dental College and Hospital, Amalapuram': 9,\n",
       " 'Lenora Institute of Dental Sciences, Rajamahendravaram': 10,\n",
       " 'Narayana Dental College and Hospital, Nellore': 11,\n",
       " 'Nimra Institute of Dental Sciences, Vijayawada': 12,\n",
       " 'Sibar Institute of Dental Sciences, Guntur': 13,\n",
       " 'Sree Sai Dental College and Research Institute': 14,\n",
       " 'Sree Sai Dental College and Research Institute, Srikakulum': 15,\n",
       " 'St. Joseph Dental College, Eluru': 16,\n",
       " 'Vishnu Dental College, Bhimavaram': 17}"
      ]
     },
     "execution_count": 147,
     "metadata": {},
     "output_type": "execute_result"
    }
   ],
   "source": [
    "label_mapping"
   ]
  },
  {
   "cell_type": "code",
   "execution_count": 148,
   "metadata": {},
   "outputs": [],
   "source": [
    "df = df[~df['COLLEGE'].isin([14])]"
   ]
  },
  {
   "cell_type": "code",
   "execution_count": 149,
   "metadata": {},
   "outputs": [
    {
     "name": "stdout",
     "output_type": "stream",
     "text": [
      "      COLLEGE    RANK  SX  CAT  LOC  PHASE  discrete_column\n",
      "0           2  410692   0    0    1      1             25.0\n",
      "1           0  102303   0    3    1      7              2.0\n",
      "2           0  105297   1    5    5      7              3.0\n",
      "3           0  109936   0    3    1      7              3.0\n",
      "4           0  112199   0    5    1      7              3.0\n",
      "...       ...     ...  ..  ...  ...    ...              ...\n",
      "1824       12  270289   0    4    5      5             15.0\n",
      "1825       12  271433   1    4    5      5             15.0\n",
      "1826       15  256380   0    6    5      5             14.0\n",
      "1827        2  402867   0    0    1      0             24.0\n",
      "1828       12  271488   0    4    5      0             15.0\n",
      "\n",
      "[1829 rows x 7 columns]\n"
     ]
    },
    {
     "name": "stderr",
     "output_type": "stream",
     "text": [
      "/Users/namanmuktha/anaconda3/lib/python3.11/site-packages/sklearn/preprocessing/_discretization.py:248: FutureWarning: In version 1.5 onwards, subsample=200_000 will be used by default. Set subsample explicitly to silence this warning in the mean time. Set subsample=None to disable subsampling explicitly.\n",
      "  warnings.warn(\n"
     ]
    }
   ],
   "source": [
    "from sklearn.preprocessing import KBinsDiscretizer\n",
    "discretizer = KBinsDiscretizer(n_bins=75, encode='ordinal', strategy='uniform')\n",
    "\n",
    "# Fit and transform the continuous column\n",
    "df['discrete_column'] = discretizer.fit_transform(df[['RANK']])\n",
    "\n",
    "# Print the DataFrame with the discretized column\n",
    "print(df)"
   ]
  },
  {
   "cell_type": "code",
   "execution_count": 150,
   "metadata": {},
   "outputs": [
    {
     "data": {
      "text/plain": [
       "<Axes: xlabel='COLLEGE', ylabel='count'>"
      ]
     },
     "execution_count": 150,
     "metadata": {},
     "output_type": "execute_result"
    },
    {
     "data": {
      "image/png": "[encoded data removed]",
      "text/plain": [
       "<Figure size 640x480 with 1 Axes>"
      ]
     },
     "metadata": {},
     "output_type": "display_data"
    }
   ],
   "source": [
    "sns.countplot(x=df['COLLEGE'])"
   ]
  },
  {
   "cell_type": "code",
   "execution_count": 151,
   "metadata": {},
   "outputs": [],
   "source": [
    "from imblearn.over_sampling import RandomOverSampler\n",
    "oversampler = RandomOverSampler(random_state=420)"
   ]
  },
  {
   "cell_type": "code",
   "execution_count": 152,
   "metadata": {},
   "outputs": [],
   "source": [
    "X=df.drop(['COLLEGE'],axis=1)\n",
    "y=df['COLLEGE']"
   ]
  },
  {
   "cell_type": "code",
   "execution_count": 153,
   "metadata": {},
   "outputs": [],
   "source": [
    "X_resampled, y_resampled = oversampler.fit_resample(X,y)"
   ]
  },
  {
   "cell_type": "code",
   "execution_count": 154,
   "metadata": {},
   "outputs": [],
   "source": [
    "df_updated=X_resampled"
   ]
  },
  {
   "cell_type": "code",
   "execution_count": 155,
   "metadata": {},
   "outputs": [],
   "source": [
    "df_updated['COLLEGE']=y_resampled"
   ]
  },
  {
   "cell_type": "code",
   "execution_count": 156,
   "metadata": {},
   "outputs": [
    {
     "data": {
      "text/html": [
       "<div>\n",
       "<style scoped>\n",
       "    .dataframe tbody tr th:only-of-type {\n",
       "        vertical-align: middle;\n",
       "    }\n",
       "\n",
       "    .dataframe tbody tr th {\n",
       "        vertical-align: top;\n",
       "    }\n",
       "\n",
       "    .dataframe thead th {\n",
       "        text-align: right;\n",
       "    }\n",
       "</style>\n",
       "<table border=\"1\" class=\"dataframe\">\n",
       "  <thead>\n",
       "    <tr style=\"text-align: right;\">\n",
       "      <th></th>\n",
       "      <th>RANK</th>\n",
       "      <th>SX</th>\n",
       "      <th>CAT</th>\n",
       "      <th>LOC</th>\n",
       "      <th>PHASE</th>\n",
       "      <th>discrete_column</th>\n",
       "      <th>COLLEGE</th>\n",
       "    </tr>\n",
       "  </thead>\n",
       "  <tbody>\n",
       "    <tr>\n",
       "      <th>0</th>\n",
       "      <td>410692</td>\n",
       "      <td>0</td>\n",
       "      <td>0</td>\n",
       "      <td>1</td>\n",
       "      <td>1</td>\n",
       "      <td>25.0</td>\n",
       "      <td>2</td>\n",
       "    </tr>\n",
       "    <tr>\n",
       "      <th>1</th>\n",
       "      <td>102303</td>\n",
       "      <td>0</td>\n",
       "      <td>3</td>\n",
       "      <td>1</td>\n",
       "      <td>7</td>\n",
       "      <td>2.0</td>\n",
       "      <td>0</td>\n",
       "    </tr>\n",
       "    <tr>\n",
       "      <th>2</th>\n",
       "      <td>105297</td>\n",
       "      <td>1</td>\n",
       "      <td>5</td>\n",
       "      <td>5</td>\n",
       "      <td>7</td>\n",
       "      <td>3.0</td>\n",
       "      <td>0</td>\n",
       "    </tr>\n",
       "    <tr>\n",
       "      <th>3</th>\n",
       "      <td>109936</td>\n",
       "      <td>0</td>\n",
       "      <td>3</td>\n",
       "      <td>1</td>\n",
       "      <td>7</td>\n",
       "      <td>3.0</td>\n",
       "      <td>0</td>\n",
       "    </tr>\n",
       "    <tr>\n",
       "      <th>4</th>\n",
       "      <td>112199</td>\n",
       "      <td>0</td>\n",
       "      <td>5</td>\n",
       "      <td>1</td>\n",
       "      <td>7</td>\n",
       "      <td>3.0</td>\n",
       "      <td>0</td>\n",
       "    </tr>\n",
       "  </tbody>\n",
       "</table>\n",
       "</div>"
      ],
      "text/plain": [
       "     RANK  SX  CAT  LOC  PHASE  discrete_column  COLLEGE\n",
       "0  410692   0    0    1      1             25.0        2\n",
       "1  102303   0    3    1      7              2.0        0\n",
       "2  105297   1    5    5      7              3.0        0\n",
       "3  109936   0    3    1      7              3.0        0\n",
       "4  112199   0    5    1      7              3.0        0"
      ]
     },
     "execution_count": 156,
     "metadata": {},
     "output_type": "execute_result"
    }
   ],
   "source": [
    "df_updated.head()"
   ]
  },
  {
   "cell_type": "code",
   "execution_count": 157,
   "metadata": {},
   "outputs": [
    {
     "data": {
      "text/plain": [
       "<Axes: xlabel='COLLEGE', ylabel='count'>"
      ]
     },
     "execution_count": 157,
     "metadata": {},
     "output_type": "execute_result"
    },
    {
     "data": {
      "image/png": "[encoded data removed]",
      "text/plain": [
       "<Figure size 1600x800 with 1 Axes>"
      ]
     },
     "metadata": {},
     "output_type": "display_data"
    }
   ],
   "source": [
    "plt.figure(figsize=(16, 8))\n",
    "sns.countplot(x=df_updated['COLLEGE'])"
   ]
  },
  {
   "cell_type": "code",
   "execution_count": 158,
   "metadata": {},
   "outputs": [
    {
     "data": {
      "text/html": [
       "<div>\n",
       "<style scoped>\n",
       "    .dataframe tbody tr th:only-of-type {\n",
       "        vertical-align: middle;\n",
       "    }\n",
       "\n",
       "    .dataframe tbody tr th {\n",
       "        vertical-align: top;\n",
       "    }\n",
       "\n",
       "    .dataframe thead th {\n",
       "        text-align: right;\n",
       "    }\n",
       "</style>\n",
       "<table border=\"1\" class=\"dataframe\">\n",
       "  <thead>\n",
       "    <tr style=\"text-align: right;\">\n",
       "      <th></th>\n",
       "      <th>RANK</th>\n",
       "      <th>SX</th>\n",
       "      <th>CAT</th>\n",
       "      <th>LOC</th>\n",
       "      <th>PHASE</th>\n",
       "      <th>discrete_column</th>\n",
       "      <th>COLLEGE</th>\n",
       "    </tr>\n",
       "  </thead>\n",
       "  <tbody>\n",
       "    <tr>\n",
       "      <th>0</th>\n",
       "      <td>410692</td>\n",
       "      <td>0</td>\n",
       "      <td>0</td>\n",
       "      <td>1</td>\n",
       "      <td>1</td>\n",
       "      <td>25.0</td>\n",
       "      <td>2</td>\n",
       "    </tr>\n",
       "    <tr>\n",
       "      <th>1</th>\n",
       "      <td>102303</td>\n",
       "      <td>0</td>\n",
       "      <td>3</td>\n",
       "      <td>1</td>\n",
       "      <td>7</td>\n",
       "      <td>2.0</td>\n",
       "      <td>0</td>\n",
       "    </tr>\n",
       "    <tr>\n",
       "      <th>2</th>\n",
       "      <td>105297</td>\n",
       "      <td>1</td>\n",
       "      <td>5</td>\n",
       "      <td>5</td>\n",
       "      <td>7</td>\n",
       "      <td>3.0</td>\n",
       "      <td>0</td>\n",
       "    </tr>\n",
       "    <tr>\n",
       "      <th>3</th>\n",
       "      <td>109936</td>\n",
       "      <td>0</td>\n",
       "      <td>3</td>\n",
       "      <td>1</td>\n",
       "      <td>7</td>\n",
       "      <td>3.0</td>\n",
       "      <td>0</td>\n",
       "    </tr>\n",
       "    <tr>\n",
       "      <th>4</th>\n",
       "      <td>112199</td>\n",
       "      <td>0</td>\n",
       "      <td>5</td>\n",
       "      <td>1</td>\n",
       "      <td>7</td>\n",
       "      <td>3.0</td>\n",
       "      <td>0</td>\n",
       "    </tr>\n",
       "  </tbody>\n",
       "</table>\n",
       "</div>"
      ],
      "text/plain": [
       "     RANK  SX  CAT  LOC  PHASE  discrete_column  COLLEGE\n",
       "0  410692   0    0    1      1             25.0        2\n",
       "1  102303   0    3    1      7              2.0        0\n",
       "2  105297   1    5    5      7              3.0        0\n",
       "3  109936   0    3    1      7              3.0        0\n",
       "4  112199   0    5    1      7              3.0        0"
      ]
     },
     "execution_count": 158,
     "metadata": {},
     "output_type": "execute_result"
    }
   ],
   "source": [
    "df_updated.head()"
   ]
  },
  {
   "cell_type": "code",
   "execution_count": 159,
   "metadata": {},
   "outputs": [
    {
     "data": {
      "text/plain": [
       "(2924, 7)"
      ]
     },
     "execution_count": 159,
     "metadata": {},
     "output_type": "execute_result"
    }
   ],
   "source": [
    "\n",
    "\n",
    "df_updated.shape"
   ]
  },
  {
   "cell_type": "code",
   "execution_count": 160,
   "metadata": {},
   "outputs": [
    {
     "data": {
      "text/plain": [
       "count    2.924000e+03\n",
       "mean     2.198172e+05\n",
       "std      1.012700e+05\n",
       "min      6.402800e+04\n",
       "25%      1.583820e+05\n",
       "50%      2.047180e+05\n",
       "75%      2.570972e+05\n",
       "max      1.085495e+06\n",
       "Name: RANK, dtype: float64"
      ]
     },
     "execution_count": 160,
     "metadata": {},
     "output_type": "execute_result"
    }
   ],
   "source": [
    "df_updated[\"RANK\"].describe()"
   ]
  },
  {
   "cell_type": "code",
   "execution_count": 161,
   "metadata": {},
   "outputs": [],
   "source": [
    "from sklearn.model_selection import train_test_split \n",
    "X_train,X_test,y_train,y_test=train_test_split(df_updated.drop([\"COLLEGE\"],axis=1),df_updated[\"COLLEGE\"],test_size=0.2,random_state=231)"
   ]
  },
  {
   "cell_type": "code",
   "execution_count": 162,
   "metadata": {},
   "outputs": [
    {
     "data": {
      "text/html": [
       "<div>\n",
       "<style scoped>\n",
       "    .dataframe tbody tr th:only-of-type {\n",
       "        vertical-align: middle;\n",
       "    }\n",
       "\n",
       "    .dataframe tbody tr th {\n",
       "        vertical-align: top;\n",
       "    }\n",
       "\n",
       "    .dataframe thead th {\n",
       "        text-align: right;\n",
       "    }\n",
       "</style>\n",
       "<table border=\"1\" class=\"dataframe\">\n",
       "  <thead>\n",
       "    <tr style=\"text-align: right;\">\n",
       "      <th></th>\n",
       "      <th>RANK</th>\n",
       "      <th>SX</th>\n",
       "      <th>CAT</th>\n",
       "      <th>LOC</th>\n",
       "      <th>PHASE</th>\n",
       "      <th>discrete_column</th>\n",
       "    </tr>\n",
       "  </thead>\n",
       "  <tbody>\n",
       "    <tr>\n",
       "      <th>294</th>\n",
       "      <td>137490</td>\n",
       "      <td>0</td>\n",
       "      <td>0</td>\n",
       "      <td>5</td>\n",
       "      <td>7</td>\n",
       "      <td>5.0</td>\n",
       "    </tr>\n",
       "    <tr>\n",
       "      <th>1665</th>\n",
       "      <td>801824</td>\n",
       "      <td>0</td>\n",
       "      <td>4</td>\n",
       "      <td>1</td>\n",
       "      <td>2</td>\n",
       "      <td>54.0</td>\n",
       "    </tr>\n",
       "    <tr>\n",
       "      <th>12</th>\n",
       "      <td>157039</td>\n",
       "      <td>0</td>\n",
       "      <td>0</td>\n",
       "      <td>5</td>\n",
       "      <td>7</td>\n",
       "      <td>6.0</td>\n",
       "    </tr>\n",
       "    <tr>\n",
       "      <th>2812</th>\n",
       "      <td>252143</td>\n",
       "      <td>0</td>\n",
       "      <td>1</td>\n",
       "      <td>1</td>\n",
       "      <td>7</td>\n",
       "      <td>13.0</td>\n",
       "    </tr>\n",
       "    <tr>\n",
       "      <th>570</th>\n",
       "      <td>239027</td>\n",
       "      <td>0</td>\n",
       "      <td>1</td>\n",
       "      <td>1</td>\n",
       "      <td>7</td>\n",
       "      <td>12.0</td>\n",
       "    </tr>\n",
       "  </tbody>\n",
       "</table>\n",
       "</div>"
      ],
      "text/plain": [
       "        RANK  SX  CAT  LOC  PHASE  discrete_column\n",
       "294   137490   0    0    5      7              5.0\n",
       "1665  801824   0    4    1      2             54.0\n",
       "12    157039   0    0    5      7              6.0\n",
       "2812  252143   0    1    1      7             13.0\n",
       "570   239027   0    1    1      7             12.0"
      ]
     },
     "execution_count": 162,
     "metadata": {},
     "output_type": "execute_result"
    }
   ],
   "source": [
    "X_train.head()"
   ]
  },
  {
   "cell_type": "code",
   "execution_count": 163,
   "metadata": {},
   "outputs": [
    {
     "data": {
      "text/plain": [
       "294      7\n",
       "1665     9\n",
       "12       0\n",
       "2812    16\n",
       "570     12\n",
       "Name: COLLEGE, dtype: int64"
      ]
     },
     "execution_count": 163,
     "metadata": {},
     "output_type": "execute_result"
    }
   ],
   "source": [
    "y_train.head()"
   ]
  },
  {
   "cell_type": "code",
   "execution_count": 164,
   "metadata": {},
   "outputs": [
    {
     "name": "stdout",
     "output_type": "stream",
     "text": [
      "73.84615384615385\n",
      "[[17  0  0  0  0  0  2  0  0  4  3  0  0  0  2  1  0]\n",
      " [ 1 25  0  1  0  0  0  6  0  0  0  3  0  0  1  0  0]\n",
      " [ 1  0 33  0  0  1  0  0  0  1  1  2  2  1  1  2  0]\n",
      " [ 0  0  0 26  0  0  3  0  0  0  0  0  0  1  1  1  4]\n",
      " [ 0  3  0  0 40  0  0  1  0  0  0  3  0  0  0  1  0]\n",
      " [ 3  0  0  0  0 25  0  0  0  1  0  0  0  3  0  3  1]\n",
      " [ 0  0  3  0  0  1 22  0  0  0  0  0  0  0  1  0  0]\n",
      " [ 0  1  0  0  1  0  0 23  1  0  0  2  0  0  0  0  0]\n",
      " [ 0  0  0  0  0  0  0  2 29  0  0  0  0  0  0  0  1]\n",
      " [ 2  0  0  0  0  0  0  0  0 13  2  0  1  0  2  1  0]\n",
      " [ 0  0  0  0  0  0  0  0  0  6 22  0  0  0  3  3  1]\n",
      " [ 0  6  0  0  0  0  0  2  0  2  0 31  0  0  2  1  0]\n",
      " [ 0  1  0  0  0  1  0  0  0  0  1  1 41  0  0  0  0]\n",
      " [ 0  0  0  0  0  0  0  1  0  0  0  0  0 23  2  0  6]\n",
      " [ 0  0  0  0  0  0  1  0  0  0  1  0  1  0 18  1  0]\n",
      " [ 3  1  1  0  0  0  2  0  2  1  3  0  0  0  2 20  0]\n",
      " [ 1  0  0  3  0  1  0  0  0  0  1  0  1  2  0  0 24]]\n",
      "              precision    recall  f1-score   support\n",
      "\n",
      "           0       0.61      0.59      0.60        29\n",
      "           1       0.68      0.68      0.68        37\n",
      "           2       0.89      0.73      0.80        45\n",
      "           3       0.87      0.72      0.79        36\n",
      "           4       0.98      0.83      0.90        48\n",
      "           5       0.86      0.69      0.77        36\n",
      "           6       0.73      0.81      0.77        27\n",
      "           7       0.66      0.82      0.73        28\n",
      "           8       0.91      0.91      0.91        32\n",
      "           9       0.46      0.62      0.53        21\n",
      "          10       0.65      0.63      0.64        35\n",
      "          11       0.74      0.70      0.72        44\n",
      "          12       0.89      0.91      0.90        45\n",
      "          13       0.77      0.72      0.74        32\n",
      "          15       0.51      0.82      0.63        22\n",
      "          16       0.59      0.57      0.58        35\n",
      "          17       0.65      0.73      0.69        33\n",
      "\n",
      "    accuracy                           0.74       585\n",
      "   macro avg       0.73      0.73      0.73       585\n",
      "weighted avg       0.76      0.74      0.74       585\n",
      "\n"
     ]
    }
   ],
   "source": [
    "from sklearn.ensemble import RandomForestClassifier\n",
    "from sklearn.metrics import accuracy_score,confusion_matrix,classification_report\n",
    "rfc=RandomForestClassifier()\n",
    "rfc.fit(X_train,y_train)\n",
    "y_p=rfc.predict(X_test)\n",
    "print(accuracy_score(y_p,y_test)*100)\n",
    "print(confusion_matrix(y_p,y_test))\n",
    "print(classification_report(y_p,y_test))"
   ]
  },
  {
   "cell_type": "code",
   "execution_count": 165,
   "metadata": {},
   "outputs": [
    {
     "name": "stdout",
     "output_type": "stream",
     "text": [
      "0.7606837606837606\n",
      "              precision    recall  f1-score   support\n",
      "\n",
      "           0       0.54      0.62      0.58        24\n",
      "           1       0.65      0.60      0.62        40\n",
      "           2       0.95      0.80      0.86        44\n",
      "           3       0.77      0.66      0.71        35\n",
      "           4       1.00      0.91      0.95        45\n",
      "           5       0.86      0.76      0.81        33\n",
      "           6       0.83      0.86      0.85        29\n",
      "           7       0.63      0.85      0.72        26\n",
      "           8       0.91      0.94      0.92        31\n",
      "           9       0.57      0.64      0.60        25\n",
      "          10       0.68      0.66      0.67        35\n",
      "          11       0.74      0.63      0.68        49\n",
      "          12       0.85      0.95      0.90        41\n",
      "          13       0.87      0.79      0.83        33\n",
      "          15       0.60      0.81      0.69        26\n",
      "          16       0.62      0.62      0.62        34\n",
      "          17       0.78      0.83      0.81        35\n",
      "\n",
      "    accuracy                           0.76       585\n",
      "   macro avg       0.75      0.76      0.75       585\n",
      "weighted avg       0.77      0.76      0.76       585\n",
      "\n"
     ]
    }
   ],
   "source": [
    "from sklearn.tree import DecisionTreeClassifier\n",
    "dt=DecisionTreeClassifier()\n",
    "dt.fit(X_train,y_train)\n",
    "y_p=dt.predict(X_test)\n",
    "print(accuracy_score(y_p,y_test))\n",
    "print(classification_report(y_p,y_test))"
   ]
  },
  {
   "cell_type": "code",
   "execution_count": null,
   "metadata": {},
   "outputs": [],
   "source": []
  }
 ],
 "metadata": {
  "kernelspec": {
   "display_name": "base",
   "language": "python",
   "name": "python3"
  },
  "language_info": {
   "codemirror_mode": {
    "name": "ipython",
    "version": 3
   },
   "file_extension": ".py",
   "mimetype": "text/x-python",
   "name": "python",
   "nbconvert_exporter": "python",
   "pygments_lexer": "ipython3",
   "version": "3.11.5"
  }
 },
 "nbformat": 4,
 "nbformat_minor": 2
}
