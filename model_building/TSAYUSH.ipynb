{
 "cells": [
  {
   "cell_type": "code",
   "execution_count": 1,
   "metadata": {},
   "outputs": [],
   "source": [
    "import numpy as np \n",
    "import pandas as pd \n",
    "import seaborn as sns\n",
    "import matplotlib.pyplot as plt\n"
   ]
  },
  {
   "cell_type": "code",
   "execution_count": 2,
   "metadata": {},
   "outputs": [],
   "source": [
    "df=pd.read_csv('/Users/namanmuktha/Desktop/mediksearch/Tel & Ap Data/TelanganaAyushData.csv')"
   ]
  },
  {
   "cell_type": "code",
   "execution_count": 3,
   "metadata": {},
   "outputs": [
    {
     "data": {
      "text/html": [
       "<div>\n",
       "<style scoped>\n",
       "    .dataframe tbody tr th:only-of-type {\n",
       "        vertical-align: middle;\n",
       "    }\n",
       "\n",
       "    .dataframe tbody tr th {\n",
       "        vertical-align: top;\n",
       "    }\n",
       "\n",
       "    .dataframe thead th {\n",
       "        text-align: right;\n",
       "    }\n",
       "</style>\n",
       "<table border=\"1\" class=\"dataframe\">\n",
       "  <thead>\n",
       "    <tr style=\"text-align: right;\">\n",
       "      <th></th>\n",
       "      <th>COLLEGE</th>\n",
       "      <th>RANK</th>\n",
       "      <th>LOC</th>\n",
       "      <th>CAT</th>\n",
       "      <th>SX</th>\n",
       "      <th>EWS</th>\n",
       "      <th>PHASE</th>\n",
       "    </tr>\n",
       "  </thead>\n",
       "  <tbody>\n",
       "    <tr>\n",
       "      <th>0</th>\n",
       "      <td>DR. B.R.K.R. GOVT. AYURVEDIC COLLEGE, HYDERABAD.</td>\n",
       "      <td>86541.0</td>\n",
       "      <td>AU</td>\n",
       "      <td>OC</td>\n",
       "      <td>F</td>\n",
       "      <td>NO</td>\n",
       "      <td>P1</td>\n",
       "    </tr>\n",
       "    <tr>\n",
       "      <th>1</th>\n",
       "      <td>DR. B.R.K.R. GOVT. AYURVEDIC COLLEGE, HYDERABAD.</td>\n",
       "      <td>111166.0</td>\n",
       "      <td>AU</td>\n",
       "      <td>BCB</td>\n",
       "      <td>M</td>\n",
       "      <td>NO</td>\n",
       "      <td>P1</td>\n",
       "    </tr>\n",
       "    <tr>\n",
       "      <th>2</th>\n",
       "      <td>DR. B.R.K.R. GOVT. AYURVEDIC COLLEGE, HYDERABAD.</td>\n",
       "      <td>172588.0</td>\n",
       "      <td>OU</td>\n",
       "      <td>OC</td>\n",
       "      <td>M</td>\n",
       "      <td>NO</td>\n",
       "      <td>P1</td>\n",
       "    </tr>\n",
       "    <tr>\n",
       "      <th>3</th>\n",
       "      <td>DR. B.R.K.R. GOVT. AYURVEDIC COLLEGE, HYDERABAD.</td>\n",
       "      <td>180417.0</td>\n",
       "      <td>OU</td>\n",
       "      <td>BCD</td>\n",
       "      <td>F</td>\n",
       "      <td>NO</td>\n",
       "      <td>P1</td>\n",
       "    </tr>\n",
       "    <tr>\n",
       "      <th>4</th>\n",
       "      <td>DR. B.R.K.R. GOVT. AYURVEDIC COLLEGE, HYDERABAD.</td>\n",
       "      <td>181467.0</td>\n",
       "      <td>OU</td>\n",
       "      <td>BCD</td>\n",
       "      <td>F</td>\n",
       "      <td>NO</td>\n",
       "      <td>P1</td>\n",
       "    </tr>\n",
       "  </tbody>\n",
       "</table>\n",
       "</div>"
      ],
      "text/plain": [
       "                                            COLLEGE      RANK LOC  CAT SX EWS  \\\n",
       "0  DR. B.R.K.R. GOVT. AYURVEDIC COLLEGE, HYDERABAD.   86541.0  AU   OC  F  NO   \n",
       "1  DR. B.R.K.R. GOVT. AYURVEDIC COLLEGE, HYDERABAD.  111166.0  AU  BCB  M  NO   \n",
       "2  DR. B.R.K.R. GOVT. AYURVEDIC COLLEGE, HYDERABAD.  172588.0  OU   OC  M  NO   \n",
       "3  DR. B.R.K.R. GOVT. AYURVEDIC COLLEGE, HYDERABAD.  180417.0  OU  BCD  F  NO   \n",
       "4  DR. B.R.K.R. GOVT. AYURVEDIC COLLEGE, HYDERABAD.  181467.0  OU  BCD  F  NO   \n",
       "\n",
       "  PHASE  \n",
       "0    P1  \n",
       "1    P1  \n",
       "2    P1  \n",
       "3    P1  \n",
       "4    P1  "
      ]
     },
     "execution_count": 3,
     "metadata": {},
     "output_type": "execute_result"
    }
   ],
   "source": [
    "df.head()"
   ]
  },
  {
   "cell_type": "code",
   "execution_count": 4,
   "metadata": {},
   "outputs": [
    {
     "data": {
      "text/plain": [
       "COLLEGE    0\n",
       "RANK       4\n",
       "LOC        4\n",
       "CAT        4\n",
       "SX         4\n",
       "EWS        0\n",
       "PHASE      4\n",
       "dtype: int64"
      ]
     },
     "execution_count": 4,
     "metadata": {},
     "output_type": "execute_result"
    }
   ],
   "source": [
    "df.isna().sum()"
   ]
  },
  {
   "cell_type": "code",
   "execution_count": 5,
   "metadata": {},
   "outputs": [],
   "source": [
    "df=df.dropna()"
   ]
  },
  {
   "cell_type": "code",
   "execution_count": 6,
   "metadata": {},
   "outputs": [
    {
     "data": {
      "text/html": [
       "<div>\n",
       "<style scoped>\n",
       "    .dataframe tbody tr th:only-of-type {\n",
       "        vertical-align: middle;\n",
       "    }\n",
       "\n",
       "    .dataframe tbody tr th {\n",
       "        vertical-align: top;\n",
       "    }\n",
       "\n",
       "    .dataframe thead th {\n",
       "        text-align: right;\n",
       "    }\n",
       "</style>\n",
       "<table border=\"1\" class=\"dataframe\">\n",
       "  <thead>\n",
       "    <tr style=\"text-align: right;\">\n",
       "      <th></th>\n",
       "      <th>COLLEGE</th>\n",
       "      <th>RANK</th>\n",
       "      <th>LOC</th>\n",
       "      <th>CAT</th>\n",
       "      <th>SX</th>\n",
       "      <th>EWS</th>\n",
       "      <th>PHASE</th>\n",
       "    </tr>\n",
       "  </thead>\n",
       "  <tbody>\n",
       "    <tr>\n",
       "      <th>0</th>\n",
       "      <td>DR. B.R.K.R. GOVT. AYURVEDIC COLLEGE, HYDERABAD.</td>\n",
       "      <td>86541.0</td>\n",
       "      <td>AU</td>\n",
       "      <td>OC</td>\n",
       "      <td>F</td>\n",
       "      <td>NO</td>\n",
       "      <td>P1</td>\n",
       "    </tr>\n",
       "    <tr>\n",
       "      <th>1</th>\n",
       "      <td>DR. B.R.K.R. GOVT. AYURVEDIC COLLEGE, HYDERABAD.</td>\n",
       "      <td>111166.0</td>\n",
       "      <td>AU</td>\n",
       "      <td>BCB</td>\n",
       "      <td>M</td>\n",
       "      <td>NO</td>\n",
       "      <td>P1</td>\n",
       "    </tr>\n",
       "    <tr>\n",
       "      <th>2</th>\n",
       "      <td>DR. B.R.K.R. GOVT. AYURVEDIC COLLEGE, HYDERABAD.</td>\n",
       "      <td>172588.0</td>\n",
       "      <td>OU</td>\n",
       "      <td>OC</td>\n",
       "      <td>M</td>\n",
       "      <td>NO</td>\n",
       "      <td>P1</td>\n",
       "    </tr>\n",
       "    <tr>\n",
       "      <th>3</th>\n",
       "      <td>DR. B.R.K.R. GOVT. AYURVEDIC COLLEGE, HYDERABAD.</td>\n",
       "      <td>180417.0</td>\n",
       "      <td>OU</td>\n",
       "      <td>BCD</td>\n",
       "      <td>F</td>\n",
       "      <td>NO</td>\n",
       "      <td>P1</td>\n",
       "    </tr>\n",
       "    <tr>\n",
       "      <th>4</th>\n",
       "      <td>DR. B.R.K.R. GOVT. AYURVEDIC COLLEGE, HYDERABAD.</td>\n",
       "      <td>181467.0</td>\n",
       "      <td>OU</td>\n",
       "      <td>BCD</td>\n",
       "      <td>F</td>\n",
       "      <td>NO</td>\n",
       "      <td>P1</td>\n",
       "    </tr>\n",
       "  </tbody>\n",
       "</table>\n",
       "</div>"
      ],
      "text/plain": [
       "                                            COLLEGE      RANK LOC  CAT SX EWS  \\\n",
       "0  DR. B.R.K.R. GOVT. AYURVEDIC COLLEGE, HYDERABAD.   86541.0  AU   OC  F  NO   \n",
       "1  DR. B.R.K.R. GOVT. AYURVEDIC COLLEGE, HYDERABAD.  111166.0  AU  BCB  M  NO   \n",
       "2  DR. B.R.K.R. GOVT. AYURVEDIC COLLEGE, HYDERABAD.  172588.0  OU   OC  M  NO   \n",
       "3  DR. B.R.K.R. GOVT. AYURVEDIC COLLEGE, HYDERABAD.  180417.0  OU  BCD  F  NO   \n",
       "4  DR. B.R.K.R. GOVT. AYURVEDIC COLLEGE, HYDERABAD.  181467.0  OU  BCD  F  NO   \n",
       "\n",
       "  PHASE  \n",
       "0    P1  \n",
       "1    P1  \n",
       "2    P1  \n",
       "3    P1  \n",
       "4    P1  "
      ]
     },
     "execution_count": 6,
     "metadata": {},
     "output_type": "execute_result"
    }
   ],
   "source": [
    "df.head()"
   ]
  },
  {
   "cell_type": "code",
   "execution_count": 7,
   "metadata": {},
   "outputs": [
    {
     "data": {
      "text/plain": [
       "COLLEGE    0\n",
       "RANK       0\n",
       "LOC        0\n",
       "CAT        0\n",
       "SX         0\n",
       "EWS        0\n",
       "PHASE      0\n",
       "dtype: int64"
      ]
     },
     "execution_count": 7,
     "metadata": {},
     "output_type": "execute_result"
    }
   ],
   "source": [
    "df.isna().sum()"
   ]
  },
  {
   "cell_type": "code",
   "execution_count": 9,
   "metadata": {},
   "outputs": [
    {
     "data": {
      "text/plain": [
       "array([[<Axes: title={'center': 'RANK'}>]], dtype=object)"
      ]
     },
     "execution_count": 9,
     "metadata": {},
     "output_type": "execute_result"
    },
    {
     "data": {
      "image/png": "[encoded data removed]",
      "text/plain": [
       "<Figure size 640x480 with 1 Axes>"
      ]
     },
     "metadata": {},
     "output_type": "display_data"
    }
   ],
   "source": [
    "df.hist()"
   ]
  },
  {
   "cell_type": "code",
   "execution_count": 12,
   "metadata": {},
   "outputs": [
    {
     "data": {
      "text/plain": [
       "count    1.895000e+03\n",
       "mean     3.460320e+05\n",
       "std      1.395174e+05\n",
       "min      8.654100e+04\n",
       "25%      2.612175e+05\n",
       "50%      3.196990e+05\n",
       "75%      3.978275e+05\n",
       "max      1.191440e+06\n",
       "Name: RANK, dtype: float64"
      ]
     },
     "execution_count": 12,
     "metadata": {},
     "output_type": "execute_result"
    }
   ],
   "source": [
    "df[\"RANK\"].describe()"
   ]
  },
  {
   "cell_type": "code",
   "execution_count": 13,
   "metadata": {},
   "outputs": [
    {
     "data": {
      "text/plain": [
       "(1895, 7)"
      ]
     },
     "execution_count": 13,
     "metadata": {},
     "output_type": "execute_result"
    }
   ],
   "source": [
    "df.shape"
   ]
  },
  {
   "cell_type": "code",
   "execution_count": 14,
   "metadata": {},
   "outputs": [
    {
     "data": {
      "text/plain": [
       "COLLEGE     10\n",
       "RANK       714\n",
       "LOC          4\n",
       "CAT          8\n",
       "SX           2\n",
       "EWS          2\n",
       "PHASE        4\n",
       "dtype: int64"
      ]
     },
     "execution_count": 14,
     "metadata": {},
     "output_type": "execute_result"
    }
   ],
   "source": [
    "df.nunique()"
   ]
  },
  {
   "cell_type": "code",
   "execution_count": 15,
   "metadata": {},
   "outputs": [
    {
     "data": {
      "text/plain": [
       "COLLEGE     10\n",
       "RANK       714\n",
       "LOC          4\n",
       "CAT          8\n",
       "SX           2\n",
       "EWS          2\n",
       "PHASE        4\n",
       "dtype: int64"
      ]
     },
     "execution_count": 15,
     "metadata": {},
     "output_type": "execute_result"
    }
   ],
   "source": [
    "df.nunique()"
   ]
  },
  {
   "cell_type": "code",
   "execution_count": 16,
   "metadata": {},
   "outputs": [
    {
     "data": {
      "text/plain": [
       "<Axes: xlabel='COLLEGE', ylabel='count'>"
      ]
     },
     "execution_count": 16,
     "metadata": {},
     "output_type": "execute_result"
    },
    {
     "data": {
      "image/png": "[encoded data removed]",
      "text/plain": [
       "<Figure size 640x480 with 1 Axes>"
      ]
     },
     "metadata": {},
     "output_type": "display_data"
    }
   ],
   "source": [
    "sns.countplot(data=df,x=\"COLLEGE\")"
   ]
  },
  {
   "cell_type": "code",
   "execution_count": 17,
   "metadata": {},
   "outputs": [],
   "source": [
    "from sklearn.preprocessing import LabelEncoder\n",
    "disorder_column = df['COLLEGE']\n",
    "label_encoder = LabelEncoder()\n",
    "encoded_values = label_encoder.fit_transform(disorder_column)\n",
    "label_mapping = dict(zip(label_encoder.classes_, label_encoder.transform(label_encoder.classes_)))\n",
    "df['COLLEGE'] = encoded_values"
   ]
  },
  {
   "cell_type": "code",
   "execution_count": 18,
   "metadata": {},
   "outputs": [],
   "source": [
    "from sklearn.preprocessing import LabelEncoder\n",
    "disorder_column = df['SX']\n",
    "label_encoder = LabelEncoder()\n",
    "encoded_values = label_encoder.fit_transform(disorder_column)\n",
    "label_mapping1 = dict(zip(label_encoder.classes_, label_encoder.transform(label_encoder.classes_)))\n",
    "df['SX'] = encoded_values"
   ]
  },
  {
   "cell_type": "code",
   "execution_count": 19,
   "metadata": {},
   "outputs": [],
   "source": [
    "one_hot_encoded = pd.get_dummies(df['CAT'], prefix='CAT')\n",
    "\n",
    "# Drop the original 'CAT' column from the DataFrame\n",
    "df = df.drop('CAT', axis=1)\n",
    "\n",
    "# Concatenate the original DataFrame with the one-hot encoded DataFrame\n",
    "df = pd.concat([df, one_hot_encoded], axis=1)\n"
   ]
  },
  {
   "cell_type": "code",
   "execution_count": 20,
   "metadata": {},
   "outputs": [],
   "source": [
    "\n",
    "from sklearn.preprocessing import LabelEncoder\n",
    "disorder_column = df['LOC']\n",
    "label_encoder = LabelEncoder()\n",
    "encoded_values = label_encoder.fit_transform(disorder_column)\n",
    "label_mapping_loc = dict(zip(label_encoder.classes_, label_encoder.transform(label_encoder.classes_)))\n",
    "df['LOC'] = encoded_values"
   ]
  },
  {
   "cell_type": "code",
   "execution_count": 21,
   "metadata": {},
   "outputs": [],
   "source": [
    "from sklearn.preprocessing import LabelEncoder\n",
    "disorder_column = df['PHASE']\n",
    "label_encoder = LabelEncoder()\n",
    "encoded_values = label_encoder.fit_transform(disorder_column)\n",
    "label_mapping_phase = dict(zip(label_encoder.classes_, label_encoder.transform(label_encoder.classes_)))\n",
    "df['PHASE'] = encoded_values"
   ]
  },
  {
   "cell_type": "code",
   "execution_count": 22,
   "metadata": {},
   "outputs": [],
   "source": [
    "from sklearn.preprocessing import LabelEncoder\n",
    "disorder_column = df['EWS']\n",
    "label_encoder = LabelEncoder()\n",
    "encoded_values = label_encoder.fit_transform(disorder_column)\n",
    "label_mapping_phase = dict(zip(label_encoder.classes_, label_encoder.transform(label_encoder.classes_)))\n",
    "df['EWS'] = encoded_values"
   ]
  },
  {
   "cell_type": "code",
   "execution_count": 23,
   "metadata": {},
   "outputs": [
    {
     "data": {
      "text/html": [
       "<div>\n",
       "<style scoped>\n",
       "    .dataframe tbody tr th:only-of-type {\n",
       "        vertical-align: middle;\n",
       "    }\n",
       "\n",
       "    .dataframe tbody tr th {\n",
       "        vertical-align: top;\n",
       "    }\n",
       "\n",
       "    .dataframe thead th {\n",
       "        text-align: right;\n",
       "    }\n",
       "</style>\n",
       "<table border=\"1\" class=\"dataframe\">\n",
       "  <thead>\n",
       "    <tr style=\"text-align: right;\">\n",
       "      <th></th>\n",
       "      <th>COLLEGE</th>\n",
       "      <th>RANK</th>\n",
       "      <th>LOC</th>\n",
       "      <th>SX</th>\n",
       "      <th>EWS</th>\n",
       "      <th>PHASE</th>\n",
       "      <th>CAT_BCA</th>\n",
       "      <th>CAT_BCB</th>\n",
       "      <th>CAT_BCC</th>\n",
       "      <th>CAT_BCD</th>\n",
       "      <th>CAT_BCE</th>\n",
       "      <th>CAT_OC</th>\n",
       "      <th>CAT_SC</th>\n",
       "      <th>CAT_ST</th>\n",
       "    </tr>\n",
       "  </thead>\n",
       "  <tbody>\n",
       "    <tr>\n",
       "      <th>0</th>\n",
       "      <td>2</td>\n",
       "      <td>86541.0</td>\n",
       "      <td>0</td>\n",
       "      <td>0</td>\n",
       "      <td>0</td>\n",
       "      <td>0</td>\n",
       "      <td>False</td>\n",
       "      <td>False</td>\n",
       "      <td>False</td>\n",
       "      <td>False</td>\n",
       "      <td>False</td>\n",
       "      <td>True</td>\n",
       "      <td>False</td>\n",
       "      <td>False</td>\n",
       "    </tr>\n",
       "    <tr>\n",
       "      <th>1</th>\n",
       "      <td>2</td>\n",
       "      <td>111166.0</td>\n",
       "      <td>0</td>\n",
       "      <td>1</td>\n",
       "      <td>0</td>\n",
       "      <td>0</td>\n",
       "      <td>False</td>\n",
       "      <td>True</td>\n",
       "      <td>False</td>\n",
       "      <td>False</td>\n",
       "      <td>False</td>\n",
       "      <td>False</td>\n",
       "      <td>False</td>\n",
       "      <td>False</td>\n",
       "    </tr>\n",
       "    <tr>\n",
       "      <th>2</th>\n",
       "      <td>2</td>\n",
       "      <td>172588.0</td>\n",
       "      <td>2</td>\n",
       "      <td>1</td>\n",
       "      <td>0</td>\n",
       "      <td>0</td>\n",
       "      <td>False</td>\n",
       "      <td>False</td>\n",
       "      <td>False</td>\n",
       "      <td>False</td>\n",
       "      <td>False</td>\n",
       "      <td>True</td>\n",
       "      <td>False</td>\n",
       "      <td>False</td>\n",
       "    </tr>\n",
       "    <tr>\n",
       "      <th>3</th>\n",
       "      <td>2</td>\n",
       "      <td>180417.0</td>\n",
       "      <td>2</td>\n",
       "      <td>0</td>\n",
       "      <td>0</td>\n",
       "      <td>0</td>\n",
       "      <td>False</td>\n",
       "      <td>False</td>\n",
       "      <td>False</td>\n",
       "      <td>True</td>\n",
       "      <td>False</td>\n",
       "      <td>False</td>\n",
       "      <td>False</td>\n",
       "      <td>False</td>\n",
       "    </tr>\n",
       "    <tr>\n",
       "      <th>4</th>\n",
       "      <td>2</td>\n",
       "      <td>181467.0</td>\n",
       "      <td>2</td>\n",
       "      <td>0</td>\n",
       "      <td>0</td>\n",
       "      <td>0</td>\n",
       "      <td>False</td>\n",
       "      <td>False</td>\n",
       "      <td>False</td>\n",
       "      <td>True</td>\n",
       "      <td>False</td>\n",
       "      <td>False</td>\n",
       "      <td>False</td>\n",
       "      <td>False</td>\n",
       "    </tr>\n",
       "  </tbody>\n",
       "</table>\n",
       "</div>"
      ],
      "text/plain": [
       "   COLLEGE      RANK  LOC  SX  EWS  PHASE  CAT_BCA  CAT_BCB  CAT_BCC  CAT_BCD  \\\n",
       "0        2   86541.0    0   0    0      0    False    False    False    False   \n",
       "1        2  111166.0    0   1    0      0    False     True    False    False   \n",
       "2        2  172588.0    2   1    0      0    False    False    False    False   \n",
       "3        2  180417.0    2   0    0      0    False    False    False     True   \n",
       "4        2  181467.0    2   0    0      0    False    False    False     True   \n",
       "\n",
       "   CAT_BCE  CAT_OC  CAT_SC  CAT_ST  \n",
       "0    False    True   False   False  \n",
       "1    False   False   False   False  \n",
       "2    False    True   False   False  \n",
       "3    False   False   False   False  \n",
       "4    False   False   False   False  "
      ]
     },
     "execution_count": 23,
     "metadata": {},
     "output_type": "execute_result"
    }
   ],
   "source": [
    "df.head()"
   ]
  },
  {
   "cell_type": "code",
   "execution_count": 24,
   "metadata": {},
   "outputs": [
    {
     "name": "stdout",
     "output_type": "stream",
     "text": [
      "      COLLEGE      RANK  LOC  SX  EWS  PHASE  CAT_BCA  CAT_BCB  CAT_BCC  \\\n",
      "0           2   86541.0    0   0    0      0    False    False    False   \n",
      "1           2  111166.0    0   1    0      0    False     True    False   \n",
      "2           2  172588.0    2   1    0      0    False    False    False   \n",
      "3           2  180417.0    2   0    0      0    False    False    False   \n",
      "4           2  181467.0    2   0    0      0    False    False    False   \n",
      "...       ...       ...  ...  ..  ...    ...      ...      ...      ...   \n",
      "1894        5  507762.0    2   0    0      2    False    False    False   \n",
      "1895        5  628117.0    2   0    0      1    False    False    False   \n",
      "1896        5  746570.0    2   0    0      1    False    False    False   \n",
      "1897        5  844440.0    2   1    0      3    False    False    False   \n",
      "1898        5  911951.0    2   1    0      3    False    False    False   \n",
      "\n",
      "      CAT_BCD  CAT_BCE  CAT_OC  CAT_SC  CAT_ST  discrete_column  \n",
      "0       False    False    True   False   False              0.0  \n",
      "1       False    False   False   False   False              1.0  \n",
      "2       False    False    True   False   False              5.0  \n",
      "3        True    False   False   False   False              6.0  \n",
      "4        True    False   False   False   False              6.0  \n",
      "...       ...      ...     ...     ...     ...              ...  \n",
      "1894    False    False   False   False    True             28.0  \n",
      "1895    False    False   False   False    True             36.0  \n",
      "1896    False    False   False   False    True             44.0  \n",
      "1897    False    False   False   False    True             51.0  \n",
      "1898    False    False   False   False    True             56.0  \n",
      "\n",
      "[1895 rows x 15 columns]\n"
     ]
    },
    {
     "name": "stderr",
     "output_type": "stream",
     "text": [
      "/Users/namanmuktha/anaconda3/lib/python3.11/site-packages/sklearn/preprocessing/_discretization.py:248: FutureWarning: In version 1.5 onwards, subsample=200_000 will be used by default. Set subsample explicitly to silence this warning in the mean time. Set subsample=None to disable subsampling explicitly.\n",
      "  warnings.warn(\n"
     ]
    }
   ],
   "source": [
    "from sklearn.preprocessing import KBinsDiscretizer\n",
    "discretizer = KBinsDiscretizer(n_bins=75, encode='ordinal', strategy='uniform')\n",
    "\n",
    "# Fit and transform the continuous column\n",
    "df['discrete_column'] = discretizer.fit_transform(df[['RANK']])\n",
    "\n",
    "# Print the DataFrame with the discretized column\n",
    "print(df)"
   ]
  },
  {
   "cell_type": "code",
   "execution_count": 25,
   "metadata": {},
   "outputs": [
    {
     "data": {
      "text/html": [
       "<div>\n",
       "<style scoped>\n",
       "    .dataframe tbody tr th:only-of-type {\n",
       "        vertical-align: middle;\n",
       "    }\n",
       "\n",
       "    .dataframe tbody tr th {\n",
       "        vertical-align: top;\n",
       "    }\n",
       "\n",
       "    .dataframe thead th {\n",
       "        text-align: right;\n",
       "    }\n",
       "</style>\n",
       "<table border=\"1\" class=\"dataframe\">\n",
       "  <thead>\n",
       "    <tr style=\"text-align: right;\">\n",
       "      <th></th>\n",
       "      <th>COLLEGE</th>\n",
       "      <th>RANK</th>\n",
       "      <th>LOC</th>\n",
       "      <th>SX</th>\n",
       "      <th>EWS</th>\n",
       "      <th>PHASE</th>\n",
       "      <th>CAT_BCA</th>\n",
       "      <th>CAT_BCB</th>\n",
       "      <th>CAT_BCC</th>\n",
       "      <th>CAT_BCD</th>\n",
       "      <th>CAT_BCE</th>\n",
       "      <th>CAT_OC</th>\n",
       "      <th>CAT_SC</th>\n",
       "      <th>CAT_ST</th>\n",
       "      <th>discrete_column</th>\n",
       "    </tr>\n",
       "  </thead>\n",
       "  <tbody>\n",
       "    <tr>\n",
       "      <th>0</th>\n",
       "      <td>2</td>\n",
       "      <td>86541.0</td>\n",
       "      <td>0</td>\n",
       "      <td>0</td>\n",
       "      <td>0</td>\n",
       "      <td>0</td>\n",
       "      <td>False</td>\n",
       "      <td>False</td>\n",
       "      <td>False</td>\n",
       "      <td>False</td>\n",
       "      <td>False</td>\n",
       "      <td>True</td>\n",
       "      <td>False</td>\n",
       "      <td>False</td>\n",
       "      <td>0.0</td>\n",
       "    </tr>\n",
       "    <tr>\n",
       "      <th>1</th>\n",
       "      <td>2</td>\n",
       "      <td>111166.0</td>\n",
       "      <td>0</td>\n",
       "      <td>1</td>\n",
       "      <td>0</td>\n",
       "      <td>0</td>\n",
       "      <td>False</td>\n",
       "      <td>True</td>\n",
       "      <td>False</td>\n",
       "      <td>False</td>\n",
       "      <td>False</td>\n",
       "      <td>False</td>\n",
       "      <td>False</td>\n",
       "      <td>False</td>\n",
       "      <td>1.0</td>\n",
       "    </tr>\n",
       "    <tr>\n",
       "      <th>2</th>\n",
       "      <td>2</td>\n",
       "      <td>172588.0</td>\n",
       "      <td>2</td>\n",
       "      <td>1</td>\n",
       "      <td>0</td>\n",
       "      <td>0</td>\n",
       "      <td>False</td>\n",
       "      <td>False</td>\n",
       "      <td>False</td>\n",
       "      <td>False</td>\n",
       "      <td>False</td>\n",
       "      <td>True</td>\n",
       "      <td>False</td>\n",
       "      <td>False</td>\n",
       "      <td>5.0</td>\n",
       "    </tr>\n",
       "    <tr>\n",
       "      <th>3</th>\n",
       "      <td>2</td>\n",
       "      <td>180417.0</td>\n",
       "      <td>2</td>\n",
       "      <td>0</td>\n",
       "      <td>0</td>\n",
       "      <td>0</td>\n",
       "      <td>False</td>\n",
       "      <td>False</td>\n",
       "      <td>False</td>\n",
       "      <td>True</td>\n",
       "      <td>False</td>\n",
       "      <td>False</td>\n",
       "      <td>False</td>\n",
       "      <td>False</td>\n",
       "      <td>6.0</td>\n",
       "    </tr>\n",
       "    <tr>\n",
       "      <th>4</th>\n",
       "      <td>2</td>\n",
       "      <td>181467.0</td>\n",
       "      <td>2</td>\n",
       "      <td>0</td>\n",
       "      <td>0</td>\n",
       "      <td>0</td>\n",
       "      <td>False</td>\n",
       "      <td>False</td>\n",
       "      <td>False</td>\n",
       "      <td>True</td>\n",
       "      <td>False</td>\n",
       "      <td>False</td>\n",
       "      <td>False</td>\n",
       "      <td>False</td>\n",
       "      <td>6.0</td>\n",
       "    </tr>\n",
       "  </tbody>\n",
       "</table>\n",
       "</div>"
      ],
      "text/plain": [
       "   COLLEGE      RANK  LOC  SX  EWS  PHASE  CAT_BCA  CAT_BCB  CAT_BCC  CAT_BCD  \\\n",
       "0        2   86541.0    0   0    0      0    False    False    False    False   \n",
       "1        2  111166.0    0   1    0      0    False     True    False    False   \n",
       "2        2  172588.0    2   1    0      0    False    False    False    False   \n",
       "3        2  180417.0    2   0    0      0    False    False    False     True   \n",
       "4        2  181467.0    2   0    0      0    False    False    False     True   \n",
       "\n",
       "   CAT_BCE  CAT_OC  CAT_SC  CAT_ST  discrete_column  \n",
       "0    False    True   False   False              0.0  \n",
       "1    False   False   False   False              1.0  \n",
       "2    False    True   False   False              5.0  \n",
       "3    False   False   False   False              6.0  \n",
       "4    False   False   False   False              6.0  "
      ]
     },
     "execution_count": 25,
     "metadata": {},
     "output_type": "execute_result"
    }
   ],
   "source": [
    "df.head()"
   ]
  },
  {
   "cell_type": "code",
   "execution_count": 26,
   "metadata": {},
   "outputs": [
    {
     "data": {
      "text/plain": [
       "COLLEGE             10\n",
       "RANK               714\n",
       "LOC                  4\n",
       "SX                   2\n",
       "EWS                  2\n",
       "PHASE                4\n",
       "CAT_BCA              2\n",
       "CAT_BCB              2\n",
       "CAT_BCC              2\n",
       "CAT_BCD              2\n",
       "CAT_BCE              2\n",
       "CAT_OC               2\n",
       "CAT_SC               2\n",
       "CAT_ST               2\n",
       "discrete_column     60\n",
       "dtype: int64"
      ]
     },
     "execution_count": 26,
     "metadata": {},
     "output_type": "execute_result"
    }
   ],
   "source": [
    "df.nunique()"
   ]
  },
  {
   "cell_type": "code",
   "execution_count": 27,
   "metadata": {},
   "outputs": [
    {
     "data": {
      "text/plain": [
       "<Axes: xlabel='COLLEGE', ylabel='count'>"
      ]
     },
     "execution_count": 27,
     "metadata": {},
     "output_type": "execute_result"
    },
    {
     "data": {
      "image/png": "[encoded data removed]",
      "text/plain": [
       "<Figure size 2400x1000 with 1 Axes>"
      ]
     },
     "metadata": {},
     "output_type": "display_data"
    }
   ],
   "source": [
    "plt.figure(figsize=(24,10))\n",
    "sns.countplot(data=df,x=\"COLLEGE\")"
   ]
  },
  {
   "cell_type": "code",
   "execution_count": 28,
   "metadata": {},
   "outputs": [],
   "source": [
    "from imblearn.over_sampling import RandomOverSampler\n",
    "oversampler = RandomOverSampler(random_state=420)"
   ]
  },
  {
   "cell_type": "code",
   "execution_count": 29,
   "metadata": {},
   "outputs": [],
   "source": [
    "X=df.drop(['COLLEGE'],axis=1)\n",
    "y=df['COLLEGE']"
   ]
  },
  {
   "cell_type": "code",
   "execution_count": 30,
   "metadata": {},
   "outputs": [],
   "source": [
    "X_resampled, y_resampled = oversampler.fit_resample(X,y)"
   ]
  },
  {
   "cell_type": "code",
   "execution_count": 31,
   "metadata": {},
   "outputs": [],
   "source": [
    "df_updated=X_resampled"
   ]
  },
  {
   "cell_type": "code",
   "execution_count": 32,
   "metadata": {},
   "outputs": [],
   "source": [
    "df_updated['COLLEGE']=y_resampled"
   ]
  },
  {
   "cell_type": "code",
   "execution_count": 33,
   "metadata": {},
   "outputs": [
    {
     "data": {
      "text/plain": [
       "<Axes: xlabel='COLLEGE', ylabel='count'>"
      ]
     },
     "execution_count": 33,
     "metadata": {},
     "output_type": "execute_result"
    },
    {
     "data": {
      "image/png": "[encoded data removed]",
      "text/plain": [
       "<Figure size 2400x1000 with 1 Axes>"
      ]
     },
     "metadata": {},
     "output_type": "display_data"
    }
   ],
   "source": [
    "plt.figure(figsize=(24,10))\n",
    "sns.countplot(data=df_updated,x=\"COLLEGE\")"
   ]
  },
  {
   "cell_type": "code",
   "execution_count": 34,
   "metadata": {},
   "outputs": [],
   "source": [
    "from sklearn.model_selection import train_test_split \n",
    "X_train,X_test,y_train,y_test=train_test_split(df_updated.drop([\"COLLEGE\"],axis=1),df_updated[\"COLLEGE\"],test_size=0.2,random_state=231)"
   ]
  },
  {
   "cell_type": "code",
   "execution_count": 35,
   "metadata": {},
   "outputs": [
    {
     "name": "stdout",
     "output_type": "stream",
     "text": [
      "94.27966101694916\n",
      "[[ 98   0   1   0   0   0   0   4   0   0]\n",
      " [  0  92   0   0   0   0   0   1   0   0]\n",
      " [  0   0 105   0   0   0   0   2   0   0]\n",
      " [  0   0   0  92   0   0   2   6   0   0]\n",
      " [  0   0   0   0  93   0   1   0   0   0]\n",
      " [  0   0   0   0   0 100  21   3   0   0]\n",
      " [  0   0   0   0   2   0  79   2   0   0]\n",
      " [  0   0   0   2   2   0   0  71   0   0]\n",
      " [  0   0   0   0   1   0   0   0  83   0]\n",
      " [  0   0   0   0   0   0   4   0   0  77]]\n",
      "              precision    recall  f1-score   support\n",
      "\n",
      "           0       1.00      0.95      0.98       103\n",
      "           1       1.00      0.99      0.99        93\n",
      "           2       0.99      0.98      0.99       107\n",
      "           3       0.98      0.92      0.95       100\n",
      "           4       0.95      0.99      0.97        94\n",
      "           5       1.00      0.81      0.89       124\n",
      "           6       0.74      0.95      0.83        83\n",
      "           7       0.80      0.95      0.87        75\n",
      "           8       1.00      0.99      0.99        84\n",
      "           9       1.00      0.95      0.97        81\n",
      "\n",
      "    accuracy                           0.94       944\n",
      "   macro avg       0.95      0.95      0.94       944\n",
      "weighted avg       0.95      0.94      0.94       944\n",
      "\n"
     ]
    }
   ],
   "source": [
    "from sklearn.ensemble import RandomForestClassifier\n",
    "from sklearn.metrics import accuracy_score,confusion_matrix,classification_report\n",
    "rfc=RandomForestClassifier()\n",
    "rfc.fit(X_train,y_train)\n",
    "y_p=rfc.predict(X_test)\n",
    "print(accuracy_score(y_p,y_test)*100)\n",
    "print(confusion_matrix(y_p,y_test))\n",
    "print(classification_report(y_p,y_test))"
   ]
  },
  {
   "cell_type": "code",
   "execution_count": 36,
   "metadata": {},
   "outputs": [
    {
     "name": "stdout",
     "output_type": "stream",
     "text": [
      "0.9385593220338984\n",
      "              precision    recall  f1-score   support\n",
      "\n",
      "           0       0.99      0.96      0.97       101\n",
      "           1       1.00      0.97      0.98        95\n",
      "           2       0.99      0.98      0.99       107\n",
      "           3       0.99      0.89      0.93       105\n",
      "           4       0.92      0.97      0.94        93\n",
      "           5       1.00      0.81      0.90       123\n",
      "           6       0.74      0.96      0.84        82\n",
      "           7       0.79      0.97      0.87        72\n",
      "           8       1.00      0.99      0.99        84\n",
      "           9       1.00      0.94      0.97        82\n",
      "\n",
      "    accuracy                           0.94       944\n",
      "   macro avg       0.94      0.94      0.94       944\n",
      "weighted avg       0.95      0.94      0.94       944\n",
      "\n"
     ]
    }
   ],
   "source": [
    "from sklearn.tree import DecisionTreeClassifier\n",
    "dt=DecisionTreeClassifier(criterion= 'entropy', min_samples_leaf= 1, min_samples_split=2)\n",
    "dt.fit(X_train,y_train)\n",
    "y_p=dt.predict(X_test)\n",
    "print(accuracy_score(y_p,y_test))\n",
    "print(classification_report(y_p,y_test))"
   ]
  },
  {
   "cell_type": "code",
   "execution_count": null,
   "metadata": {},
   "outputs": [],
   "source": []
  }
 ],
 "metadata": {
  "kernelspec": {
   "display_name": "base",
   "language": "python",
   "name": "python3"
  },
  "language_info": {
   "codemirror_mode": {
    "name": "ipython",
    "version": 3
   },
   "file_extension": ".py",
   "mimetype": "text/x-python",
   "name": "python",
   "nbconvert_exporter": "python",
   "pygments_lexer": "ipython3",
   "version": "3.11.5"
  }
 },
 "nbformat": 4,
 "nbformat_minor": 2
}
