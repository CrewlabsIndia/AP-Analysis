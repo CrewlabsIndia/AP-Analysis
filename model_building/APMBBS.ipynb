{
 "cells": [
  {
   "cell_type": "code",
   "execution_count": 54,
   "metadata": {},
   "outputs": [],
   "source": [
    "import numpy as np \n",
    "import pandas as pd \n",
    "import matplotlib.pyplot as plt\n",
    "import seaborn as sns"
   ]
  },
  {
   "cell_type": "code",
   "execution_count": 55,
   "metadata": {},
   "outputs": [],
   "source": [
    "df=pd.read_csv(\"/Users/namanmuktha/Desktop/mediksearch/Tel & Ap Data/AndhraMBBS.csv\")"
   ]
  },
  {
   "cell_type": "code",
   "execution_count": 56,
   "metadata": {},
   "outputs": [
    {
     "data": {
      "text/html": [
       "<div>\n",
       "<style scoped>\n",
       "    .dataframe tbody tr th:only-of-type {\n",
       "        vertical-align: middle;\n",
       "    }\n",
       "\n",
       "    .dataframe tbody tr th {\n",
       "        vertical-align: top;\n",
       "    }\n",
       "\n",
       "    .dataframe thead th {\n",
       "        text-align: right;\n",
       "    }\n",
       "</style>\n",
       "<table border=\"1\" class=\"dataframe\">\n",
       "  <thead>\n",
       "    <tr style=\"text-align: right;\">\n",
       "      <th></th>\n",
       "      <th>COLLEGE</th>\n",
       "      <th>RANK</th>\n",
       "      <th>NEET_ROLL_NO</th>\n",
       "      <th>SCORE</th>\n",
       "      <th>SX</th>\n",
       "      <th>CAT</th>\n",
       "      <th>LOC</th>\n",
       "      <th>PHASE</th>\n",
       "      <th>EWS</th>\n",
       "    </tr>\n",
       "  </thead>\n",
       "  <tbody>\n",
       "    <tr>\n",
       "      <th>0</th>\n",
       "      <td>Siddhartha Medical College, Vijayawada</td>\n",
       "      <td>1503</td>\n",
       "      <td>1206060037</td>\n",
       "      <td>680</td>\n",
       "      <td>M</td>\n",
       "      <td>BCD</td>\n",
       "      <td>AU</td>\n",
       "      <td>P1</td>\n",
       "      <td>NO</td>\n",
       "    </tr>\n",
       "    <tr>\n",
       "      <th>1</th>\n",
       "      <td>Siddhartha Medical College, Vijayawada</td>\n",
       "      <td>2599</td>\n",
       "      <td>1209010031</td>\n",
       "      <td>671</td>\n",
       "      <td>F</td>\n",
       "      <td>OC</td>\n",
       "      <td>AU</td>\n",
       "      <td>P1</td>\n",
       "      <td>NO</td>\n",
       "    </tr>\n",
       "    <tr>\n",
       "      <th>2</th>\n",
       "      <td>Siddhartha Medical College, Vijayawada</td>\n",
       "      <td>5738</td>\n",
       "      <td>1205060436</td>\n",
       "      <td>655</td>\n",
       "      <td>M</td>\n",
       "      <td>OC</td>\n",
       "      <td>AU</td>\n",
       "      <td>P1</td>\n",
       "      <td>NO</td>\n",
       "    </tr>\n",
       "    <tr>\n",
       "      <th>3</th>\n",
       "      <td>Siddhartha Medical College, Vijayawada</td>\n",
       "      <td>8695</td>\n",
       "      <td>1205090412</td>\n",
       "      <td>644</td>\n",
       "      <td>M</td>\n",
       "      <td>OC</td>\n",
       "      <td>APNL</td>\n",
       "      <td>P1</td>\n",
       "      <td>NO</td>\n",
       "    </tr>\n",
       "    <tr>\n",
       "      <th>4</th>\n",
       "      <td>Siddhartha Medical College, Vijayawada</td>\n",
       "      <td>11748</td>\n",
       "      <td>1205050763</td>\n",
       "      <td>635</td>\n",
       "      <td>F</td>\n",
       "      <td>OC</td>\n",
       "      <td>SVU</td>\n",
       "      <td>P1</td>\n",
       "      <td>NO</td>\n",
       "    </tr>\n",
       "  </tbody>\n",
       "</table>\n",
       "</div>"
      ],
      "text/plain": [
       "                                  COLLEGE   RANK  NEET_ROLL_NO  SCORE SX  CAT  \\\n",
       "0  Siddhartha Medical College, Vijayawada   1503    1206060037    680  M  BCD   \n",
       "1  Siddhartha Medical College, Vijayawada   2599    1209010031    671  F   OC   \n",
       "2  Siddhartha Medical College, Vijayawada   5738    1205060436    655  M   OC   \n",
       "3  Siddhartha Medical College, Vijayawada   8695    1205090412    644  M   OC   \n",
       "4  Siddhartha Medical College, Vijayawada  11748    1205050763    635  F   OC   \n",
       "\n",
       "    LOC PHASE EWS  \n",
       "0    AU    P1  NO  \n",
       "1    AU    P1  NO  \n",
       "2    AU    P1  NO  \n",
       "3  APNL    P1  NO  \n",
       "4   SVU    P1  NO  "
      ]
     },
     "execution_count": 56,
     "metadata": {},
     "output_type": "execute_result"
    }
   ],
   "source": [
    "df.head()"
   ]
  },
  {
   "cell_type": "code",
   "execution_count": 57,
   "metadata": {},
   "outputs": [
    {
     "data": {
      "text/plain": [
       "(7664, 9)"
      ]
     },
     "execution_count": 57,
     "metadata": {},
     "output_type": "execute_result"
    }
   ],
   "source": [
    "df.shape"
   ]
  },
  {
   "cell_type": "code",
   "execution_count": 58,
   "metadata": {},
   "outputs": [
    {
     "data": {
      "text/plain": [
       "38"
      ]
     },
     "execution_count": 58,
     "metadata": {},
     "output_type": "execute_result"
    }
   ],
   "source": [
    "df[\"COLLEGE\"].nunique()"
   ]
  },
  {
   "cell_type": "code",
   "execution_count": 59,
   "metadata": {},
   "outputs": [],
   "source": [
    "import seaborn as sns"
   ]
  },
  {
   "cell_type": "code",
   "execution_count": 60,
   "metadata": {},
   "outputs": [
    {
     "data": {
      "text/plain": [
       "<Axes: xlabel='COLLEGE', ylabel='count'>"
      ]
     },
     "execution_count": 60,
     "metadata": {},
     "output_type": "execute_result"
    },
    {
     "data": {
      "image/png": "[encoded data removed]",
      "text/plain": [
       "<Figure size 640x480 with 1 Axes>"
      ]
     },
     "metadata": {},
     "output_type": "display_data"
    }
   ],
   "source": [
    "sns.countplot(x=df['COLLEGE'])"
   ]
  },
  {
   "cell_type": "code",
   "execution_count": 61,
   "metadata": {},
   "outputs": [
    {
     "data": {
      "text/plain": [
       "COLLEGE         0\n",
       "RANK            0\n",
       "NEET_ROLL_NO    0\n",
       "SCORE           0\n",
       "SX              0\n",
       "CAT             0\n",
       "LOC             0\n",
       "PHASE           0\n",
       "EWS             0\n",
       "dtype: int64"
      ]
     },
     "execution_count": 61,
     "metadata": {},
     "output_type": "execute_result"
    }
   ],
   "source": [
    "df.isna().sum()"
   ]
  },
  {
   "cell_type": "code",
   "execution_count": 62,
   "metadata": {},
   "outputs": [],
   "source": [
    "df=df.drop(['NEET_ROLL_NO','SCORE'],axis=1)"
   ]
  },
  {
   "cell_type": "code",
   "execution_count": 63,
   "metadata": {},
   "outputs": [
    {
     "data": {
      "text/html": [
       "<div>\n",
       "<style scoped>\n",
       "    .dataframe tbody tr th:only-of-type {\n",
       "        vertical-align: middle;\n",
       "    }\n",
       "\n",
       "    .dataframe tbody tr th {\n",
       "        vertical-align: top;\n",
       "    }\n",
       "\n",
       "    .dataframe thead th {\n",
       "        text-align: right;\n",
       "    }\n",
       "</style>\n",
       "<table border=\"1\" class=\"dataframe\">\n",
       "  <thead>\n",
       "    <tr style=\"text-align: right;\">\n",
       "      <th></th>\n",
       "      <th>COLLEGE</th>\n",
       "      <th>RANK</th>\n",
       "      <th>SX</th>\n",
       "      <th>CAT</th>\n",
       "      <th>LOC</th>\n",
       "      <th>PHASE</th>\n",
       "      <th>EWS</th>\n",
       "    </tr>\n",
       "  </thead>\n",
       "  <tbody>\n",
       "    <tr>\n",
       "      <th>0</th>\n",
       "      <td>Siddhartha Medical College, Vijayawada</td>\n",
       "      <td>1503</td>\n",
       "      <td>M</td>\n",
       "      <td>BCD</td>\n",
       "      <td>AU</td>\n",
       "      <td>P1</td>\n",
       "      <td>NO</td>\n",
       "    </tr>\n",
       "    <tr>\n",
       "      <th>1</th>\n",
       "      <td>Siddhartha Medical College, Vijayawada</td>\n",
       "      <td>2599</td>\n",
       "      <td>F</td>\n",
       "      <td>OC</td>\n",
       "      <td>AU</td>\n",
       "      <td>P1</td>\n",
       "      <td>NO</td>\n",
       "    </tr>\n",
       "    <tr>\n",
       "      <th>2</th>\n",
       "      <td>Siddhartha Medical College, Vijayawada</td>\n",
       "      <td>5738</td>\n",
       "      <td>M</td>\n",
       "      <td>OC</td>\n",
       "      <td>AU</td>\n",
       "      <td>P1</td>\n",
       "      <td>NO</td>\n",
       "    </tr>\n",
       "    <tr>\n",
       "      <th>3</th>\n",
       "      <td>Siddhartha Medical College, Vijayawada</td>\n",
       "      <td>8695</td>\n",
       "      <td>M</td>\n",
       "      <td>OC</td>\n",
       "      <td>APNL</td>\n",
       "      <td>P1</td>\n",
       "      <td>NO</td>\n",
       "    </tr>\n",
       "    <tr>\n",
       "      <th>4</th>\n",
       "      <td>Siddhartha Medical College, Vijayawada</td>\n",
       "      <td>11748</td>\n",
       "      <td>F</td>\n",
       "      <td>OC</td>\n",
       "      <td>SVU</td>\n",
       "      <td>P1</td>\n",
       "      <td>NO</td>\n",
       "    </tr>\n",
       "  </tbody>\n",
       "</table>\n",
       "</div>"
      ],
      "text/plain": [
       "                                  COLLEGE   RANK SX  CAT   LOC PHASE EWS\n",
       "0  Siddhartha Medical College, Vijayawada   1503  M  BCD    AU    P1  NO\n",
       "1  Siddhartha Medical College, Vijayawada   2599  F   OC    AU    P1  NO\n",
       "2  Siddhartha Medical College, Vijayawada   5738  M   OC    AU    P1  NO\n",
       "3  Siddhartha Medical College, Vijayawada   8695  M   OC  APNL    P1  NO\n",
       "4  Siddhartha Medical College, Vijayawada  11748  F   OC   SVU    P1  NO"
      ]
     },
     "execution_count": 63,
     "metadata": {},
     "output_type": "execute_result"
    }
   ],
   "source": [
    "df.head()"
   ]
  },
  {
   "cell_type": "code",
   "execution_count": 64,
   "metadata": {},
   "outputs": [
    {
     "data": {
      "text/plain": [
       "COLLEGE    object\n",
       "RANK        int64\n",
       "SX         object\n",
       "CAT        object\n",
       "LOC        object\n",
       "PHASE      object\n",
       "EWS        object\n",
       "dtype: object"
      ]
     },
     "execution_count": 64,
     "metadata": {},
     "output_type": "execute_result"
    }
   ],
   "source": [
    "df.dtypes"
   ]
  },
  {
   "cell_type": "code",
   "execution_count": 65,
   "metadata": {},
   "outputs": [
    {
     "data": {
      "text/plain": [
       "COLLEGE      38\n",
       "RANK       4233\n",
       "SX            2\n",
       "CAT           8\n",
       "LOC           6\n",
       "PHASE         2\n",
       "EWS           1\n",
       "dtype: int64"
      ]
     },
     "execution_count": 65,
     "metadata": {},
     "output_type": "execute_result"
    }
   ],
   "source": [
    "df.nunique()"
   ]
  },
  {
   "cell_type": "code",
   "execution_count": 66,
   "metadata": {},
   "outputs": [
    {
     "data": {
      "text/plain": [
       "array(['P1', 'P2'], dtype=object)"
      ]
     },
     "execution_count": 66,
     "metadata": {},
     "output_type": "execute_result"
    }
   ],
   "source": [
    "df['PHASE'].unique()"
   ]
  },
  {
   "cell_type": "code",
   "execution_count": 67,
   "metadata": {},
   "outputs": [],
   "source": [
    "df=df.drop(['EWS'],axis=1)"
   ]
  },
  {
   "cell_type": "code",
   "execution_count": 68,
   "metadata": {},
   "outputs": [
    {
     "data": {
      "text/html": [
       "<div>\n",
       "<style scoped>\n",
       "    .dataframe tbody tr th:only-of-type {\n",
       "        vertical-align: middle;\n",
       "    }\n",
       "\n",
       "    .dataframe tbody tr th {\n",
       "        vertical-align: top;\n",
       "    }\n",
       "\n",
       "    .dataframe thead th {\n",
       "        text-align: right;\n",
       "    }\n",
       "</style>\n",
       "<table border=\"1\" class=\"dataframe\">\n",
       "  <thead>\n",
       "    <tr style=\"text-align: right;\">\n",
       "      <th></th>\n",
       "      <th>COLLEGE</th>\n",
       "      <th>RANK</th>\n",
       "      <th>SX</th>\n",
       "      <th>CAT</th>\n",
       "      <th>LOC</th>\n",
       "      <th>PHASE</th>\n",
       "    </tr>\n",
       "  </thead>\n",
       "  <tbody>\n",
       "    <tr>\n",
       "      <th>0</th>\n",
       "      <td>Siddhartha Medical College, Vijayawada</td>\n",
       "      <td>1503</td>\n",
       "      <td>M</td>\n",
       "      <td>BCD</td>\n",
       "      <td>AU</td>\n",
       "      <td>P1</td>\n",
       "    </tr>\n",
       "    <tr>\n",
       "      <th>1</th>\n",
       "      <td>Siddhartha Medical College, Vijayawada</td>\n",
       "      <td>2599</td>\n",
       "      <td>F</td>\n",
       "      <td>OC</td>\n",
       "      <td>AU</td>\n",
       "      <td>P1</td>\n",
       "    </tr>\n",
       "    <tr>\n",
       "      <th>2</th>\n",
       "      <td>Siddhartha Medical College, Vijayawada</td>\n",
       "      <td>5738</td>\n",
       "      <td>M</td>\n",
       "      <td>OC</td>\n",
       "      <td>AU</td>\n",
       "      <td>P1</td>\n",
       "    </tr>\n",
       "    <tr>\n",
       "      <th>3</th>\n",
       "      <td>Siddhartha Medical College, Vijayawada</td>\n",
       "      <td>8695</td>\n",
       "      <td>M</td>\n",
       "      <td>OC</td>\n",
       "      <td>APNL</td>\n",
       "      <td>P1</td>\n",
       "    </tr>\n",
       "    <tr>\n",
       "      <th>4</th>\n",
       "      <td>Siddhartha Medical College, Vijayawada</td>\n",
       "      <td>11748</td>\n",
       "      <td>F</td>\n",
       "      <td>OC</td>\n",
       "      <td>SVU</td>\n",
       "      <td>P1</td>\n",
       "    </tr>\n",
       "  </tbody>\n",
       "</table>\n",
       "</div>"
      ],
      "text/plain": [
       "                                  COLLEGE   RANK SX  CAT   LOC PHASE\n",
       "0  Siddhartha Medical College, Vijayawada   1503  M  BCD    AU    P1\n",
       "1  Siddhartha Medical College, Vijayawada   2599  F   OC    AU    P1\n",
       "2  Siddhartha Medical College, Vijayawada   5738  M   OC    AU    P1\n",
       "3  Siddhartha Medical College, Vijayawada   8695  M   OC  APNL    P1\n",
       "4  Siddhartha Medical College, Vijayawada  11748  F   OC   SVU    P1"
      ]
     },
     "execution_count": 68,
     "metadata": {},
     "output_type": "execute_result"
    }
   ],
   "source": [
    "df.head()"
   ]
  },
  {
   "cell_type": "code",
   "execution_count": 69,
   "metadata": {},
   "outputs": [],
   "source": [
    "from sklearn.preprocessing import LabelEncoder\n",
    "disorder_column = df['COLLEGE']\n",
    "label_encoder = LabelEncoder()\n",
    "encoded_values = label_encoder.fit_transform(disorder_column)\n",
    "label_mapping = dict(zip(label_encoder.classes_, label_encoder.transform(label_encoder.classes_)))\n",
    "df['COLLEGE'] = encoded_values"
   ]
  },
  {
   "cell_type": "code",
   "execution_count": 70,
   "metadata": {},
   "outputs": [],
   "source": [
    "from sklearn.preprocessing import LabelEncoder\n",
    "disorder_column = df['SX']\n",
    "label_encoder = LabelEncoder()\n",
    "encoded_values = label_encoder.fit_transform(disorder_column)\n",
    "label_mapping1 = dict(zip(label_encoder.classes_, label_encoder.transform(label_encoder.classes_)))\n",
    "df['SX'] = encoded_values"
   ]
  },
  {
   "cell_type": "code",
   "execution_count": 71,
   "metadata": {},
   "outputs": [],
   "source": [
    "one_hot_encoded = pd.get_dummies(df['CAT'], prefix='CAT')\n",
    "\n",
    "# Drop the original 'CAT' column from the DataFrame\n",
    "df = df.drop('CAT', axis=1)\n",
    "\n",
    "# Concatenate the original DataFrame with the one-hot encoded DataFrame\n",
    "df = pd.concat([df, one_hot_encoded], axis=1)\n"
   ]
  },
  {
   "cell_type": "code",
   "execution_count": 72,
   "metadata": {},
   "outputs": [
    {
     "data": {
      "text/html": [
       "<div>\n",
       "<style scoped>\n",
       "    .dataframe tbody tr th:only-of-type {\n",
       "        vertical-align: middle;\n",
       "    }\n",
       "\n",
       "    .dataframe tbody tr th {\n",
       "        vertical-align: top;\n",
       "    }\n",
       "\n",
       "    .dataframe thead th {\n",
       "        text-align: right;\n",
       "    }\n",
       "</style>\n",
       "<table border=\"1\" class=\"dataframe\">\n",
       "  <thead>\n",
       "    <tr style=\"text-align: right;\">\n",
       "      <th></th>\n",
       "      <th>COLLEGE</th>\n",
       "      <th>RANK</th>\n",
       "      <th>SX</th>\n",
       "      <th>LOC</th>\n",
       "      <th>PHASE</th>\n",
       "      <th>CAT_BCA</th>\n",
       "      <th>CAT_BCB</th>\n",
       "      <th>CAT_BCC</th>\n",
       "      <th>CAT_BCD</th>\n",
       "      <th>CAT_BCE</th>\n",
       "      <th>CAT_OC</th>\n",
       "      <th>CAT_SC</th>\n",
       "      <th>CAT_ST</th>\n",
       "    </tr>\n",
       "  </thead>\n",
       "  <tbody>\n",
       "    <tr>\n",
       "      <th>0</th>\n",
       "      <td>32</td>\n",
       "      <td>1503</td>\n",
       "      <td>1</td>\n",
       "      <td>AU</td>\n",
       "      <td>P1</td>\n",
       "      <td>False</td>\n",
       "      <td>False</td>\n",
       "      <td>False</td>\n",
       "      <td>True</td>\n",
       "      <td>False</td>\n",
       "      <td>False</td>\n",
       "      <td>False</td>\n",
       "      <td>False</td>\n",
       "    </tr>\n",
       "    <tr>\n",
       "      <th>1</th>\n",
       "      <td>32</td>\n",
       "      <td>2599</td>\n",
       "      <td>0</td>\n",
       "      <td>AU</td>\n",
       "      <td>P1</td>\n",
       "      <td>False</td>\n",
       "      <td>False</td>\n",
       "      <td>False</td>\n",
       "      <td>False</td>\n",
       "      <td>False</td>\n",
       "      <td>True</td>\n",
       "      <td>False</td>\n",
       "      <td>False</td>\n",
       "    </tr>\n",
       "    <tr>\n",
       "      <th>2</th>\n",
       "      <td>32</td>\n",
       "      <td>5738</td>\n",
       "      <td>1</td>\n",
       "      <td>AU</td>\n",
       "      <td>P1</td>\n",
       "      <td>False</td>\n",
       "      <td>False</td>\n",
       "      <td>False</td>\n",
       "      <td>False</td>\n",
       "      <td>False</td>\n",
       "      <td>True</td>\n",
       "      <td>False</td>\n",
       "      <td>False</td>\n",
       "    </tr>\n",
       "    <tr>\n",
       "      <th>3</th>\n",
       "      <td>32</td>\n",
       "      <td>8695</td>\n",
       "      <td>1</td>\n",
       "      <td>APNL</td>\n",
       "      <td>P1</td>\n",
       "      <td>False</td>\n",
       "      <td>False</td>\n",
       "      <td>False</td>\n",
       "      <td>False</td>\n",
       "      <td>False</td>\n",
       "      <td>True</td>\n",
       "      <td>False</td>\n",
       "      <td>False</td>\n",
       "    </tr>\n",
       "    <tr>\n",
       "      <th>4</th>\n",
       "      <td>32</td>\n",
       "      <td>11748</td>\n",
       "      <td>0</td>\n",
       "      <td>SVU</td>\n",
       "      <td>P1</td>\n",
       "      <td>False</td>\n",
       "      <td>False</td>\n",
       "      <td>False</td>\n",
       "      <td>False</td>\n",
       "      <td>False</td>\n",
       "      <td>True</td>\n",
       "      <td>False</td>\n",
       "      <td>False</td>\n",
       "    </tr>\n",
       "  </tbody>\n",
       "</table>\n",
       "</div>"
      ],
      "text/plain": [
       "   COLLEGE   RANK  SX   LOC PHASE  CAT_BCA  CAT_BCB  CAT_BCC  CAT_BCD  \\\n",
       "0       32   1503   1    AU    P1    False    False    False     True   \n",
       "1       32   2599   0    AU    P1    False    False    False    False   \n",
       "2       32   5738   1    AU    P1    False    False    False    False   \n",
       "3       32   8695   1  APNL    P1    False    False    False    False   \n",
       "4       32  11748   0   SVU    P1    False    False    False    False   \n",
       "\n",
       "   CAT_BCE  CAT_OC  CAT_SC  CAT_ST  \n",
       "0    False   False   False   False  \n",
       "1    False    True   False   False  \n",
       "2    False    True   False   False  \n",
       "3    False    True   False   False  \n",
       "4    False    True   False   False  "
      ]
     },
     "execution_count": 72,
     "metadata": {},
     "output_type": "execute_result"
    }
   ],
   "source": [
    "df.head()"
   ]
  },
  {
   "cell_type": "code",
   "execution_count": 73,
   "metadata": {},
   "outputs": [],
   "source": [
    "from sklearn.preprocessing import LabelEncoder\n",
    "disorder_column = df['LOC']\n",
    "label_encoder = LabelEncoder()\n",
    "encoded_values = label_encoder.fit_transform(disorder_column)\n",
    "label_mapping_loc = dict(zip(label_encoder.classes_, label_encoder.transform(label_encoder.classes_)))\n",
    "df['LOC'] = encoded_values"
   ]
  },
  {
   "cell_type": "code",
   "execution_count": 74,
   "metadata": {},
   "outputs": [],
   "source": [
    "from sklearn.preprocessing import LabelEncoder\n",
    "disorder_column = df['PHASE']\n",
    "label_encoder = LabelEncoder()\n",
    "encoded_values = label_encoder.fit_transform(disorder_column)\n",
    "label_mapping_phase = dict(zip(label_encoder.classes_, label_encoder.transform(label_encoder.classes_)))\n",
    "df['PHASE'] = encoded_values"
   ]
  },
  {
   "cell_type": "code",
   "execution_count": 75,
   "metadata": {},
   "outputs": [
    {
     "data": {
      "text/html": [
       "<div>\n",
       "<style scoped>\n",
       "    .dataframe tbody tr th:only-of-type {\n",
       "        vertical-align: middle;\n",
       "    }\n",
       "\n",
       "    .dataframe tbody tr th {\n",
       "        vertical-align: top;\n",
       "    }\n",
       "\n",
       "    .dataframe thead th {\n",
       "        text-align: right;\n",
       "    }\n",
       "</style>\n",
       "<table border=\"1\" class=\"dataframe\">\n",
       "  <thead>\n",
       "    <tr style=\"text-align: right;\">\n",
       "      <th></th>\n",
       "      <th>COLLEGE</th>\n",
       "      <th>RANK</th>\n",
       "      <th>SX</th>\n",
       "      <th>LOC</th>\n",
       "      <th>PHASE</th>\n",
       "      <th>CAT_BCA</th>\n",
       "      <th>CAT_BCB</th>\n",
       "      <th>CAT_BCC</th>\n",
       "      <th>CAT_BCD</th>\n",
       "      <th>CAT_BCE</th>\n",
       "      <th>CAT_OC</th>\n",
       "      <th>CAT_SC</th>\n",
       "      <th>CAT_ST</th>\n",
       "    </tr>\n",
       "  </thead>\n",
       "  <tbody>\n",
       "    <tr>\n",
       "      <th>0</th>\n",
       "      <td>32</td>\n",
       "      <td>1503</td>\n",
       "      <td>1</td>\n",
       "      <td>1</td>\n",
       "      <td>0</td>\n",
       "      <td>False</td>\n",
       "      <td>False</td>\n",
       "      <td>False</td>\n",
       "      <td>True</td>\n",
       "      <td>False</td>\n",
       "      <td>False</td>\n",
       "      <td>False</td>\n",
       "      <td>False</td>\n",
       "    </tr>\n",
       "    <tr>\n",
       "      <th>1</th>\n",
       "      <td>32</td>\n",
       "      <td>2599</td>\n",
       "      <td>0</td>\n",
       "      <td>1</td>\n",
       "      <td>0</td>\n",
       "      <td>False</td>\n",
       "      <td>False</td>\n",
       "      <td>False</td>\n",
       "      <td>False</td>\n",
       "      <td>False</td>\n",
       "      <td>True</td>\n",
       "      <td>False</td>\n",
       "      <td>False</td>\n",
       "    </tr>\n",
       "    <tr>\n",
       "      <th>2</th>\n",
       "      <td>32</td>\n",
       "      <td>5738</td>\n",
       "      <td>1</td>\n",
       "      <td>1</td>\n",
       "      <td>0</td>\n",
       "      <td>False</td>\n",
       "      <td>False</td>\n",
       "      <td>False</td>\n",
       "      <td>False</td>\n",
       "      <td>False</td>\n",
       "      <td>True</td>\n",
       "      <td>False</td>\n",
       "      <td>False</td>\n",
       "    </tr>\n",
       "    <tr>\n",
       "      <th>3</th>\n",
       "      <td>32</td>\n",
       "      <td>8695</td>\n",
       "      <td>1</td>\n",
       "      <td>0</td>\n",
       "      <td>0</td>\n",
       "      <td>False</td>\n",
       "      <td>False</td>\n",
       "      <td>False</td>\n",
       "      <td>False</td>\n",
       "      <td>False</td>\n",
       "      <td>True</td>\n",
       "      <td>False</td>\n",
       "      <td>False</td>\n",
       "    </tr>\n",
       "    <tr>\n",
       "      <th>4</th>\n",
       "      <td>32</td>\n",
       "      <td>11748</td>\n",
       "      <td>0</td>\n",
       "      <td>5</td>\n",
       "      <td>0</td>\n",
       "      <td>False</td>\n",
       "      <td>False</td>\n",
       "      <td>False</td>\n",
       "      <td>False</td>\n",
       "      <td>False</td>\n",
       "      <td>True</td>\n",
       "      <td>False</td>\n",
       "      <td>False</td>\n",
       "    </tr>\n",
       "  </tbody>\n",
       "</table>\n",
       "</div>"
      ],
      "text/plain": [
       "   COLLEGE   RANK  SX  LOC  PHASE  CAT_BCA  CAT_BCB  CAT_BCC  CAT_BCD  \\\n",
       "0       32   1503   1    1      0    False    False    False     True   \n",
       "1       32   2599   0    1      0    False    False    False    False   \n",
       "2       32   5738   1    1      0    False    False    False    False   \n",
       "3       32   8695   1    0      0    False    False    False    False   \n",
       "4       32  11748   0    5      0    False    False    False    False   \n",
       "\n",
       "   CAT_BCE  CAT_OC  CAT_SC  CAT_ST  \n",
       "0    False   False   False   False  \n",
       "1    False    True   False   False  \n",
       "2    False    True   False   False  \n",
       "3    False    True   False   False  \n",
       "4    False    True   False   False  "
      ]
     },
     "execution_count": 75,
     "metadata": {},
     "output_type": "execute_result"
    }
   ],
   "source": [
    "df.head()"
   ]
  },
  {
   "cell_type": "code",
   "execution_count": 76,
   "metadata": {},
   "outputs": [
    {
     "data": {
      "text/plain": [
       "<Axes: xlabel='COLLEGE', ylabel='count'>"
      ]
     },
     "execution_count": 76,
     "metadata": {},
     "output_type": "execute_result"
    },
    {
     "data": {
      "image/png": "[encoded data removed]",
      "text/plain": [
       "<Figure size 640x480 with 1 Axes>"
      ]
     },
     "metadata": {},
     "output_type": "display_data"
    }
   ],
   "source": [
    "sns.countplot(x=df['COLLEGE'])"
   ]
  },
  {
   "cell_type": "code",
   "execution_count": 77,
   "metadata": {},
   "outputs": [
    {
     "name": "stdout",
     "output_type": "stream",
     "text": [
      "0\n",
      "295\n",
      "1\n",
      "248\n",
      "2\n",
      "421\n",
      "3\n",
      "149\n",
      "4\n",
      "150\n",
      "5\n",
      "72\n",
      "6\n",
      "249\n",
      "7\n",
      "205\n",
      "8\n",
      "253\n",
      "9\n",
      "127\n",
      "10\n",
      "295\n",
      "11\n",
      "125\n",
      "12\n",
      "128\n",
      "13\n",
      "202\n",
      "14\n",
      "127\n",
      "15\n",
      "2\n",
      "16\n",
      "128\n",
      "17\n",
      "251\n",
      "18\n",
      "156\n",
      "19\n",
      "423\n",
      "20\n",
      "151\n",
      "21\n",
      "156\n",
      "22\n",
      "1\n",
      "23\n",
      "424\n",
      "24\n",
      "217\n",
      "25\n",
      "153\n",
      "26\n",
      "199\n",
      "27\n",
      "248\n",
      "28\n",
      "97\n",
      "29\n",
      "150\n",
      "30\n",
      "423\n",
      "31\n",
      "149\n",
      "32\n",
      "331\n",
      "33\n",
      "154\n",
      "34\n",
      "1\n",
      "35\n",
      "250\n",
      "36\n",
      "405\n",
      "37\n",
      "149\n"
     ]
    }
   ],
   "source": [
    "for i in df[\"COLLEGE\"].sort_values().unique():\n",
    "    print(i)\n",
    "    x=df[df[\"COLLEGE\"]==i].count()\n",
    "    print(x[\"COLLEGE\"])"
   ]
  },
  {
   "cell_type": "code",
   "execution_count": 78,
   "metadata": {},
   "outputs": [
    {
     "name": "stdout",
     "output_type": "stream",
     "text": [
      "0\n",
      "295\n",
      "1\n",
      "248\n",
      "2\n",
      "421\n",
      "3\n",
      "149\n",
      "4\n",
      "150\n",
      "5\n",
      "72\n",
      "6\n",
      "249\n",
      "7\n",
      "205\n",
      "8\n",
      "253\n",
      "9\n",
      "127\n",
      "10\n",
      "295\n",
      "11\n",
      "125\n",
      "12\n",
      "128\n",
      "13\n",
      "202\n",
      "14\n",
      "127\n",
      "15\n",
      "2\n",
      "16\n",
      "128\n",
      "17\n",
      "251\n",
      "18\n",
      "156\n",
      "19\n",
      "423\n",
      "20\n",
      "151\n",
      "21\n",
      "156\n",
      "22\n",
      "1\n",
      "23\n",
      "424\n",
      "24\n",
      "217\n",
      "25\n",
      "153\n",
      "26\n",
      "199\n",
      "27\n",
      "248\n",
      "28\n",
      "97\n",
      "29\n",
      "150\n",
      "30\n",
      "423\n",
      "31\n",
      "149\n",
      "32\n",
      "331\n",
      "33\n",
      "154\n",
      "34\n",
      "1\n",
      "35\n",
      "250\n",
      "36\n",
      "405\n",
      "37\n",
      "149\n"
     ]
    }
   ],
   "source": [
    "for i in df[\"COLLEGE\"].sort_values().unique():\n",
    "    print(i)\n",
    "    x=df[df[\"COLLEGE\"]==i].count()\n",
    "    print(x[\"COLLEGE\"])"
   ]
  },
  {
   "cell_type": "code",
   "execution_count": 79,
   "metadata": {},
   "outputs": [
    {
     "data": {
      "text/plain": [
       "{'ACSR Government Medical College, Nellore': 0,\n",
       " 'Alluri Seetharama Raju Academy of Medical Sciences, Eluru': 1,\n",
       " 'Andhra Medical College, Visakhapatnam': 2,\n",
       " 'Apollo Institute of Medical Sciences and Research, Chittoor': 3,\n",
       " 'Dr. Pinnamaneni Siddhartha Institute of Medical Sciences, Gannavaram': 4,\n",
       " 'Fathima Institute of Medical Sciences, Kadapa': 5,\n",
       " 'GSL Medical College, Rajamahendravaram': 6,\n",
       " 'Gayatri Vidya Parishad Inst. of Health Care and Medical Technology, Visakhapatnam': 7,\n",
       " 'Government Medical College, Anantapur': 8,\n",
       " 'Government Medical College, Eluru': 9,\n",
       " 'Government Medical College, Kadapa': 10,\n",
       " 'Government Medical College, Machilipatnam': 11,\n",
       " 'Government Medical College, Nandyal': 12,\n",
       " 'Government Medical College, Ongole': 13,\n",
       " 'Government Medical College, Rajamahendravaram': 14,\n",
       " 'Government Medical College, Srikakulam': 15,\n",
       " 'Government Medical College, Vizianagaram': 16,\n",
       " 'Government Medical College,Srikakulam': 17,\n",
       " 'Great Eastern Medical School and Hospital , Srikakulam': 18,\n",
       " 'Guntur Medical College, Guntur': 19,\n",
       " 'Katuri Medical College and Hospital, Guntur': 20,\n",
       " 'Konaseema Institute of Medical Sciences and Research Foundation , Amalapuram': 21,\n",
       " 'Konaseema Institute of Medical Sciences and Research Foundation, Amalapuram': 22,\n",
       " 'Kurnool Medical College, Kurnool': 23,\n",
       " 'Maharaja Institute of Medical Sciences, Vizianagaram': 24,\n",
       " 'NRI Institute of Medical Sciences, Visakhapatnam': 25,\n",
       " 'NRI Medical College, Chinnakakani': 26,\n",
       " 'Narayana Medical College, Nellore': 27,\n",
       " 'Nimra Institute of Medical Sciences, Vijayawada': 28,\n",
       " 'P.E.S. Institute of Medical Sciences and Research, Kuppam': 29,\n",
       " 'Rangaraya Medical College, Kakinada': 30,\n",
       " 'Santhiram Medical College, Nandyal': 31,\n",
       " 'Siddhartha Medical College, Vijayawada': 32,\n",
       " 'Sri Balaji Medical College Hospital and Research Institute , Renigunta, Tirupati': 33,\n",
       " 'Sri Balaji Medical College Hospital and Research Institute, Renigunta, Tirupati': 34,\n",
       " 'Sri Padmavathi Medical College for Women, Tirupati (under SVIMS)': 35,\n",
       " 'Sri Venkateswara Medical College, Tirupati': 36,\n",
       " 'Viswabharathi Medical College, Kurnool': 37}"
      ]
     },
     "execution_count": 79,
     "metadata": {},
     "output_type": "execute_result"
    }
   ],
   "source": [
    "label_mapping\n",
    "#34\n",
    "#22\n",
    "#15"
   ]
  },
  {
   "cell_type": "code",
   "execution_count": 80,
   "metadata": {},
   "outputs": [],
   "source": [
    "df = df[~df['COLLEGE'].isin([34, 22, 15])]"
   ]
  },
  {
   "cell_type": "code",
   "execution_count": 81,
   "metadata": {},
   "outputs": [
    {
     "data": {
      "text/plain": [
       "<Axes: xlabel='COLLEGE', ylabel='count'>"
      ]
     },
     "execution_count": 81,
     "metadata": {},
     "output_type": "execute_result"
    },
    {
     "data": {
      "image/png": "[encoded data removed]",
      "text/plain": [
       "<Figure size 1000x1000 with 1 Axes>"
      ]
     },
     "metadata": {},
     "output_type": "display_data"
    }
   ],
   "source": [
    "plt.figure(figsize=(10, 10))\n",
    "sns.countplot(x=df['COLLEGE'])"
   ]
  },
  {
   "cell_type": "code",
   "execution_count": 82,
   "metadata": {},
   "outputs": [],
   "source": [
    "from imblearn.over_sampling import RandomOverSampler\n",
    "oversampler = RandomOverSampler(random_state=42)"
   ]
  },
  {
   "cell_type": "code",
   "execution_count": 83,
   "metadata": {},
   "outputs": [],
   "source": [
    "X=df.drop(['COLLEGE'],axis=1)\n",
    "y=df['COLLEGE']"
   ]
  },
  {
   "cell_type": "code",
   "execution_count": 84,
   "metadata": {},
   "outputs": [],
   "source": [
    "X_resampled, y_resampled = oversampler.fit_resample(X,y)"
   ]
  },
  {
   "cell_type": "code",
   "execution_count": 85,
   "metadata": {},
   "outputs": [],
   "source": [
    "df_updated=X_resampled"
   ]
  },
  {
   "cell_type": "code",
   "execution_count": 86,
   "metadata": {},
   "outputs": [],
   "source": [
    "df_updated['COLLEGE']=y_resampled"
   ]
  },
  {
   "cell_type": "code",
   "execution_count": 87,
   "metadata": {},
   "outputs": [
    {
     "data": {
      "text/html": [
       "<div>\n",
       "<style scoped>\n",
       "    .dataframe tbody tr th:only-of-type {\n",
       "        vertical-align: middle;\n",
       "    }\n",
       "\n",
       "    .dataframe tbody tr th {\n",
       "        vertical-align: top;\n",
       "    }\n",
       "\n",
       "    .dataframe thead th {\n",
       "        text-align: right;\n",
       "    }\n",
       "</style>\n",
       "<table border=\"1\" class=\"dataframe\">\n",
       "  <thead>\n",
       "    <tr style=\"text-align: right;\">\n",
       "      <th></th>\n",
       "      <th>RANK</th>\n",
       "      <th>SX</th>\n",
       "      <th>LOC</th>\n",
       "      <th>PHASE</th>\n",
       "      <th>CAT_BCA</th>\n",
       "      <th>CAT_BCB</th>\n",
       "      <th>CAT_BCC</th>\n",
       "      <th>CAT_BCD</th>\n",
       "      <th>CAT_BCE</th>\n",
       "      <th>CAT_OC</th>\n",
       "      <th>CAT_SC</th>\n",
       "      <th>CAT_ST</th>\n",
       "      <th>COLLEGE</th>\n",
       "    </tr>\n",
       "  </thead>\n",
       "  <tbody>\n",
       "    <tr>\n",
       "      <th>0</th>\n",
       "      <td>1503</td>\n",
       "      <td>1</td>\n",
       "      <td>1</td>\n",
       "      <td>0</td>\n",
       "      <td>False</td>\n",
       "      <td>False</td>\n",
       "      <td>False</td>\n",
       "      <td>True</td>\n",
       "      <td>False</td>\n",
       "      <td>False</td>\n",
       "      <td>False</td>\n",
       "      <td>False</td>\n",
       "      <td>32</td>\n",
       "    </tr>\n",
       "    <tr>\n",
       "      <th>1</th>\n",
       "      <td>2599</td>\n",
       "      <td>0</td>\n",
       "      <td>1</td>\n",
       "      <td>0</td>\n",
       "      <td>False</td>\n",
       "      <td>False</td>\n",
       "      <td>False</td>\n",
       "      <td>False</td>\n",
       "      <td>False</td>\n",
       "      <td>True</td>\n",
       "      <td>False</td>\n",
       "      <td>False</td>\n",
       "      <td>32</td>\n",
       "    </tr>\n",
       "    <tr>\n",
       "      <th>2</th>\n",
       "      <td>5738</td>\n",
       "      <td>1</td>\n",
       "      <td>1</td>\n",
       "      <td>0</td>\n",
       "      <td>False</td>\n",
       "      <td>False</td>\n",
       "      <td>False</td>\n",
       "      <td>False</td>\n",
       "      <td>False</td>\n",
       "      <td>True</td>\n",
       "      <td>False</td>\n",
       "      <td>False</td>\n",
       "      <td>32</td>\n",
       "    </tr>\n",
       "    <tr>\n",
       "      <th>3</th>\n",
       "      <td>8695</td>\n",
       "      <td>1</td>\n",
       "      <td>0</td>\n",
       "      <td>0</td>\n",
       "      <td>False</td>\n",
       "      <td>False</td>\n",
       "      <td>False</td>\n",
       "      <td>False</td>\n",
       "      <td>False</td>\n",
       "      <td>True</td>\n",
       "      <td>False</td>\n",
       "      <td>False</td>\n",
       "      <td>32</td>\n",
       "    </tr>\n",
       "    <tr>\n",
       "      <th>4</th>\n",
       "      <td>11748</td>\n",
       "      <td>0</td>\n",
       "      <td>5</td>\n",
       "      <td>0</td>\n",
       "      <td>False</td>\n",
       "      <td>False</td>\n",
       "      <td>False</td>\n",
       "      <td>False</td>\n",
       "      <td>False</td>\n",
       "      <td>True</td>\n",
       "      <td>False</td>\n",
       "      <td>False</td>\n",
       "      <td>32</td>\n",
       "    </tr>\n",
       "  </tbody>\n",
       "</table>\n",
       "</div>"
      ],
      "text/plain": [
       "    RANK  SX  LOC  PHASE  CAT_BCA  CAT_BCB  CAT_BCC  CAT_BCD  CAT_BCE  CAT_OC  \\\n",
       "0   1503   1    1      0    False    False    False     True    False   False   \n",
       "1   2599   0    1      0    False    False    False    False    False    True   \n",
       "2   5738   1    1      0    False    False    False    False    False    True   \n",
       "3   8695   1    0      0    False    False    False    False    False    True   \n",
       "4  11748   0    5      0    False    False    False    False    False    True   \n",
       "\n",
       "   CAT_SC  CAT_ST  COLLEGE  \n",
       "0   False   False       32  \n",
       "1   False   False       32  \n",
       "2   False   False       32  \n",
       "3   False   False       32  \n",
       "4   False   False       32  "
      ]
     },
     "execution_count": 87,
     "metadata": {},
     "output_type": "execute_result"
    }
   ],
   "source": [
    "df_updated.head()"
   ]
  },
  {
   "cell_type": "code",
   "execution_count": 88,
   "metadata": {},
   "outputs": [
    {
     "data": {
      "text/plain": [
       "<Axes: xlabel='COLLEGE', ylabel='count'>"
      ]
     },
     "execution_count": 88,
     "metadata": {},
     "output_type": "execute_result"
    },
    {
     "data": {
      "image/png": "[encoded data removed]",
      "text/plain": [
       "<Figure size 1600x800 with 1 Axes>"
      ]
     },
     "metadata": {},
     "output_type": "display_data"
    }
   ],
   "source": [
    "plt.figure(figsize=(16, 8))\n",
    "sns.countplot(x=df_updated['COLLEGE'])"
   ]
  },
  {
   "cell_type": "code",
   "execution_count": 89,
   "metadata": {},
   "outputs": [
    {
     "data": {
      "text/html": [
       "<div>\n",
       "<style scoped>\n",
       "    .dataframe tbody tr th:only-of-type {\n",
       "        vertical-align: middle;\n",
       "    }\n",
       "\n",
       "    .dataframe tbody tr th {\n",
       "        vertical-align: top;\n",
       "    }\n",
       "\n",
       "    .dataframe thead th {\n",
       "        text-align: right;\n",
       "    }\n",
       "</style>\n",
       "<table border=\"1\" class=\"dataframe\">\n",
       "  <thead>\n",
       "    <tr style=\"text-align: right;\">\n",
       "      <th></th>\n",
       "      <th>RANK</th>\n",
       "      <th>SX</th>\n",
       "      <th>LOC</th>\n",
       "      <th>PHASE</th>\n",
       "      <th>CAT_BCA</th>\n",
       "      <th>CAT_BCB</th>\n",
       "      <th>CAT_BCC</th>\n",
       "      <th>CAT_BCD</th>\n",
       "      <th>CAT_BCE</th>\n",
       "      <th>CAT_OC</th>\n",
       "      <th>CAT_SC</th>\n",
       "      <th>CAT_ST</th>\n",
       "      <th>COLLEGE</th>\n",
       "    </tr>\n",
       "  </thead>\n",
       "  <tbody>\n",
       "    <tr>\n",
       "      <th>0</th>\n",
       "      <td>1503</td>\n",
       "      <td>1</td>\n",
       "      <td>1</td>\n",
       "      <td>0</td>\n",
       "      <td>False</td>\n",
       "      <td>False</td>\n",
       "      <td>False</td>\n",
       "      <td>True</td>\n",
       "      <td>False</td>\n",
       "      <td>False</td>\n",
       "      <td>False</td>\n",
       "      <td>False</td>\n",
       "      <td>32</td>\n",
       "    </tr>\n",
       "    <tr>\n",
       "      <th>1</th>\n",
       "      <td>2599</td>\n",
       "      <td>0</td>\n",
       "      <td>1</td>\n",
       "      <td>0</td>\n",
       "      <td>False</td>\n",
       "      <td>False</td>\n",
       "      <td>False</td>\n",
       "      <td>False</td>\n",
       "      <td>False</td>\n",
       "      <td>True</td>\n",
       "      <td>False</td>\n",
       "      <td>False</td>\n",
       "      <td>32</td>\n",
       "    </tr>\n",
       "    <tr>\n",
       "      <th>2</th>\n",
       "      <td>5738</td>\n",
       "      <td>1</td>\n",
       "      <td>1</td>\n",
       "      <td>0</td>\n",
       "      <td>False</td>\n",
       "      <td>False</td>\n",
       "      <td>False</td>\n",
       "      <td>False</td>\n",
       "      <td>False</td>\n",
       "      <td>True</td>\n",
       "      <td>False</td>\n",
       "      <td>False</td>\n",
       "      <td>32</td>\n",
       "    </tr>\n",
       "    <tr>\n",
       "      <th>3</th>\n",
       "      <td>8695</td>\n",
       "      <td>1</td>\n",
       "      <td>0</td>\n",
       "      <td>0</td>\n",
       "      <td>False</td>\n",
       "      <td>False</td>\n",
       "      <td>False</td>\n",
       "      <td>False</td>\n",
       "      <td>False</td>\n",
       "      <td>True</td>\n",
       "      <td>False</td>\n",
       "      <td>False</td>\n",
       "      <td>32</td>\n",
       "    </tr>\n",
       "    <tr>\n",
       "      <th>4</th>\n",
       "      <td>11748</td>\n",
       "      <td>0</td>\n",
       "      <td>5</td>\n",
       "      <td>0</td>\n",
       "      <td>False</td>\n",
       "      <td>False</td>\n",
       "      <td>False</td>\n",
       "      <td>False</td>\n",
       "      <td>False</td>\n",
       "      <td>True</td>\n",
       "      <td>False</td>\n",
       "      <td>False</td>\n",
       "      <td>32</td>\n",
       "    </tr>\n",
       "  </tbody>\n",
       "</table>\n",
       "</div>"
      ],
      "text/plain": [
       "    RANK  SX  LOC  PHASE  CAT_BCA  CAT_BCB  CAT_BCC  CAT_BCD  CAT_BCE  CAT_OC  \\\n",
       "0   1503   1    1      0    False    False    False     True    False   False   \n",
       "1   2599   0    1      0    False    False    False    False    False    True   \n",
       "2   5738   1    1      0    False    False    False    False    False    True   \n",
       "3   8695   1    0      0    False    False    False    False    False    True   \n",
       "4  11748   0    5      0    False    False    False    False    False    True   \n",
       "\n",
       "   CAT_SC  CAT_ST  COLLEGE  \n",
       "0   False   False       32  \n",
       "1   False   False       32  \n",
       "2   False   False       32  \n",
       "3   False   False       32  \n",
       "4   False   False       32  "
      ]
     },
     "execution_count": 89,
     "metadata": {},
     "output_type": "execute_result"
    }
   ],
   "source": [
    "df_updated.head()"
   ]
  },
  {
   "cell_type": "code",
   "execution_count": 90,
   "metadata": {},
   "outputs": [
    {
     "data": {
      "text/plain": [
       "(14840, 13)"
      ]
     },
     "execution_count": 90,
     "metadata": {},
     "output_type": "execute_result"
    }
   ],
   "source": [
    "df_updated.shape"
   ]
  },
  {
   "cell_type": "code",
   "execution_count": null,
   "metadata": {},
   "outputs": [],
   "source": []
  },
  {
   "cell_type": "code",
   "execution_count": 91,
   "metadata": {},
   "outputs": [
    {
     "data": {
      "text/plain": [
       "count    1.484000e+04\n",
       "mean     9.007095e+04\n",
       "std      8.450754e+04\n",
       "min      1.242000e+03\n",
       "25%      4.734150e+04\n",
       "50%      7.399650e+04\n",
       "75%      1.112300e+05\n",
       "max      1.184319e+06\n",
       "Name: RANK, dtype: float64"
      ]
     },
     "execution_count": 91,
     "metadata": {},
     "output_type": "execute_result"
    }
   ],
   "source": [
    "df_updated[\"RANK\"].describe()"
   ]
  },
  {
   "cell_type": "code",
   "execution_count": 92,
   "metadata": {},
   "outputs": [],
   "source": [
    "from sklearn.model_selection import train_test_split \n",
    "X_train,X_test,y_train,y_test=train_test_split(df_updated.drop([\"COLLEGE\"],axis=1),df_updated[\"COLLEGE\"],test_size=0.2,random_state=231)"
   ]
  },
  {
   "cell_type": "code",
   "execution_count": 93,
   "metadata": {},
   "outputs": [
    {
     "data": {
      "text/html": [
       "<div>\n",
       "<style scoped>\n",
       "    .dataframe tbody tr th:only-of-type {\n",
       "        vertical-align: middle;\n",
       "    }\n",
       "\n",
       "    .dataframe tbody tr th {\n",
       "        vertical-align: top;\n",
       "    }\n",
       "\n",
       "    .dataframe thead th {\n",
       "        text-align: right;\n",
       "    }\n",
       "</style>\n",
       "<table border=\"1\" class=\"dataframe\">\n",
       "  <thead>\n",
       "    <tr style=\"text-align: right;\">\n",
       "      <th></th>\n",
       "      <th>RANK</th>\n",
       "      <th>SX</th>\n",
       "      <th>LOC</th>\n",
       "      <th>PHASE</th>\n",
       "      <th>CAT_BCA</th>\n",
       "      <th>CAT_BCB</th>\n",
       "      <th>CAT_BCC</th>\n",
       "      <th>CAT_BCD</th>\n",
       "      <th>CAT_BCE</th>\n",
       "      <th>CAT_OC</th>\n",
       "      <th>CAT_SC</th>\n",
       "      <th>CAT_ST</th>\n",
       "    </tr>\n",
       "  </thead>\n",
       "  <tbody>\n",
       "    <tr>\n",
       "      <th>11789</th>\n",
       "      <td>139673</td>\n",
       "      <td>1</td>\n",
       "      <td>3</td>\n",
       "      <td>0</td>\n",
       "      <td>False</td>\n",
       "      <td>False</td>\n",
       "      <td>False</td>\n",
       "      <td>False</td>\n",
       "      <td>False</td>\n",
       "      <td>False</td>\n",
       "      <td>False</td>\n",
       "      <td>True</td>\n",
       "    </tr>\n",
       "    <tr>\n",
       "      <th>12494</th>\n",
       "      <td>137322</td>\n",
       "      <td>0</td>\n",
       "      <td>1</td>\n",
       "      <td>0</td>\n",
       "      <td>False</td>\n",
       "      <td>False</td>\n",
       "      <td>False</td>\n",
       "      <td>False</td>\n",
       "      <td>False</td>\n",
       "      <td>False</td>\n",
       "      <td>True</td>\n",
       "      <td>False</td>\n",
       "    </tr>\n",
       "    <tr>\n",
       "      <th>12126</th>\n",
       "      <td>98040</td>\n",
       "      <td>1</td>\n",
       "      <td>1</td>\n",
       "      <td>0</td>\n",
       "      <td>True</td>\n",
       "      <td>False</td>\n",
       "      <td>False</td>\n",
       "      <td>False</td>\n",
       "      <td>False</td>\n",
       "      <td>False</td>\n",
       "      <td>False</td>\n",
       "      <td>False</td>\n",
       "    </tr>\n",
       "    <tr>\n",
       "      <th>4864</th>\n",
       "      <td>97181</td>\n",
       "      <td>0</td>\n",
       "      <td>1</td>\n",
       "      <td>0</td>\n",
       "      <td>False</td>\n",
       "      <td>False</td>\n",
       "      <td>False</td>\n",
       "      <td>False</td>\n",
       "      <td>False</td>\n",
       "      <td>False</td>\n",
       "      <td>True</td>\n",
       "      <td>False</td>\n",
       "    </tr>\n",
       "    <tr>\n",
       "      <th>12449</th>\n",
       "      <td>62230</td>\n",
       "      <td>0</td>\n",
       "      <td>1</td>\n",
       "      <td>1</td>\n",
       "      <td>False</td>\n",
       "      <td>False</td>\n",
       "      <td>False</td>\n",
       "      <td>False</td>\n",
       "      <td>False</td>\n",
       "      <td>True</td>\n",
       "      <td>False</td>\n",
       "      <td>False</td>\n",
       "    </tr>\n",
       "  </tbody>\n",
       "</table>\n",
       "</div>"
      ],
      "text/plain": [
       "         RANK  SX  LOC  PHASE  CAT_BCA  CAT_BCB  CAT_BCC  CAT_BCD  CAT_BCE  \\\n",
       "11789  139673   1    3      0    False    False    False    False    False   \n",
       "12494  137322   0    1      0    False    False    False    False    False   \n",
       "12126   98040   1    1      0     True    False    False    False    False   \n",
       "4864    97181   0    1      0    False    False    False    False    False   \n",
       "12449   62230   0    1      1    False    False    False    False    False   \n",
       "\n",
       "       CAT_OC  CAT_SC  CAT_ST  \n",
       "11789   False   False    True  \n",
       "12494   False    True   False  \n",
       "12126   False   False   False  \n",
       "4864    False    True   False  \n",
       "12449    True   False   False  "
      ]
     },
     "execution_count": 93,
     "metadata": {},
     "output_type": "execute_result"
    }
   ],
   "source": [
    "X_train.head()"
   ]
  },
  {
   "cell_type": "code",
   "execution_count": 94,
   "metadata": {},
   "outputs": [
    {
     "data": {
      "text/plain": [
       "11789    20\n",
       "12494    25\n",
       "12126    21\n",
       "4864      9\n",
       "12449    24\n",
       "Name: COLLEGE, dtype: int64"
      ]
     },
     "execution_count": 94,
     "metadata": {},
     "output_type": "execute_result"
    }
   ],
   "source": [
    "y_train.head()"
   ]
  },
  {
   "cell_type": "code",
   "execution_count": 95,
   "metadata": {},
   "outputs": [
    {
     "name": "stdout",
     "output_type": "stream",
     "text": [
      "90.83557951482479\n",
      "[[88  0  0 ...  0  0  0]\n",
      " [ 0 71  0 ...  0  0  0]\n",
      " [ 0  0 74 ...  0  1  0]\n",
      " ...\n",
      " [ 0  0  0 ... 88  0  0]\n",
      " [ 2  0  0 ...  1 63  0]\n",
      " [ 0  0  0 ...  0  0 86]]\n",
      "              precision    recall  f1-score   support\n",
      "\n",
      "           0       0.87      0.93      0.90        95\n",
      "           1       0.88      0.91      0.89        78\n",
      "           2       0.89      0.82      0.86        90\n",
      "           3       0.92      0.96      0.94        73\n",
      "           4       0.98      0.94      0.96        88\n",
      "           5       1.00      0.97      0.99        76\n",
      "           6       0.86      0.94      0.90        85\n",
      "           7       0.90      0.92      0.91        89\n",
      "           8       0.95      0.90      0.92        98\n",
      "           9       0.97      0.97      0.97        76\n",
      "          10       0.84      0.89      0.87        83\n",
      "          11       0.95      0.94      0.94        80\n",
      "          12       1.00      0.98      0.99        94\n",
      "          13       0.91      0.87      0.89        82\n",
      "          14       0.99      0.99      0.99        79\n",
      "          16       0.96      1.00      0.98        82\n",
      "          17       0.87      0.93      0.90        76\n",
      "          18       0.95      0.96      0.96        83\n",
      "          19       0.67      0.66      0.66        90\n",
      "          20       0.94      0.95      0.95       101\n",
      "          21       1.00      0.83      0.91        88\n",
      "          23       0.87      0.69      0.77        90\n",
      "          24       0.85      0.94      0.89        78\n",
      "          25       0.92      0.89      0.90        80\n",
      "          26       0.96      0.96      0.96        85\n",
      "          27       0.92      0.87      0.89       101\n",
      "          28       1.00      0.94      0.97        88\n",
      "          29       0.92      0.97      0.95        80\n",
      "          30       0.65      0.72      0.68        69\n",
      "          31       0.94      0.96      0.95        79\n",
      "          32       0.83      0.91      0.87        86\n",
      "          33       0.99      0.92      0.95        90\n",
      "          35       0.97      0.94      0.95        94\n",
      "          36       0.72      0.85      0.78        74\n",
      "          37       0.98      0.98      0.98        88\n",
      "\n",
      "    accuracy                           0.91      2968\n",
      "   macro avg       0.91      0.91      0.91      2968\n",
      "weighted avg       0.91      0.91      0.91      2968\n",
      "\n"
     ]
    }
   ],
   "source": [
    "from sklearn.ensemble import RandomForestClassifier\n",
    "from sklearn.metrics import accuracy_score,confusion_matrix,classification_report\n",
    "rfc=RandomForestClassifier()\n",
    "rfc.fit(X_train,y_train)\n",
    "y_p=rfc.predict(X_test)\n",
    "print(accuracy_score(y_p,y_test)*100)\n",
    "print(confusion_matrix(y_p,y_test))\n",
    "print(classification_report(y_p,y_test))"
   ]
  },
  {
   "cell_type": "code",
   "execution_count": 96,
   "metadata": {},
   "outputs": [
    {
     "data": {
      "text/plain": [
       "array([10,  6,  3, ..., 27, 35, 31])"
      ]
     },
     "execution_count": 96,
     "metadata": {},
     "output_type": "execute_result"
    }
   ],
   "source": [
    "y_p"
   ]
  },
  {
   "cell_type": "code",
   "execution_count": 97,
   "metadata": {},
   "outputs": [
    {
     "data": {
      "text/plain": [
       "6412     10\n",
       "8916      6\n",
       "8240      3\n",
       "14828    37\n",
       "9483      9\n",
       "         ..\n",
       "2330     36\n",
       "7584      7\n",
       "12990    27\n",
       "14432    35\n",
       "3420     31\n",
       "Name: COLLEGE, Length: 2968, dtype: int64"
      ]
     },
     "execution_count": 97,
     "metadata": {},
     "output_type": "execute_result"
    }
   ],
   "source": [
    "y_test"
   ]
  },
  {
   "cell_type": "code",
   "execution_count": 98,
   "metadata": {},
   "outputs": [
    {
     "name": "stdout",
     "output_type": "stream",
     "text": [
      "0.9080188679245284\n",
      "              precision    recall  f1-score   support\n",
      "\n",
      "           0       0.83      0.92      0.87        91\n",
      "           1       0.86      0.90      0.88        78\n",
      "           2       0.83      0.84      0.84        82\n",
      "           3       0.92      0.96      0.94        73\n",
      "           4       0.98      0.92      0.95        90\n",
      "           5       1.00      1.00      1.00        74\n",
      "           6       0.87      0.94      0.91        86\n",
      "           7       0.90      0.96      0.93        85\n",
      "           8       0.96      0.85      0.90       105\n",
      "           9       0.97      0.96      0.97        77\n",
      "          10       0.86      0.92      0.89        83\n",
      "          11       0.95      0.94      0.94        80\n",
      "          12       1.00      0.91      0.95       101\n",
      "          13       0.91      0.87      0.89        82\n",
      "          14       0.99      0.97      0.98        80\n",
      "          16       0.96      1.00      0.98        82\n",
      "          17       0.89      0.94      0.91        78\n",
      "          18       0.95      0.93      0.94        86\n",
      "          19       0.67      0.71      0.69        83\n",
      "          20       0.96      0.93      0.95       105\n",
      "          21       0.97      0.84      0.90        85\n",
      "          23       0.89      0.72      0.80        87\n",
      "          24       0.85      0.94      0.89        78\n",
      "          25       0.92      0.91      0.92        78\n",
      "          26       0.95      0.96      0.96        84\n",
      "          27       0.91      0.88      0.89        99\n",
      "          28       1.00      0.99      0.99        84\n",
      "          29       0.88      0.95      0.91        79\n",
      "          30       0.69      0.72      0.70        74\n",
      "          31       0.95      0.96      0.96        80\n",
      "          32       0.86      0.89      0.88        91\n",
      "          33       0.98      0.94      0.96        87\n",
      "          35       0.97      0.90      0.93        98\n",
      "          36       0.74      0.86      0.80        74\n",
      "          37       0.98      0.97      0.97        89\n",
      "\n",
      "    accuracy                           0.91      2968\n",
      "   macro avg       0.91      0.91      0.91      2968\n",
      "weighted avg       0.91      0.91      0.91      2968\n",
      "\n"
     ]
    }
   ],
   "source": [
    "from sklearn.tree import DecisionTreeClassifier\n",
    "dt=DecisionTreeClassifier()\n",
    "dt.fit(X_train,y_train)\n",
    "y_p=dt.predict(X_test)\n",
    "print(accuracy_score(y_p,y_test))\n",
    "print(classification_report(y_p,y_test))"
   ]
  },
  {
   "cell_type": "code",
   "execution_count": 99,
   "metadata": {},
   "outputs": [
    {
     "data": {
      "text/plain": [
       "array([10,  6,  3, ..., 27, 35, 31])"
      ]
     },
     "execution_count": 99,
     "metadata": {},
     "output_type": "execute_result"
    }
   ],
   "source": [
    "y_p"
   ]
  },
  {
   "cell_type": "code",
   "execution_count": 100,
   "metadata": {},
   "outputs": [
    {
     "data": {
      "text/plain": [
       "6412     10\n",
       "8916      6\n",
       "8240      3\n",
       "14828    37\n",
       "9483      9\n",
       "         ..\n",
       "2330     36\n",
       "7584      7\n",
       "12990    27\n",
       "14432    35\n",
       "3420     31\n",
       "Name: COLLEGE, Length: 2968, dtype: int64"
      ]
     },
     "execution_count": 100,
     "metadata": {},
     "output_type": "execute_result"
    }
   ],
   "source": [
    "y_test"
   ]
  },
  {
   "cell_type": "code",
   "execution_count": 101,
   "metadata": {},
   "outputs": [
    {
     "data": {
      "text/html": [
       "<div>\n",
       "<style scoped>\n",
       "    .dataframe tbody tr th:only-of-type {\n",
       "        vertical-align: middle;\n",
       "    }\n",
       "\n",
       "    .dataframe tbody tr th {\n",
       "        vertical-align: top;\n",
       "    }\n",
       "\n",
       "    .dataframe thead th {\n",
       "        text-align: right;\n",
       "    }\n",
       "</style>\n",
       "<table border=\"1\" class=\"dataframe\">\n",
       "  <thead>\n",
       "    <tr style=\"text-align: right;\">\n",
       "      <th></th>\n",
       "      <th>RANK</th>\n",
       "      <th>SX</th>\n",
       "      <th>LOC</th>\n",
       "      <th>PHASE</th>\n",
       "      <th>CAT_BCA</th>\n",
       "      <th>CAT_BCB</th>\n",
       "      <th>CAT_BCC</th>\n",
       "      <th>CAT_BCD</th>\n",
       "      <th>CAT_BCE</th>\n",
       "      <th>CAT_OC</th>\n",
       "      <th>CAT_SC</th>\n",
       "      <th>CAT_ST</th>\n",
       "    </tr>\n",
       "  </thead>\n",
       "  <tbody>\n",
       "    <tr>\n",
       "      <th>6412</th>\n",
       "      <td>63318</td>\n",
       "      <td>0</td>\n",
       "      <td>1</td>\n",
       "      <td>0</td>\n",
       "      <td>True</td>\n",
       "      <td>False</td>\n",
       "      <td>False</td>\n",
       "      <td>False</td>\n",
       "      <td>False</td>\n",
       "      <td>False</td>\n",
       "      <td>False</td>\n",
       "      <td>False</td>\n",
       "    </tr>\n",
       "    <tr>\n",
       "      <th>8916</th>\n",
       "      <td>60905</td>\n",
       "      <td>0</td>\n",
       "      <td>1</td>\n",
       "      <td>0</td>\n",
       "      <td>False</td>\n",
       "      <td>False</td>\n",
       "      <td>False</td>\n",
       "      <td>True</td>\n",
       "      <td>False</td>\n",
       "      <td>False</td>\n",
       "      <td>False</td>\n",
       "      <td>False</td>\n",
       "    </tr>\n",
       "    <tr>\n",
       "      <th>8240</th>\n",
       "      <td>145730</td>\n",
       "      <td>1</td>\n",
       "      <td>5</td>\n",
       "      <td>0</td>\n",
       "      <td>False</td>\n",
       "      <td>False</td>\n",
       "      <td>False</td>\n",
       "      <td>False</td>\n",
       "      <td>False</td>\n",
       "      <td>False</td>\n",
       "      <td>True</td>\n",
       "      <td>False</td>\n",
       "    </tr>\n",
       "    <tr>\n",
       "      <th>14828</th>\n",
       "      <td>106186</td>\n",
       "      <td>1</td>\n",
       "      <td>5</td>\n",
       "      <td>0</td>\n",
       "      <td>False</td>\n",
       "      <td>True</td>\n",
       "      <td>False</td>\n",
       "      <td>False</td>\n",
       "      <td>False</td>\n",
       "      <td>False</td>\n",
       "      <td>False</td>\n",
       "      <td>False</td>\n",
       "    </tr>\n",
       "    <tr>\n",
       "      <th>9483</th>\n",
       "      <td>45954</td>\n",
       "      <td>1</td>\n",
       "      <td>1</td>\n",
       "      <td>0</td>\n",
       "      <td>False</td>\n",
       "      <td>False</td>\n",
       "      <td>False</td>\n",
       "      <td>True</td>\n",
       "      <td>False</td>\n",
       "      <td>False</td>\n",
       "      <td>False</td>\n",
       "      <td>False</td>\n",
       "    </tr>\n",
       "    <tr>\n",
       "      <th>...</th>\n",
       "      <td>...</td>\n",
       "      <td>...</td>\n",
       "      <td>...</td>\n",
       "      <td>...</td>\n",
       "      <td>...</td>\n",
       "      <td>...</td>\n",
       "      <td>...</td>\n",
       "      <td>...</td>\n",
       "      <td>...</td>\n",
       "      <td>...</td>\n",
       "      <td>...</td>\n",
       "      <td>...</td>\n",
       "    </tr>\n",
       "    <tr>\n",
       "      <th>2330</th>\n",
       "      <td>59916</td>\n",
       "      <td>1</td>\n",
       "      <td>5</td>\n",
       "      <td>0</td>\n",
       "      <td>False</td>\n",
       "      <td>False</td>\n",
       "      <td>False</td>\n",
       "      <td>False</td>\n",
       "      <td>False</td>\n",
       "      <td>False</td>\n",
       "      <td>True</td>\n",
       "      <td>False</td>\n",
       "    </tr>\n",
       "    <tr>\n",
       "      <th>7584</th>\n",
       "      <td>156858</td>\n",
       "      <td>0</td>\n",
       "      <td>1</td>\n",
       "      <td>1</td>\n",
       "      <td>False</td>\n",
       "      <td>False</td>\n",
       "      <td>False</td>\n",
       "      <td>False</td>\n",
       "      <td>False</td>\n",
       "      <td>False</td>\n",
       "      <td>True</td>\n",
       "      <td>False</td>\n",
       "    </tr>\n",
       "    <tr>\n",
       "      <th>12990</th>\n",
       "      <td>84758</td>\n",
       "      <td>1</td>\n",
       "      <td>5</td>\n",
       "      <td>0</td>\n",
       "      <td>False</td>\n",
       "      <td>False</td>\n",
       "      <td>False</td>\n",
       "      <td>False</td>\n",
       "      <td>True</td>\n",
       "      <td>False</td>\n",
       "      <td>False</td>\n",
       "      <td>False</td>\n",
       "    </tr>\n",
       "    <tr>\n",
       "      <th>14432</th>\n",
       "      <td>62094</td>\n",
       "      <td>0</td>\n",
       "      <td>5</td>\n",
       "      <td>1</td>\n",
       "      <td>False</td>\n",
       "      <td>False</td>\n",
       "      <td>False</td>\n",
       "      <td>False</td>\n",
       "      <td>False</td>\n",
       "      <td>True</td>\n",
       "      <td>False</td>\n",
       "      <td>False</td>\n",
       "    </tr>\n",
       "    <tr>\n",
       "      <th>3420</th>\n",
       "      <td>101722</td>\n",
       "      <td>1</td>\n",
       "      <td>5</td>\n",
       "      <td>0</td>\n",
       "      <td>True</td>\n",
       "      <td>False</td>\n",
       "      <td>False</td>\n",
       "      <td>False</td>\n",
       "      <td>False</td>\n",
       "      <td>False</td>\n",
       "      <td>False</td>\n",
       "      <td>False</td>\n",
       "    </tr>\n",
       "  </tbody>\n",
       "</table>\n",
       "<p>2968 rows × 12 columns</p>\n",
       "</div>"
      ],
      "text/plain": [
       "         RANK  SX  LOC  PHASE  CAT_BCA  CAT_BCB  CAT_BCC  CAT_BCD  CAT_BCE  \\\n",
       "6412    63318   0    1      0     True    False    False    False    False   \n",
       "8916    60905   0    1      0    False    False    False     True    False   \n",
       "8240   145730   1    5      0    False    False    False    False    False   \n",
       "14828  106186   1    5      0    False     True    False    False    False   \n",
       "9483    45954   1    1      0    False    False    False     True    False   \n",
       "...       ...  ..  ...    ...      ...      ...      ...      ...      ...   \n",
       "2330    59916   1    5      0    False    False    False    False    False   \n",
       "7584   156858   0    1      1    False    False    False    False    False   \n",
       "12990   84758   1    5      0    False    False    False    False     True   \n",
       "14432   62094   0    5      1    False    False    False    False    False   \n",
       "3420   101722   1    5      0     True    False    False    False    False   \n",
       "\n",
       "       CAT_OC  CAT_SC  CAT_ST  \n",
       "6412    False   False   False  \n",
       "8916    False   False   False  \n",
       "8240    False    True   False  \n",
       "14828   False   False   False  \n",
       "9483    False   False   False  \n",
       "...       ...     ...     ...  \n",
       "2330    False    True   False  \n",
       "7584    False    True   False  \n",
       "12990   False   False   False  \n",
       "14432    True   False   False  \n",
       "3420    False   False   False  \n",
       "\n",
       "[2968 rows x 12 columns]"
      ]
     },
     "execution_count": 101,
     "metadata": {},
     "output_type": "execute_result"
    }
   ],
   "source": [
    "X_test"
   ]
  },
  {
   "cell_type": "code",
   "execution_count": 102,
   "metadata": {},
   "outputs": [
    {
     "ename": "NameError",
     "evalue": "name 'p' is not defined",
     "output_type": "error",
     "traceback": [
      "\u001b[0;31m---------------------------------------------------------------------------\u001b[0m",
      "\u001b[0;31mNameError\u001b[0m                                 Traceback (most recent call last)",
      "Cell \u001b[0;32mIn[102], line 1\u001b[0m\n\u001b[0;32m----> 1\u001b[0m p\n",
      "\u001b[0;31mNameError\u001b[0m: name 'p' is not defined"
     ]
    }
   ],
   "source": [
    "p"
   ]
  },
  {
   "cell_type": "code",
   "execution_count": null,
   "metadata": {},
   "outputs": [
    {
     "data": {
      "text/plain": [
       "6412     10\n",
       "8916      6\n",
       "8240      3\n",
       "14828    37\n",
       "9483      9\n",
       "         ..\n",
       "2330     36\n",
       "7584      7\n",
       "12990    27\n",
       "14432    35\n",
       "3420     31\n",
       "Name: COLLEGE, Length: 2968, dtype: int64"
      ]
     },
     "execution_count": 66,
     "metadata": {},
     "output_type": "execute_result"
    }
   ],
   "source": [
    "y_test"
   ]
  },
  {
   "cell_type": "code",
   "execution_count": null,
   "metadata": {},
   "outputs": [],
   "source": []
  }
 ],
 "metadata": {
  "kernelspec": {
   "display_name": ".venv",
   "language": "python",
   "name": "python3"
  },
  "language_info": {
   "codemirror_mode": {
    "name": "ipython",
    "version": 3
   },
   "file_extension": ".py",
   "mimetype": "text/x-python",
   "name": "python",
   "nbconvert_exporter": "python",
   "pygments_lexer": "ipython3",
   "version": "3.11.5"
  }
 },
 "nbformat": 4,
 "nbformat_minor": 2
}
