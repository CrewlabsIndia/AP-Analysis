{
 "cells": [
  {
   "cell_type": "code",
   "execution_count": 107,
   "metadata": {},
   "outputs": [],
   "source": [
    "import numpy as np \n",
    "import pandas as pd \n",
    "import seaborn as sns\n",
    "import matplotlib.pyplot as plt\n"
   ]
  },
  {
   "cell_type": "code",
   "execution_count": 108,
   "metadata": {},
   "outputs": [],
   "source": [
    "df=pd.read_csv(\"/Users/namanmuktha/Desktop/mediksearch/Tel & Ap Data/TelanganaDBS.csv\")"
   ]
  },
  {
   "cell_type": "code",
   "execution_count": 109,
   "metadata": {},
   "outputs": [
    {
     "data": {
      "text/html": [
       "<div>\n",
       "<style scoped>\n",
       "    .dataframe tbody tr th:only-of-type {\n",
       "        vertical-align: middle;\n",
       "    }\n",
       "\n",
       "    .dataframe tbody tr th {\n",
       "        vertical-align: top;\n",
       "    }\n",
       "\n",
       "    .dataframe thead th {\n",
       "        text-align: right;\n",
       "    }\n",
       "</style>\n",
       "<table border=\"1\" class=\"dataframe\">\n",
       "  <thead>\n",
       "    <tr style=\"text-align: right;\">\n",
       "      <th></th>\n",
       "      <th>COLLEGE</th>\n",
       "      <th>RANK</th>\n",
       "      <th>LOC</th>\n",
       "      <th>CAT</th>\n",
       "      <th>SX</th>\n",
       "      <th>EWS</th>\n",
       "      <th>PHASE</th>\n",
       "    </tr>\n",
       "  </thead>\n",
       "  <tbody>\n",
       "    <tr>\n",
       "      <th>0</th>\n",
       "      <td>GOVT DENTAL COLLEGE AND HOSPITAL, HYDERABAD</td>\n",
       "      <td>66195.0</td>\n",
       "      <td>AU</td>\n",
       "      <td>OC</td>\n",
       "      <td>M</td>\n",
       "      <td>NO</td>\n",
       "      <td>P1</td>\n",
       "    </tr>\n",
       "    <tr>\n",
       "      <th>1</th>\n",
       "      <td>GOVT DENTAL COLLEGE AND HOSPITAL, HYDERABAD</td>\n",
       "      <td>67988.0</td>\n",
       "      <td>AU</td>\n",
       "      <td>OC</td>\n",
       "      <td>F</td>\n",
       "      <td>NO</td>\n",
       "      <td>P1</td>\n",
       "    </tr>\n",
       "    <tr>\n",
       "      <th>2</th>\n",
       "      <td>GOVT DENTAL COLLEGE AND HOSPITAL, HYDERABAD</td>\n",
       "      <td>68561.0</td>\n",
       "      <td>SVU</td>\n",
       "      <td>OC</td>\n",
       "      <td>F</td>\n",
       "      <td>NO</td>\n",
       "      <td>P1</td>\n",
       "    </tr>\n",
       "    <tr>\n",
       "      <th>3</th>\n",
       "      <td>GOVT DENTAL COLLEGE AND HOSPITAL, HYDERABAD</td>\n",
       "      <td>68711.0</td>\n",
       "      <td>AU</td>\n",
       "      <td>OC</td>\n",
       "      <td>M</td>\n",
       "      <td>NO</td>\n",
       "      <td>P1</td>\n",
       "    </tr>\n",
       "    <tr>\n",
       "      <th>4</th>\n",
       "      <td>GOVT DENTAL COLLEGE AND HOSPITAL, HYDERABAD</td>\n",
       "      <td>69482.0</td>\n",
       "      <td>AU</td>\n",
       "      <td>OC</td>\n",
       "      <td>F</td>\n",
       "      <td>NO</td>\n",
       "      <td>P1</td>\n",
       "    </tr>\n",
       "  </tbody>\n",
       "</table>\n",
       "</div>"
      ],
      "text/plain": [
       "                                       COLLEGE     RANK  LOC CAT SX EWS PHASE\n",
       "0  GOVT DENTAL COLLEGE AND HOSPITAL, HYDERABAD  66195.0   AU  OC  M  NO    P1\n",
       "1  GOVT DENTAL COLLEGE AND HOSPITAL, HYDERABAD  67988.0   AU  OC  F  NO    P1\n",
       "2  GOVT DENTAL COLLEGE AND HOSPITAL, HYDERABAD  68561.0  SVU  OC  F  NO    P1\n",
       "3  GOVT DENTAL COLLEGE AND HOSPITAL, HYDERABAD  68711.0   AU  OC  M  NO    P1\n",
       "4  GOVT DENTAL COLLEGE AND HOSPITAL, HYDERABAD  69482.0   AU  OC  F  NO    P1"
      ]
     },
     "execution_count": 109,
     "metadata": {},
     "output_type": "execute_result"
    }
   ],
   "source": [
    "df.head()"
   ]
  },
  {
   "cell_type": "code",
   "execution_count": 110,
   "metadata": {},
   "outputs": [
    {
     "data": {
      "text/plain": [
       "COLLEGE     object\n",
       "RANK       float64\n",
       "LOC         object\n",
       "CAT         object\n",
       "SX          object\n",
       "EWS         object\n",
       "PHASE       object\n",
       "dtype: object"
      ]
     },
     "execution_count": 110,
     "metadata": {},
     "output_type": "execute_result"
    }
   ],
   "source": [
    "df.dtypes"
   ]
  },
  {
   "cell_type": "code",
   "execution_count": 111,
   "metadata": {},
   "outputs": [
    {
     "data": {
      "text/plain": [
       "count      4726.000000\n",
       "mean     244724.712653\n",
       "std       68245.875091\n",
       "min       63730.000000\n",
       "25%      202697.000000\n",
       "50%      240376.500000\n",
       "75%      288507.000000\n",
       "max      790177.000000\n",
       "Name: RANK, dtype: float64"
      ]
     },
     "execution_count": 111,
     "metadata": {},
     "output_type": "execute_result"
    }
   ],
   "source": [
    "df[\"RANK\"].describe()"
   ]
  },
  {
   "cell_type": "code",
   "execution_count": 112,
   "metadata": {},
   "outputs": [
    {
     "data": {
      "text/plain": [
       "array([[<Axes: title={'center': 'RANK'}>]], dtype=object)"
      ]
     },
     "execution_count": 112,
     "metadata": {},
     "output_type": "execute_result"
    },
    {
     "data": {
      "image/png": "[encoded data removed]",
      "text/plain": [
       "<Figure size 640x480 with 1 Axes>"
      ]
     },
     "metadata": {},
     "output_type": "display_data"
    }
   ],
   "source": [
    "df.hist()"
   ]
  },
  {
   "cell_type": "code",
   "execution_count": 113,
   "metadata": {},
   "outputs": [
    {
     "data": {
      "text/plain": [
       "COLLEGE     0\n",
       "RANK        9\n",
       "LOC         9\n",
       "CAT         9\n",
       "SX          9\n",
       "EWS         0\n",
       "PHASE      81\n",
       "dtype: int64"
      ]
     },
     "execution_count": 113,
     "metadata": {},
     "output_type": "execute_result"
    }
   ],
   "source": [
    "df.isna().sum()"
   ]
  },
  {
   "cell_type": "code",
   "execution_count": 114,
   "metadata": {},
   "outputs": [
    {
     "data": {
      "text/plain": [
       "(4735, 7)"
      ]
     },
     "execution_count": 114,
     "metadata": {},
     "output_type": "execute_result"
    }
   ],
   "source": [
    "df.shape"
   ]
  },
  {
   "cell_type": "code",
   "execution_count": 115,
   "metadata": {},
   "outputs": [],
   "source": [
    "df=df.dropna()"
   ]
  },
  {
   "cell_type": "code",
   "execution_count": 116,
   "metadata": {},
   "outputs": [
    {
     "data": {
      "text/plain": [
       "COLLEGE    0\n",
       "RANK       0\n",
       "LOC        0\n",
       "CAT        0\n",
       "SX         0\n",
       "EWS        0\n",
       "PHASE      0\n",
       "dtype: int64"
      ]
     },
     "execution_count": 116,
     "metadata": {},
     "output_type": "execute_result"
    }
   ],
   "source": [
    "df.isna().sum()"
   ]
  },
  {
   "cell_type": "code",
   "execution_count": 117,
   "metadata": {},
   "outputs": [
    {
     "data": {
      "text/plain": [
       "COLLEGE      14\n",
       "RANK       1556\n",
       "LOC           4\n",
       "CAT           8\n",
       "SX            2\n",
       "EWS           1\n",
       "PHASE         5\n",
       "dtype: int64"
      ]
     },
     "execution_count": 117,
     "metadata": {},
     "output_type": "execute_result"
    }
   ],
   "source": [
    "df.nunique()"
   ]
  },
  {
   "cell_type": "code",
   "execution_count": 118,
   "metadata": {},
   "outputs": [
    {
     "data": {
      "text/plain": [
       "<Axes: xlabel='COLLEGE', ylabel='count'>"
      ]
     },
     "execution_count": 118,
     "metadata": {},
     "output_type": "execute_result"
    },
    {
     "data": {
      "image/png": "[encoded data removed]",
      "text/plain": [
       "<Figure size 640x480 with 1 Axes>"
      ]
     },
     "metadata": {},
     "output_type": "display_data"
    }
   ],
   "source": [
    "sns.countplot(data=df,x=\"COLLEGE\")"
   ]
  },
  {
   "cell_type": "code",
   "execution_count": 119,
   "metadata": {},
   "outputs": [],
   "source": [
    "from sklearn.preprocessing import LabelEncoder\n",
    "disorder_column = df['COLLEGE']\n",
    "label_encoder = LabelEncoder()\n",
    "encoded_values = label_encoder.fit_transform(disorder_column)\n",
    "label_mapping = dict(zip(label_encoder.classes_, label_encoder.transform(label_encoder.classes_)))\n",
    "df['COLLEGE'] = encoded_values"
   ]
  },
  {
   "cell_type": "code",
   "execution_count": 120,
   "metadata": {},
   "outputs": [
    {
     "data": {
      "text/plain": [
       "{'ARMY COLLEGE OF DENTAL SCIENCES, SECUNDERABAD': 0,\n",
       " 'BALAJI DENTAL COLLEGE, MOINABAD': 1,\n",
       " 'GOVT DENTAL COLLEGE AND HOSPITAL, HYDERABAD': 2,\n",
       " 'KAMINENI INSTITUTE OF DENTAL SCIENCES, NARKETPALLY': 3,\n",
       " 'M.N.R. DENTAL COLLEGE, FASALWADI': 4,\n",
       " 'MALLA REDDY DENTAL COLLEGE FOR WOMEN': 5,\n",
       " 'MALLA REDDY INSTITUTE OF DENTAL SCIENCES, HYD': 6,\n",
       " 'MAMATA DENTAL COLLEGE, KHAMMAM': 7,\n",
       " 'MAMATA INSTITUTE OF DENTAL SCIENCES, BACHUPALLY, HYDERABAD.': 8,\n",
       " 'MEGHANA INSTITUTE OF DENTAL SCIENCES, NIZAMABAD': 9,\n",
       " 'PANINEEYA MAHA VIDYALAYA INSTITUTE OF DENTAL SCIENCES': 10,\n",
       " 'SRI SAI COLLEGE OF DENTAL SURGERY, VIKARABAD': 11,\n",
       " 'SVS DENTAL COLLEGE, MAHABUBNAGAR': 12,\n",
       " 'THIRUMALA ACADEMY OF DENTAL SCIENCES, NIZAMABAD': 13}"
      ]
     },
     "execution_count": 120,
     "metadata": {},
     "output_type": "execute_result"
    }
   ],
   "source": [
    "label_mapping"
   ]
  },
  {
   "cell_type": "code",
   "execution_count": 121,
   "metadata": {},
   "outputs": [],
   "source": [
    "from sklearn.preprocessing import LabelEncoder\n",
    "disorder_column = df['SX']\n",
    "label_encoder = LabelEncoder()\n",
    "encoded_values = label_encoder.fit_transform(disorder_column)\n",
    "label_mapping1 = dict(zip(label_encoder.classes_, label_encoder.transform(label_encoder.classes_)))\n",
    "df['SX'] = encoded_values"
   ]
  },
  {
   "cell_type": "code",
   "execution_count": 122,
   "metadata": {},
   "outputs": [],
   "source": [
    "one_hot_encoded = pd.get_dummies(df['CAT'], prefix='CAT')\n",
    "\n",
    "# Drop the original 'CAT' column from the DataFrame\n",
    "df = df.drop('CAT', axis=1)\n",
    "\n",
    "# Concatenate the original DataFrame with the one-hot encoded DataFrame\n",
    "df = pd.concat([df, one_hot_encoded], axis=1)\n"
   ]
  },
  {
   "cell_type": "code",
   "execution_count": 123,
   "metadata": {},
   "outputs": [],
   "source": [
    "\n",
    "from sklearn.preprocessing import LabelEncoder\n",
    "disorder_column = df['LOC']\n",
    "label_encoder = LabelEncoder()\n",
    "encoded_values = label_encoder.fit_transform(disorder_column)\n",
    "label_mapping_loc = dict(zip(label_encoder.classes_, label_encoder.transform(label_encoder.classes_)))\n",
    "df['LOC'] = encoded_values"
   ]
  },
  {
   "cell_type": "code",
   "execution_count": 124,
   "metadata": {},
   "outputs": [],
   "source": [
    "from sklearn.preprocessing import LabelEncoder\n",
    "disorder_column = df['PHASE']\n",
    "label_encoder = LabelEncoder()\n",
    "encoded_values = label_encoder.fit_transform(disorder_column)\n",
    "label_mapping_phase = dict(zip(label_encoder.classes_, label_encoder.transform(label_encoder.classes_)))\n",
    "df['PHASE'] = encoded_values"
   ]
  },
  {
   "cell_type": "code",
   "execution_count": 125,
   "metadata": {},
   "outputs": [
    {
     "data": {
      "text/html": [
       "<div>\n",
       "<style scoped>\n",
       "    .dataframe tbody tr th:only-of-type {\n",
       "        vertical-align: middle;\n",
       "    }\n",
       "\n",
       "    .dataframe tbody tr th {\n",
       "        vertical-align: top;\n",
       "    }\n",
       "\n",
       "    .dataframe thead th {\n",
       "        text-align: right;\n",
       "    }\n",
       "</style>\n",
       "<table border=\"1\" class=\"dataframe\">\n",
       "  <thead>\n",
       "    <tr style=\"text-align: right;\">\n",
       "      <th></th>\n",
       "      <th>COLLEGE</th>\n",
       "      <th>RANK</th>\n",
       "      <th>LOC</th>\n",
       "      <th>SX</th>\n",
       "      <th>EWS</th>\n",
       "      <th>PHASE</th>\n",
       "      <th>CAT_BCA</th>\n",
       "      <th>CAT_BCB</th>\n",
       "      <th>CAT_BCC</th>\n",
       "      <th>CAT_BCD</th>\n",
       "      <th>CAT_BCE</th>\n",
       "      <th>CAT_OC</th>\n",
       "      <th>CAT_SC</th>\n",
       "      <th>CAT_ST</th>\n",
       "    </tr>\n",
       "  </thead>\n",
       "  <tbody>\n",
       "    <tr>\n",
       "      <th>0</th>\n",
       "      <td>2</td>\n",
       "      <td>66195.0</td>\n",
       "      <td>0</td>\n",
       "      <td>1</td>\n",
       "      <td>NO</td>\n",
       "      <td>0</td>\n",
       "      <td>False</td>\n",
       "      <td>False</td>\n",
       "      <td>False</td>\n",
       "      <td>False</td>\n",
       "      <td>False</td>\n",
       "      <td>True</td>\n",
       "      <td>False</td>\n",
       "      <td>False</td>\n",
       "    </tr>\n",
       "    <tr>\n",
       "      <th>1</th>\n",
       "      <td>2</td>\n",
       "      <td>67988.0</td>\n",
       "      <td>0</td>\n",
       "      <td>0</td>\n",
       "      <td>NO</td>\n",
       "      <td>0</td>\n",
       "      <td>False</td>\n",
       "      <td>False</td>\n",
       "      <td>False</td>\n",
       "      <td>False</td>\n",
       "      <td>False</td>\n",
       "      <td>True</td>\n",
       "      <td>False</td>\n",
       "      <td>False</td>\n",
       "    </tr>\n",
       "    <tr>\n",
       "      <th>2</th>\n",
       "      <td>2</td>\n",
       "      <td>68561.0</td>\n",
       "      <td>3</td>\n",
       "      <td>0</td>\n",
       "      <td>NO</td>\n",
       "      <td>0</td>\n",
       "      <td>False</td>\n",
       "      <td>False</td>\n",
       "      <td>False</td>\n",
       "      <td>False</td>\n",
       "      <td>False</td>\n",
       "      <td>True</td>\n",
       "      <td>False</td>\n",
       "      <td>False</td>\n",
       "    </tr>\n",
       "    <tr>\n",
       "      <th>3</th>\n",
       "      <td>2</td>\n",
       "      <td>68711.0</td>\n",
       "      <td>0</td>\n",
       "      <td>1</td>\n",
       "      <td>NO</td>\n",
       "      <td>0</td>\n",
       "      <td>False</td>\n",
       "      <td>False</td>\n",
       "      <td>False</td>\n",
       "      <td>False</td>\n",
       "      <td>False</td>\n",
       "      <td>True</td>\n",
       "      <td>False</td>\n",
       "      <td>False</td>\n",
       "    </tr>\n",
       "    <tr>\n",
       "      <th>4</th>\n",
       "      <td>2</td>\n",
       "      <td>69482.0</td>\n",
       "      <td>0</td>\n",
       "      <td>0</td>\n",
       "      <td>NO</td>\n",
       "      <td>0</td>\n",
       "      <td>False</td>\n",
       "      <td>False</td>\n",
       "      <td>False</td>\n",
       "      <td>False</td>\n",
       "      <td>False</td>\n",
       "      <td>True</td>\n",
       "      <td>False</td>\n",
       "      <td>False</td>\n",
       "    </tr>\n",
       "  </tbody>\n",
       "</table>\n",
       "</div>"
      ],
      "text/plain": [
       "   COLLEGE     RANK  LOC  SX EWS  PHASE  CAT_BCA  CAT_BCB  CAT_BCC  CAT_BCD  \\\n",
       "0        2  66195.0    0   1  NO      0    False    False    False    False   \n",
       "1        2  67988.0    0   0  NO      0    False    False    False    False   \n",
       "2        2  68561.0    3   0  NO      0    False    False    False    False   \n",
       "3        2  68711.0    0   1  NO      0    False    False    False    False   \n",
       "4        2  69482.0    0   0  NO      0    False    False    False    False   \n",
       "\n",
       "   CAT_BCE  CAT_OC  CAT_SC  CAT_ST  \n",
       "0    False    True   False   False  \n",
       "1    False    True   False   False  \n",
       "2    False    True   False   False  \n",
       "3    False    True   False   False  \n",
       "4    False    True   False   False  "
      ]
     },
     "execution_count": 125,
     "metadata": {},
     "output_type": "execute_result"
    }
   ],
   "source": [
    "df.head()"
   ]
  },
  {
   "cell_type": "code",
   "execution_count": 126,
   "metadata": {},
   "outputs": [],
   "source": [
    "df=df.drop([\"EWS\"],axis=1)"
   ]
  },
  {
   "cell_type": "code",
   "execution_count": 127,
   "metadata": {},
   "outputs": [
    {
     "data": {
      "text/html": [
       "<div>\n",
       "<style scoped>\n",
       "    .dataframe tbody tr th:only-of-type {\n",
       "        vertical-align: middle;\n",
       "    }\n",
       "\n",
       "    .dataframe tbody tr th {\n",
       "        vertical-align: top;\n",
       "    }\n",
       "\n",
       "    .dataframe thead th {\n",
       "        text-align: right;\n",
       "    }\n",
       "</style>\n",
       "<table border=\"1\" class=\"dataframe\">\n",
       "  <thead>\n",
       "    <tr style=\"text-align: right;\">\n",
       "      <th></th>\n",
       "      <th>COLLEGE</th>\n",
       "      <th>RANK</th>\n",
       "      <th>LOC</th>\n",
       "      <th>SX</th>\n",
       "      <th>PHASE</th>\n",
       "      <th>CAT_BCA</th>\n",
       "      <th>CAT_BCB</th>\n",
       "      <th>CAT_BCC</th>\n",
       "      <th>CAT_BCD</th>\n",
       "      <th>CAT_BCE</th>\n",
       "      <th>CAT_OC</th>\n",
       "      <th>CAT_SC</th>\n",
       "      <th>CAT_ST</th>\n",
       "    </tr>\n",
       "  </thead>\n",
       "  <tbody>\n",
       "    <tr>\n",
       "      <th>0</th>\n",
       "      <td>2</td>\n",
       "      <td>66195.0</td>\n",
       "      <td>0</td>\n",
       "      <td>1</td>\n",
       "      <td>0</td>\n",
       "      <td>False</td>\n",
       "      <td>False</td>\n",
       "      <td>False</td>\n",
       "      <td>False</td>\n",
       "      <td>False</td>\n",
       "      <td>True</td>\n",
       "      <td>False</td>\n",
       "      <td>False</td>\n",
       "    </tr>\n",
       "    <tr>\n",
       "      <th>1</th>\n",
       "      <td>2</td>\n",
       "      <td>67988.0</td>\n",
       "      <td>0</td>\n",
       "      <td>0</td>\n",
       "      <td>0</td>\n",
       "      <td>False</td>\n",
       "      <td>False</td>\n",
       "      <td>False</td>\n",
       "      <td>False</td>\n",
       "      <td>False</td>\n",
       "      <td>True</td>\n",
       "      <td>False</td>\n",
       "      <td>False</td>\n",
       "    </tr>\n",
       "    <tr>\n",
       "      <th>2</th>\n",
       "      <td>2</td>\n",
       "      <td>68561.0</td>\n",
       "      <td>3</td>\n",
       "      <td>0</td>\n",
       "      <td>0</td>\n",
       "      <td>False</td>\n",
       "      <td>False</td>\n",
       "      <td>False</td>\n",
       "      <td>False</td>\n",
       "      <td>False</td>\n",
       "      <td>True</td>\n",
       "      <td>False</td>\n",
       "      <td>False</td>\n",
       "    </tr>\n",
       "    <tr>\n",
       "      <th>3</th>\n",
       "      <td>2</td>\n",
       "      <td>68711.0</td>\n",
       "      <td>0</td>\n",
       "      <td>1</td>\n",
       "      <td>0</td>\n",
       "      <td>False</td>\n",
       "      <td>False</td>\n",
       "      <td>False</td>\n",
       "      <td>False</td>\n",
       "      <td>False</td>\n",
       "      <td>True</td>\n",
       "      <td>False</td>\n",
       "      <td>False</td>\n",
       "    </tr>\n",
       "    <tr>\n",
       "      <th>4</th>\n",
       "      <td>2</td>\n",
       "      <td>69482.0</td>\n",
       "      <td>0</td>\n",
       "      <td>0</td>\n",
       "      <td>0</td>\n",
       "      <td>False</td>\n",
       "      <td>False</td>\n",
       "      <td>False</td>\n",
       "      <td>False</td>\n",
       "      <td>False</td>\n",
       "      <td>True</td>\n",
       "      <td>False</td>\n",
       "      <td>False</td>\n",
       "    </tr>\n",
       "  </tbody>\n",
       "</table>\n",
       "</div>"
      ],
      "text/plain": [
       "   COLLEGE     RANK  LOC  SX  PHASE  CAT_BCA  CAT_BCB  CAT_BCC  CAT_BCD  \\\n",
       "0        2  66195.0    0   1      0    False    False    False    False   \n",
       "1        2  67988.0    0   0      0    False    False    False    False   \n",
       "2        2  68561.0    3   0      0    False    False    False    False   \n",
       "3        2  68711.0    0   1      0    False    False    False    False   \n",
       "4        2  69482.0    0   0      0    False    False    False    False   \n",
       "\n",
       "   CAT_BCE  CAT_OC  CAT_SC  CAT_ST  \n",
       "0    False    True   False   False  \n",
       "1    False    True   False   False  \n",
       "2    False    True   False   False  \n",
       "3    False    True   False   False  \n",
       "4    False    True   False   False  "
      ]
     },
     "execution_count": 127,
     "metadata": {},
     "output_type": "execute_result"
    }
   ],
   "source": [
    "df.head()"
   ]
  },
  {
   "cell_type": "code",
   "execution_count": 128,
   "metadata": {},
   "outputs": [
    {
     "name": "stdout",
     "output_type": "stream",
     "text": [
      "      COLLEGE      RANK  LOC  SX  PHASE  CAT_BCA  CAT_BCB  CAT_BCC  CAT_BCD  \\\n",
      "0           2   66195.0    0   1      0    False    False    False    False   \n",
      "1           2   67988.0    0   0      0    False    False    False    False   \n",
      "2           2   68561.0    3   0      0    False    False    False    False   \n",
      "3           2   68711.0    0   1      0    False    False    False    False   \n",
      "4           2   69482.0    0   0      0    False    False    False    False   \n",
      "...       ...       ...  ...  ..    ...      ...      ...      ...      ...   \n",
      "4729       11  337282.0    2   0      2    False    False    False    False   \n",
      "4730       11  353636.0    2   0      1     True    False    False    False   \n",
      "4731       11  355304.0    2   0      3    False    False    False    False   \n",
      "4732       11  368401.0    2   0      2    False    False    False    False   \n",
      "4734       11  451491.0    2   1      1    False    False    False    False   \n",
      "\n",
      "      CAT_BCE  CAT_OC  CAT_SC  CAT_ST  discrete_column  \n",
      "0       False    True   False   False              0.0  \n",
      "1       False    True   False   False              0.0  \n",
      "2       False    True   False   False              0.0  \n",
      "3       False    True   False   False              0.0  \n",
      "4       False    True   False   False              0.0  \n",
      "...       ...     ...     ...     ...              ...  \n",
      "4729    False   False    True   False             28.0  \n",
      "4730    False   False   False   False             29.0  \n",
      "4731    False   False    True   False             30.0  \n",
      "4732    False   False   False    True             31.0  \n",
      "4734    False    True   False   False             40.0  \n",
      "\n",
      "[4654 rows x 14 columns]\n"
     ]
    },
    {
     "name": "stderr",
     "output_type": "stream",
     "text": [
      "/Users/namanmuktha/anaconda3/lib/python3.11/site-packages/sklearn/preprocessing/_discretization.py:248: FutureWarning: In version 1.5 onwards, subsample=200_000 will be used by default. Set subsample explicitly to silence this warning in the mean time. Set subsample=None to disable subsampling explicitly.\n",
      "  warnings.warn(\n"
     ]
    }
   ],
   "source": [
    "from sklearn.preprocessing import KBinsDiscretizer\n",
    "discretizer = KBinsDiscretizer(n_bins=75, encode='ordinal', strategy='uniform')\n",
    "\n",
    "# Fit and transform the continuous column\n",
    "df['discrete_column'] = discretizer.fit_transform(df[['RANK']])\n",
    "\n",
    "# Print the DataFrame with the discretized column\n",
    "print(df)"
   ]
  },
  {
   "cell_type": "code",
   "execution_count": 129,
   "metadata": {},
   "outputs": [
    {
     "data": {
      "text/html": [
       "<div>\n",
       "<style scoped>\n",
       "    .dataframe tbody tr th:only-of-type {\n",
       "        vertical-align: middle;\n",
       "    }\n",
       "\n",
       "    .dataframe tbody tr th {\n",
       "        vertical-align: top;\n",
       "    }\n",
       "\n",
       "    .dataframe thead th {\n",
       "        text-align: right;\n",
       "    }\n",
       "</style>\n",
       "<table border=\"1\" class=\"dataframe\">\n",
       "  <thead>\n",
       "    <tr style=\"text-align: right;\">\n",
       "      <th></th>\n",
       "      <th>COLLEGE</th>\n",
       "      <th>RANK</th>\n",
       "      <th>LOC</th>\n",
       "      <th>SX</th>\n",
       "      <th>PHASE</th>\n",
       "      <th>CAT_BCA</th>\n",
       "      <th>CAT_BCB</th>\n",
       "      <th>CAT_BCC</th>\n",
       "      <th>CAT_BCD</th>\n",
       "      <th>CAT_BCE</th>\n",
       "      <th>CAT_OC</th>\n",
       "      <th>CAT_SC</th>\n",
       "      <th>CAT_ST</th>\n",
       "      <th>discrete_column</th>\n",
       "    </tr>\n",
       "  </thead>\n",
       "  <tbody>\n",
       "    <tr>\n",
       "      <th>0</th>\n",
       "      <td>2</td>\n",
       "      <td>66195.0</td>\n",
       "      <td>0</td>\n",
       "      <td>1</td>\n",
       "      <td>0</td>\n",
       "      <td>False</td>\n",
       "      <td>False</td>\n",
       "      <td>False</td>\n",
       "      <td>False</td>\n",
       "      <td>False</td>\n",
       "      <td>True</td>\n",
       "      <td>False</td>\n",
       "      <td>False</td>\n",
       "      <td>0.0</td>\n",
       "    </tr>\n",
       "    <tr>\n",
       "      <th>1</th>\n",
       "      <td>2</td>\n",
       "      <td>67988.0</td>\n",
       "      <td>0</td>\n",
       "      <td>0</td>\n",
       "      <td>0</td>\n",
       "      <td>False</td>\n",
       "      <td>False</td>\n",
       "      <td>False</td>\n",
       "      <td>False</td>\n",
       "      <td>False</td>\n",
       "      <td>True</td>\n",
       "      <td>False</td>\n",
       "      <td>False</td>\n",
       "      <td>0.0</td>\n",
       "    </tr>\n",
       "    <tr>\n",
       "      <th>2</th>\n",
       "      <td>2</td>\n",
       "      <td>68561.0</td>\n",
       "      <td>3</td>\n",
       "      <td>0</td>\n",
       "      <td>0</td>\n",
       "      <td>False</td>\n",
       "      <td>False</td>\n",
       "      <td>False</td>\n",
       "      <td>False</td>\n",
       "      <td>False</td>\n",
       "      <td>True</td>\n",
       "      <td>False</td>\n",
       "      <td>False</td>\n",
       "      <td>0.0</td>\n",
       "    </tr>\n",
       "    <tr>\n",
       "      <th>3</th>\n",
       "      <td>2</td>\n",
       "      <td>68711.0</td>\n",
       "      <td>0</td>\n",
       "      <td>1</td>\n",
       "      <td>0</td>\n",
       "      <td>False</td>\n",
       "      <td>False</td>\n",
       "      <td>False</td>\n",
       "      <td>False</td>\n",
       "      <td>False</td>\n",
       "      <td>True</td>\n",
       "      <td>False</td>\n",
       "      <td>False</td>\n",
       "      <td>0.0</td>\n",
       "    </tr>\n",
       "    <tr>\n",
       "      <th>4</th>\n",
       "      <td>2</td>\n",
       "      <td>69482.0</td>\n",
       "      <td>0</td>\n",
       "      <td>0</td>\n",
       "      <td>0</td>\n",
       "      <td>False</td>\n",
       "      <td>False</td>\n",
       "      <td>False</td>\n",
       "      <td>False</td>\n",
       "      <td>False</td>\n",
       "      <td>True</td>\n",
       "      <td>False</td>\n",
       "      <td>False</td>\n",
       "      <td>0.0</td>\n",
       "    </tr>\n",
       "  </tbody>\n",
       "</table>\n",
       "</div>"
      ],
      "text/plain": [
       "   COLLEGE     RANK  LOC  SX  PHASE  CAT_BCA  CAT_BCB  CAT_BCC  CAT_BCD  \\\n",
       "0        2  66195.0    0   1      0    False    False    False    False   \n",
       "1        2  67988.0    0   0      0    False    False    False    False   \n",
       "2        2  68561.0    3   0      0    False    False    False    False   \n",
       "3        2  68711.0    0   1      0    False    False    False    False   \n",
       "4        2  69482.0    0   0      0    False    False    False    False   \n",
       "\n",
       "   CAT_BCE  CAT_OC  CAT_SC  CAT_ST  discrete_column  \n",
       "0    False    True   False   False              0.0  \n",
       "1    False    True   False   False              0.0  \n",
       "2    False    True   False   False              0.0  \n",
       "3    False    True   False   False              0.0  \n",
       "4    False    True   False   False              0.0  "
      ]
     },
     "execution_count": 129,
     "metadata": {},
     "output_type": "execute_result"
    }
   ],
   "source": [
    "df.head()"
   ]
  },
  {
   "cell_type": "code",
   "execution_count": 130,
   "metadata": {},
   "outputs": [
    {
     "data": {
      "text/plain": [
       "<Axes: xlabel='COLLEGE', ylabel='count'>"
      ]
     },
     "execution_count": 130,
     "metadata": {},
     "output_type": "execute_result"
    },
    {
     "data": {
      "image/png": "[encoded data removed]",
      "text/plain": [
       "<Figure size 2400x1000 with 1 Axes>"
      ]
     },
     "metadata": {},
     "output_type": "display_data"
    }
   ],
   "source": [
    "plt.figure(figsize=(24,10))\n",
    "sns.countplot(data=df,x=\"COLLEGE\")"
   ]
  },
  {
   "cell_type": "code",
   "execution_count": 131,
   "metadata": {},
   "outputs": [],
   "source": [
    "from imblearn.over_sampling import RandomOverSampler\n",
    "oversampler = RandomOverSampler(random_state=420)"
   ]
  },
  {
   "cell_type": "code",
   "execution_count": 132,
   "metadata": {},
   "outputs": [],
   "source": [
    "X=df.drop(['COLLEGE'],axis=1)\n",
    "y=df['COLLEGE']"
   ]
  },
  {
   "cell_type": "code",
   "execution_count": 133,
   "metadata": {},
   "outputs": [],
   "source": [
    "X_resampled, y_resampled = oversampler.fit_resample(X,y)"
   ]
  },
  {
   "cell_type": "code",
   "execution_count": 134,
   "metadata": {},
   "outputs": [],
   "source": [
    "df_updated=X_resampled"
   ]
  },
  {
   "cell_type": "code",
   "execution_count": 135,
   "metadata": {},
   "outputs": [],
   "source": [
    "df_updated['COLLEGE']=y_resampled"
   ]
  },
  {
   "cell_type": "code",
   "execution_count": 136,
   "metadata": {},
   "outputs": [
    {
     "data": {
      "text/plain": [
       "<Axes: xlabel='COLLEGE', ylabel='count'>"
      ]
     },
     "execution_count": 136,
     "metadata": {},
     "output_type": "execute_result"
    },
    {
     "data": {
      "image/png": "[encoded data removed]",
      "text/plain": [
       "<Figure size 2400x1000 with 1 Axes>"
      ]
     },
     "metadata": {},
     "output_type": "display_data"
    }
   ],
   "source": [
    "plt.figure(figsize=(24,10))\n",
    "sns.countplot(data=df_updated,x=\"COLLEGE\")"
   ]
  },
  {
   "cell_type": "code",
   "execution_count": 137,
   "metadata": {},
   "outputs": [],
   "source": [
    "from sklearn.model_selection import train_test_split \n",
    "X_train,X_test,y_train,y_test=train_test_split(df_updated.drop([\"COLLEGE\"],axis=1),df_updated[\"COLLEGE\"],test_size=0.2,random_state=231)"
   ]
  },
  {
   "cell_type": "code",
   "execution_count": 138,
   "metadata": {},
   "outputs": [
    {
     "name": "stdout",
     "output_type": "stream",
     "text": [
      "89.65732087227416\n",
      "[[108   0   0   0   0   0   0   0   0   0   1   0   0   0]\n",
      " [  0 117   0   0   0   1   1   0   1   0   0   0   0   0]\n",
      " [  0   0 106   0   1   0   5   2   0   0   4   0   1   0]\n",
      " [  0   2   0  81   2   1   3   0   0   1   1   0   2   0]\n",
      " [  0   0   0   1 114   2   0   2   0   0   0   1   1   1]\n",
      " [  0   3   0   0   1 100   0   0   0   0   1   1   1   0]\n",
      " [  0   1   1   0   0   2 116   1   1   0   2   0   1   0]\n",
      " [  0   1   2   1   0   0   0  84   0   0   0   0   4   2]\n",
      " [  0   0   0   2   0   0   0   2 110   0  32   0   0   0]\n",
      " [  0   2   0  14   1   0   0   0   0 117   0   1   1   1]\n",
      " [  0   1   4   4   0   0   5   0   5   0  74   1   1   0]\n",
      " [  0   2   0   1   2   1   3   0   0   0   1 101   1   1]\n",
      " [  0   1   0   2   0   0   0   2   3   0   1   0 100   0]\n",
      " [  0   3   0   0   0   0   0   0   0   2   0   0   0 111]]\n",
      "              precision    recall  f1-score   support\n",
      "\n",
      "           0       1.00      0.99      1.00       109\n",
      "           1       0.88      0.97      0.92       120\n",
      "           2       0.94      0.89      0.91       119\n",
      "           3       0.76      0.87      0.81        93\n",
      "           4       0.94      0.93      0.94       122\n",
      "           5       0.93      0.93      0.93       107\n",
      "           6       0.87      0.93      0.90       125\n",
      "           7       0.90      0.89      0.90        94\n",
      "           8       0.92      0.75      0.83       146\n",
      "           9       0.97      0.85      0.91       137\n",
      "          10       0.63      0.78      0.70        95\n",
      "          11       0.96      0.89      0.93       113\n",
      "          12       0.88      0.92      0.90       109\n",
      "          13       0.96      0.96      0.96       116\n",
      "\n",
      "    accuracy                           0.90      1605\n",
      "   macro avg       0.90      0.90      0.90      1605\n",
      "weighted avg       0.90      0.90      0.90      1605\n",
      "\n"
     ]
    }
   ],
   "source": [
    "from sklearn.ensemble import RandomForestClassifier\n",
    "from sklearn.metrics import accuracy_score,confusion_matrix,classification_report\n",
    "rfc=RandomForestClassifier()\n",
    "rfc.fit(X_train,y_train)\n",
    "y_p=rfc.predict(X_test)\n",
    "print(accuracy_score(y_p,y_test)*100)\n",
    "print(confusion_matrix(y_p,y_test))\n",
    "print(classification_report(y_p,y_test))"
   ]
  },
  {
   "cell_type": "code",
   "execution_count": 139,
   "metadata": {},
   "outputs": [
    {
     "name": "stdout",
     "output_type": "stream",
     "text": [
      "0.8847352024922118\n",
      "              precision    recall  f1-score   support\n",
      "\n",
      "           0       1.00      0.97      0.99       111\n",
      "           1       0.87      0.97      0.92       120\n",
      "           2       0.87      0.92      0.89       107\n",
      "           3       0.76      0.83      0.79        98\n",
      "           4       0.92      0.93      0.93       119\n",
      "           5       0.93      0.88      0.90       114\n",
      "           6       0.89      0.89      0.89       132\n",
      "           7       0.90      0.84      0.87       100\n",
      "           8       0.93      0.75      0.83       150\n",
      "           9       0.94      0.85      0.89       133\n",
      "          10       0.62      0.81      0.70        89\n",
      "          11       0.96      0.93      0.94       109\n",
      "          12       0.87      0.88      0.88       111\n",
      "          13       0.93      0.96      0.95       112\n",
      "\n",
      "    accuracy                           0.88      1605\n",
      "   macro avg       0.89      0.89      0.88      1605\n",
      "weighted avg       0.89      0.88      0.89      1605\n",
      "\n"
     ]
    }
   ],
   "source": [
    "from sklearn.tree import DecisionTreeClassifier\n",
    "dt=DecisionTreeClassifier(criterion= 'entropy', min_samples_leaf= 1, min_samples_split=2)\n",
    "dt.fit(X_train,y_train)\n",
    "y_p=dt.predict(X_test)\n",
    "print(accuracy_score(y_p,y_test))\n",
    "print(classification_report(y_p,y_test))"
   ]
  },
  {
   "cell_type": "code",
   "execution_count": 143,
   "metadata": {},
   "outputs": [
    {
     "data": {
      "text/plain": [
       "array([ 6,  4,  9,  9,  2,  3,  6, 12, 10, 11])"
      ]
     },
     "execution_count": 143,
     "metadata": {},
     "output_type": "execute_result"
    }
   ],
   "source": [
    "y_p[:10]"
   ]
  },
  {
   "cell_type": "code",
   "execution_count": 144,
   "metadata": {},
   "outputs": [
    {
     "data": {
      "text/plain": [
       "123      6\n",
       "5762     4\n",
       "3142     9\n",
       "1054     9\n",
       "4066     2\n",
       "895     12\n",
       "2078     6\n",
       "1586    12\n",
       "4179    10\n",
       "1918    11\n",
       "Name: COLLEGE, dtype: int64"
      ]
     },
     "execution_count": 144,
     "metadata": {},
     "output_type": "execute_result"
    }
   ],
   "source": [
    "y_test[:10]"
   ]
  },
  {
   "cell_type": "code",
   "execution_count": null,
   "metadata": {},
   "outputs": [],
   "source": []
  }
 ],
 "metadata": {
  "kernelspec": {
   "display_name": "base",
   "language": "python",
   "name": "python3"
  },
  "language_info": {
   "codemirror_mode": {
    "name": "ipython",
    "version": 3
   },
   "file_extension": ".py",
   "mimetype": "text/x-python",
   "name": "python",
   "nbconvert_exporter": "python",
   "pygments_lexer": "ipython3",
   "version": "3.11.5"
  }
 },
 "nbformat": 4,
 "nbformat_minor": 2
}
