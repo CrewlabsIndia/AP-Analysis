{
 "cells": [
  {
   "cell_type": "code",
   "execution_count": 94,
   "metadata": {},
   "outputs": [],
   "source": [
    "import numpy as np \n",
    "import pandas as pd \n",
    "import matplotlib.pyplot as plt\n",
    "import seaborn as sns"
   ]
  },
  {
   "cell_type": "code",
   "execution_count": 95,
   "metadata": {},
   "outputs": [],
   "source": [
    "df=pd.read_csv(\"/Users/namanmuktha/Desktop/mediksearch/Tel & Ap Data/completeApAUSH.csv\")"
   ]
  },
  {
   "cell_type": "code",
   "execution_count": 96,
   "metadata": {},
   "outputs": [
    {
     "data": {
      "text/html": [
       "<div>\n",
       "<style scoped>\n",
       "    .dataframe tbody tr th:only-of-type {\n",
       "        vertical-align: middle;\n",
       "    }\n",
       "\n",
       "    .dataframe tbody tr th {\n",
       "        vertical-align: top;\n",
       "    }\n",
       "\n",
       "    .dataframe thead th {\n",
       "        text-align: right;\n",
       "    }\n",
       "</style>\n",
       "<table border=\"1\" class=\"dataframe\">\n",
       "  <thead>\n",
       "    <tr style=\"text-align: right;\">\n",
       "      <th></th>\n",
       "      <th>COLLEGE</th>\n",
       "      <th>RANK</th>\n",
       "      <th>NEET_ROLL_NO</th>\n",
       "      <th>SCORE</th>\n",
       "      <th>SX</th>\n",
       "      <th>CAT</th>\n",
       "      <th>LOC</th>\n",
       "      <th>PHASE</th>\n",
       "      <th>EWS</th>\n",
       "    </tr>\n",
       "  </thead>\n",
       "  <tbody>\n",
       "    <tr>\n",
       "      <th>0</th>\n",
       "      <td>NRS Government Ayurvedic College, Vijayawada</td>\n",
       "      <td>88452</td>\n",
       "      <td>1213010278</td>\n",
       "      <td>521</td>\n",
       "      <td>F</td>\n",
       "      <td>BCD</td>\n",
       "      <td>AU</td>\n",
       "      <td>P1</td>\n",
       "      <td>NO</td>\n",
       "    </tr>\n",
       "    <tr>\n",
       "      <th>1</th>\n",
       "      <td>NRS Government Ayurvedic College, Vijayawada</td>\n",
       "      <td>106390</td>\n",
       "      <td>1205200345</td>\n",
       "      <td>502</td>\n",
       "      <td>F</td>\n",
       "      <td>OC</td>\n",
       "      <td>AU</td>\n",
       "      <td>P1</td>\n",
       "      <td>NO</td>\n",
       "    </tr>\n",
       "    <tr>\n",
       "      <th>2</th>\n",
       "      <td>NRS Government Ayurvedic College, Vijayawada</td>\n",
       "      <td>116220</td>\n",
       "      <td>2712070364</td>\n",
       "      <td>492</td>\n",
       "      <td>F</td>\n",
       "      <td>BCB</td>\n",
       "      <td>SVU</td>\n",
       "      <td>P1</td>\n",
       "      <td>NO</td>\n",
       "    </tr>\n",
       "    <tr>\n",
       "      <th>3</th>\n",
       "      <td>NRS Government Ayurvedic College, Vijayawada</td>\n",
       "      <td>119753</td>\n",
       "      <td>1220030118</td>\n",
       "      <td>489</td>\n",
       "      <td>M</td>\n",
       "      <td>OC</td>\n",
       "      <td>AU</td>\n",
       "      <td>P1</td>\n",
       "      <td>NO</td>\n",
       "    </tr>\n",
       "    <tr>\n",
       "      <th>4</th>\n",
       "      <td>NRS Government Ayurvedic College, Vijayawada</td>\n",
       "      <td>120672</td>\n",
       "      <td>1229010057</td>\n",
       "      <td>488</td>\n",
       "      <td>F</td>\n",
       "      <td>BCD</td>\n",
       "      <td>AU</td>\n",
       "      <td>P1</td>\n",
       "      <td>NO</td>\n",
       "    </tr>\n",
       "  </tbody>\n",
       "</table>\n",
       "</div>"
      ],
      "text/plain": [
       "                                        COLLEGE    RANK  NEET_ROLL_NO  SCORE  \\\n",
       "0  NRS Government Ayurvedic College, Vijayawada   88452    1213010278    521   \n",
       "1  NRS Government Ayurvedic College, Vijayawada  106390    1205200345    502   \n",
       "2  NRS Government Ayurvedic College, Vijayawada  116220    2712070364    492   \n",
       "3  NRS Government Ayurvedic College, Vijayawada  119753    1220030118    489   \n",
       "4  NRS Government Ayurvedic College, Vijayawada  120672    1229010057    488   \n",
       "\n",
       "  SX  CAT  LOC PHASE EWS  \n",
       "0  F  BCD   AU    P1  NO  \n",
       "1  F   OC   AU    P1  NO  \n",
       "2  F  BCB  SVU    P1  NO  \n",
       "3  M   OC   AU    P1  NO  \n",
       "4  F  BCD   AU    P1  NO  "
      ]
     },
     "execution_count": 96,
     "metadata": {},
     "output_type": "execute_result"
    }
   ],
   "source": [
    "df.head()"
   ]
  },
  {
   "cell_type": "code",
   "execution_count": 97,
   "metadata": {},
   "outputs": [
    {
     "data": {
      "text/plain": [
       "COLLEGE         0\n",
       "RANK            0\n",
       "NEET_ROLL_NO    0\n",
       "SCORE           0\n",
       "SX              0\n",
       "CAT             0\n",
       "LOC             0\n",
       "PHASE           0\n",
       "EWS             0\n",
       "dtype: int64"
      ]
     },
     "execution_count": 97,
     "metadata": {},
     "output_type": "execute_result"
    }
   ],
   "source": [
    "df.isna().sum()"
   ]
  },
  {
   "cell_type": "code",
   "execution_count": 98,
   "metadata": {},
   "outputs": [
    {
     "data": {
      "text/plain": [
       "array([[<Axes: title={'center': 'RANK'}>,\n",
       "        <Axes: title={'center': 'NEET_ROLL_NO'}>],\n",
       "       [<Axes: title={'center': 'SCORE'}>, <Axes: >]], dtype=object)"
      ]
     },
     "execution_count": 98,
     "metadata": {},
     "output_type": "execute_result"
    },
    {
     "data": {
      "image/png": "[encoded data removed]",
      "text/plain": [
       "<Figure size 640x480 with 4 Axes>"
      ]
     },
     "metadata": {},
     "output_type": "display_data"
    }
   ],
   "source": [
    "df.hist()"
   ]
  },
  {
   "cell_type": "code",
   "execution_count": 99,
   "metadata": {},
   "outputs": [
    {
     "data": {
      "text/plain": [
       "array(['NRS Government Ayurvedic College, Vijayawada',\n",
       "       'Sri Adi Siva Sadguru Ali Saheb Shivaaryula Ayurvedic Medical College and Research Centre, Guntakal',\n",
       "       'Sri Venkateswara Ayurvedic College, Tirupati',\n",
       "       'Dr. Allu Ramalingaiah Government Homoeo Medical College, Rajahmundry',\n",
       "       'Dr. Gururaj Government Homoeo Medical College, Gudivada',\n",
       "       'Government Homoeo Medical College, Kadapa',\n",
       "       'KKC Homoeopathy Medical College, Parameswara Mangalam, Puttur, Chittoor District.',\n",
       "       'Maharaja Institute of Homoeo Medical College, Vizianagaram.',\n",
       "       'Sri Adi Shiva Sadguru Ali Saheb Shivaaryula Homoeopathic Medical College, Guntakal.',\n",
       "       'Dr. Abdul Haq Unani Medical College, Kurnool'], dtype=object)"
      ]
     },
     "execution_count": 99,
     "metadata": {},
     "output_type": "execute_result"
    }
   ],
   "source": [
    "df[\"COLLEGE\"].unique()"
   ]
  },
  {
   "cell_type": "code",
   "execution_count": 100,
   "metadata": {},
   "outputs": [
    {
     "data": {
      "text/plain": [
       "COLLEGE          10\n",
       "RANK            460\n",
       "NEET_ROLL_NO    460\n",
       "SCORE           235\n",
       "SX                2\n",
       "CAT               8\n",
       "LOC               4\n",
       "PHASE             2\n",
       "EWS               1\n",
       "dtype: int64"
      ]
     },
     "execution_count": 100,
     "metadata": {},
     "output_type": "execute_result"
    }
   ],
   "source": [
    "df.nunique()"
   ]
  },
  {
   "cell_type": "code",
   "execution_count": 101,
   "metadata": {},
   "outputs": [
    {
     "data": {
      "text/plain": [
       "(764, 9)"
      ]
     },
     "execution_count": 101,
     "metadata": {},
     "output_type": "execute_result"
    }
   ],
   "source": [
    "df.shape"
   ]
  },
  {
   "cell_type": "code",
   "execution_count": 102,
   "metadata": {},
   "outputs": [],
   "source": [
    "df=df.drop(['NEET_ROLL_NO','SCORE','EWS'],axis=1)"
   ]
  },
  {
   "cell_type": "code",
   "execution_count": 103,
   "metadata": {},
   "outputs": [
    {
     "data": {
      "text/plain": [
       "array([[<Axes: title={'center': 'RANK'}>]], dtype=object)"
      ]
     },
     "execution_count": 103,
     "metadata": {},
     "output_type": "execute_result"
    },
    {
     "data": {
      "image/png": "[encoded data removed]",
      "text/plain": [
       "<Figure size 640x480 with 1 Axes>"
      ]
     },
     "metadata": {},
     "output_type": "display_data"
    }
   ],
   "source": [
    "df.hist()"
   ]
  },
  {
   "cell_type": "code",
   "execution_count": 104,
   "metadata": {},
   "outputs": [
    {
     "data": {
      "text/plain": [
       "<Axes: xlabel='COLLEGE', ylabel='count'>"
      ]
     },
     "execution_count": 104,
     "metadata": {},
     "output_type": "execute_result"
    },
    {
     "data": {
      "image/png": "[encoded data removed]",
      "text/plain": [
       "<Figure size 5000x1000 with 1 Axes>"
      ]
     },
     "metadata": {},
     "output_type": "display_data"
    }
   ],
   "source": [
    "plt.figure(figsize=(50,10))\n",
    "sns.countplot(data=df,x=\"COLLEGE\")"
   ]
  },
  {
   "cell_type": "code",
   "execution_count": 105,
   "metadata": {},
   "outputs": [
    {
     "data": {
      "text/plain": [
       "array(['P1', 'P2'], dtype=object)"
      ]
     },
     "execution_count": 105,
     "metadata": {},
     "output_type": "execute_result"
    }
   ],
   "source": [
    "df[\"PHASE\"].unique()"
   ]
  },
  {
   "cell_type": "code",
   "execution_count": 106,
   "metadata": {},
   "outputs": [
    {
     "data": {
      "text/plain": [
       "(764, 6)"
      ]
     },
     "execution_count": 106,
     "metadata": {},
     "output_type": "execute_result"
    }
   ],
   "source": [
    "df.shape"
   ]
  },
  {
   "cell_type": "code",
   "execution_count": 107,
   "metadata": {},
   "outputs": [],
   "source": [
    "from sklearn.preprocessing import LabelEncoder\n",
    "disorder_column = df['COLLEGE']\n",
    "label_encoder = LabelEncoder()\n",
    "encoded_values = label_encoder.fit_transform(disorder_column)\n",
    "label_mapping = dict(zip(label_encoder.classes_, label_encoder.transform(label_encoder.classes_)))\n",
    "df['COLLEGE'] = encoded_values"
   ]
  },
  {
   "cell_type": "code",
   "execution_count": 108,
   "metadata": {},
   "outputs": [],
   "source": [
    "from sklearn.preprocessing import LabelEncoder\n",
    "disorder_column = df['SX']\n",
    "label_encoder = LabelEncoder()\n",
    "encoded_values = label_encoder.fit_transform(disorder_column)\n",
    "label_mapping1 = dict(zip(label_encoder.classes_, label_encoder.transform(label_encoder.classes_)))\n",
    "df['SX'] = encoded_values"
   ]
  },
  {
   "cell_type": "code",
   "execution_count": 109,
   "metadata": {},
   "outputs": [],
   "source": [
    "from sklearn.preprocessing import LabelEncoder\n",
    "disorder_column = df['CAT']\n",
    "label_encoder = LabelEncoder()\n",
    "encoded_values = label_encoder.fit_transform(disorder_column)\n",
    "label_mapping1 = dict(zip(label_encoder.classes_, label_encoder.transform(label_encoder.classes_)))\n",
    "df['CAT'] = encoded_values"
   ]
  },
  {
   "cell_type": "code",
   "execution_count": 110,
   "metadata": {},
   "outputs": [
    {
     "data": {
      "text/html": [
       "<div>\n",
       "<style scoped>\n",
       "    .dataframe tbody tr th:only-of-type {\n",
       "        vertical-align: middle;\n",
       "    }\n",
       "\n",
       "    .dataframe tbody tr th {\n",
       "        vertical-align: top;\n",
       "    }\n",
       "\n",
       "    .dataframe thead th {\n",
       "        text-align: right;\n",
       "    }\n",
       "</style>\n",
       "<table border=\"1\" class=\"dataframe\">\n",
       "  <thead>\n",
       "    <tr style=\"text-align: right;\">\n",
       "      <th></th>\n",
       "      <th>COLLEGE</th>\n",
       "      <th>RANK</th>\n",
       "      <th>SX</th>\n",
       "      <th>CAT</th>\n",
       "      <th>LOC</th>\n",
       "      <th>PHASE</th>\n",
       "    </tr>\n",
       "  </thead>\n",
       "  <tbody>\n",
       "    <tr>\n",
       "      <th>0</th>\n",
       "      <td>6</td>\n",
       "      <td>88452</td>\n",
       "      <td>0</td>\n",
       "      <td>3</td>\n",
       "      <td>AU</td>\n",
       "      <td>P1</td>\n",
       "    </tr>\n",
       "    <tr>\n",
       "      <th>1</th>\n",
       "      <td>6</td>\n",
       "      <td>106390</td>\n",
       "      <td>0</td>\n",
       "      <td>5</td>\n",
       "      <td>AU</td>\n",
       "      <td>P1</td>\n",
       "    </tr>\n",
       "    <tr>\n",
       "      <th>2</th>\n",
       "      <td>6</td>\n",
       "      <td>116220</td>\n",
       "      <td>0</td>\n",
       "      <td>1</td>\n",
       "      <td>SVU</td>\n",
       "      <td>P1</td>\n",
       "    </tr>\n",
       "    <tr>\n",
       "      <th>3</th>\n",
       "      <td>6</td>\n",
       "      <td>119753</td>\n",
       "      <td>1</td>\n",
       "      <td>5</td>\n",
       "      <td>AU</td>\n",
       "      <td>P1</td>\n",
       "    </tr>\n",
       "    <tr>\n",
       "      <th>4</th>\n",
       "      <td>6</td>\n",
       "      <td>120672</td>\n",
       "      <td>0</td>\n",
       "      <td>3</td>\n",
       "      <td>AU</td>\n",
       "      <td>P1</td>\n",
       "    </tr>\n",
       "  </tbody>\n",
       "</table>\n",
       "</div>"
      ],
      "text/plain": [
       "   COLLEGE    RANK  SX  CAT  LOC PHASE\n",
       "0        6   88452   0    3   AU    P1\n",
       "1        6  106390   0    5   AU    P1\n",
       "2        6  116220   0    1  SVU    P1\n",
       "3        6  119753   1    5   AU    P1\n",
       "4        6  120672   0    3   AU    P1"
      ]
     },
     "execution_count": 110,
     "metadata": {},
     "output_type": "execute_result"
    }
   ],
   "source": [
    "df.head()"
   ]
  },
  {
   "cell_type": "code",
   "execution_count": 111,
   "metadata": {},
   "outputs": [],
   "source": [
    "from sklearn.preprocessing import LabelEncoder\n",
    "disorder_column = df['LOC']\n",
    "label_encoder = LabelEncoder()\n",
    "encoded_values = label_encoder.fit_transform(disorder_column)\n",
    "label_mapping_loc = dict(zip(label_encoder.classes_, label_encoder.transform(label_encoder.classes_)))\n",
    "df['LOC'] = encoded_values"
   ]
  },
  {
   "cell_type": "code",
   "execution_count": 112,
   "metadata": {},
   "outputs": [],
   "source": [
    "from sklearn.preprocessing import LabelEncoder\n",
    "disorder_column = df['PHASE']\n",
    "label_encoder = LabelEncoder()\n",
    "encoded_values = label_encoder.fit_transform(disorder_column)\n",
    "label_mapping_phase = dict(zip(label_encoder.classes_, label_encoder.transform(label_encoder.classes_)))\n",
    "df['PHASE'] = encoded_values"
   ]
  },
  {
   "cell_type": "code",
   "execution_count": 113,
   "metadata": {},
   "outputs": [
    {
     "data": {
      "text/html": [
       "<div>\n",
       "<style scoped>\n",
       "    .dataframe tbody tr th:only-of-type {\n",
       "        vertical-align: middle;\n",
       "    }\n",
       "\n",
       "    .dataframe tbody tr th {\n",
       "        vertical-align: top;\n",
       "    }\n",
       "\n",
       "    .dataframe thead th {\n",
       "        text-align: right;\n",
       "    }\n",
       "</style>\n",
       "<table border=\"1\" class=\"dataframe\">\n",
       "  <thead>\n",
       "    <tr style=\"text-align: right;\">\n",
       "      <th></th>\n",
       "      <th>COLLEGE</th>\n",
       "      <th>RANK</th>\n",
       "      <th>SX</th>\n",
       "      <th>CAT</th>\n",
       "      <th>LOC</th>\n",
       "      <th>PHASE</th>\n",
       "    </tr>\n",
       "  </thead>\n",
       "  <tbody>\n",
       "    <tr>\n",
       "      <th>0</th>\n",
       "      <td>6</td>\n",
       "      <td>88452</td>\n",
       "      <td>0</td>\n",
       "      <td>3</td>\n",
       "      <td>0</td>\n",
       "      <td>0</td>\n",
       "    </tr>\n",
       "    <tr>\n",
       "      <th>1</th>\n",
       "      <td>6</td>\n",
       "      <td>106390</td>\n",
       "      <td>0</td>\n",
       "      <td>5</td>\n",
       "      <td>0</td>\n",
       "      <td>0</td>\n",
       "    </tr>\n",
       "    <tr>\n",
       "      <th>2</th>\n",
       "      <td>6</td>\n",
       "      <td>116220</td>\n",
       "      <td>0</td>\n",
       "      <td>1</td>\n",
       "      <td>3</td>\n",
       "      <td>0</td>\n",
       "    </tr>\n",
       "    <tr>\n",
       "      <th>3</th>\n",
       "      <td>6</td>\n",
       "      <td>119753</td>\n",
       "      <td>1</td>\n",
       "      <td>5</td>\n",
       "      <td>0</td>\n",
       "      <td>0</td>\n",
       "    </tr>\n",
       "    <tr>\n",
       "      <th>4</th>\n",
       "      <td>6</td>\n",
       "      <td>120672</td>\n",
       "      <td>0</td>\n",
       "      <td>3</td>\n",
       "      <td>0</td>\n",
       "      <td>0</td>\n",
       "    </tr>\n",
       "  </tbody>\n",
       "</table>\n",
       "</div>"
      ],
      "text/plain": [
       "   COLLEGE    RANK  SX  CAT  LOC  PHASE\n",
       "0        6   88452   0    3    0      0\n",
       "1        6  106390   0    5    0      0\n",
       "2        6  116220   0    1    3      0\n",
       "3        6  119753   1    5    0      0\n",
       "4        6  120672   0    3    0      0"
      ]
     },
     "execution_count": 113,
     "metadata": {},
     "output_type": "execute_result"
    }
   ],
   "source": [
    "df.head()"
   ]
  },
  {
   "cell_type": "code",
   "execution_count": 114,
   "metadata": {},
   "outputs": [
    {
     "data": {
      "text/plain": [
       "<Axes: xlabel='COLLEGE', ylabel='count'>"
      ]
     },
     "execution_count": 114,
     "metadata": {},
     "output_type": "execute_result"
    },
    {
     "data": {
      "image/png": "[encoded data removed]",
      "text/plain": [
       "<Figure size 640x480 with 1 Axes>"
      ]
     },
     "metadata": {},
     "output_type": "display_data"
    }
   ],
   "source": [
    "sns.countplot(x=df['COLLEGE'])"
   ]
  },
  {
   "cell_type": "code",
   "execution_count": 115,
   "metadata": {},
   "outputs": [
    {
     "data": {
      "text/plain": [
       "{'Dr. Abdul Haq Unani Medical College, Kurnool': 0,\n",
       " 'Dr. Allu Ramalingaiah Government Homoeo Medical College, Rajahmundry': 1,\n",
       " 'Dr. Gururaj Government Homoeo Medical College, Gudivada': 2,\n",
       " 'Government Homoeo Medical College, Kadapa': 3,\n",
       " 'KKC Homoeopathy Medical College, Parameswara Mangalam, Puttur, Chittoor District.': 4,\n",
       " 'Maharaja Institute of Homoeo Medical College, Vizianagaram.': 5,\n",
       " 'NRS Government Ayurvedic College, Vijayawada': 6,\n",
       " 'Sri Adi Shiva Sadguru Ali Saheb Shivaaryula Homoeopathic Medical College, Guntakal.': 7,\n",
       " 'Sri Adi Siva Sadguru Ali Saheb Shivaaryula Ayurvedic Medical College and Research Centre, Guntakal': 8,\n",
       " 'Sri Venkateswara Ayurvedic College, Tirupati': 9}"
      ]
     },
     "execution_count": 115,
     "metadata": {},
     "output_type": "execute_result"
    }
   ],
   "source": [
    "label_mapping"
   ]
  },
  {
   "cell_type": "code",
   "execution_count": 116,
   "metadata": {},
   "outputs": [
    {
     "name": "stdout",
     "output_type": "stream",
     "text": [
      "     COLLEGE     RANK  SX  CAT  LOC  PHASE  discrete_column\n",
      "0          6    88452   0    3    0      0              0.0\n",
      "1          6   106390   0    5    0      0              1.0\n",
      "2          6   116220   0    1    3      0              2.0\n",
      "3          6   119753   1    5    0      0              2.0\n",
      "4          6   120672   0    3    0      0              2.0\n",
      "..       ...      ...  ..  ...  ...    ...              ...\n",
      "759        0   839668   1    6    3      1             52.0\n",
      "760        0   839804   1    6    3      1             52.0\n",
      "761        0   970100   0    0    0      1             61.0\n",
      "762        0  1016135   0    6    3      1             64.0\n",
      "763        0  1056193   1    6    3      1             67.0\n",
      "\n",
      "[764 rows x 7 columns]\n"
     ]
    },
    {
     "name": "stderr",
     "output_type": "stream",
     "text": [
      "/Users/namanmuktha/anaconda3/lib/python3.11/site-packages/sklearn/preprocessing/_discretization.py:248: FutureWarning: In version 1.5 onwards, subsample=200_000 will be used by default. Set subsample explicitly to silence this warning in the mean time. Set subsample=None to disable subsampling explicitly.\n",
      "  warnings.warn(\n"
     ]
    }
   ],
   "source": [
    "from sklearn.preprocessing import KBinsDiscretizer\n",
    "discretizer = KBinsDiscretizer(n_bins=75, encode='ordinal', strategy='uniform')\n",
    "\n",
    "# Fit and transform the continuous column\n",
    "df['discrete_column'] = discretizer.fit_transform(df[['RANK']])\n",
    "\n",
    "# Print the DataFrame with the discretized column\n",
    "print(df)"
   ]
  },
  {
   "cell_type": "code",
   "execution_count": 117,
   "metadata": {},
   "outputs": [],
   "source": [
    "from imblearn.over_sampling import RandomOverSampler\n",
    "oversampler = RandomOverSampler(random_state=420)"
   ]
  },
  {
   "cell_type": "code",
   "execution_count": 118,
   "metadata": {},
   "outputs": [],
   "source": [
    "X=df.drop(['COLLEGE'],axis=1)\n",
    "y=df['COLLEGE']"
   ]
  },
  {
   "cell_type": "code",
   "execution_count": 119,
   "metadata": {},
   "outputs": [],
   "source": [
    "X_resampled, y_resampled = oversampler.fit_resample(X,y)"
   ]
  },
  {
   "cell_type": "code",
   "execution_count": 120,
   "metadata": {},
   "outputs": [],
   "source": [
    "df_updated=X_resampled"
   ]
  },
  {
   "cell_type": "code",
   "execution_count": 121,
   "metadata": {},
   "outputs": [],
   "source": [
    "df_updated['COLLEGE']=y_resampled"
   ]
  },
  {
   "cell_type": "code",
   "execution_count": 122,
   "metadata": {},
   "outputs": [
    {
     "data": {
      "text/html": [
       "<div>\n",
       "<style scoped>\n",
       "    .dataframe tbody tr th:only-of-type {\n",
       "        vertical-align: middle;\n",
       "    }\n",
       "\n",
       "    .dataframe tbody tr th {\n",
       "        vertical-align: top;\n",
       "    }\n",
       "\n",
       "    .dataframe thead th {\n",
       "        text-align: right;\n",
       "    }\n",
       "</style>\n",
       "<table border=\"1\" class=\"dataframe\">\n",
       "  <thead>\n",
       "    <tr style=\"text-align: right;\">\n",
       "      <th></th>\n",
       "      <th>RANK</th>\n",
       "      <th>SX</th>\n",
       "      <th>CAT</th>\n",
       "      <th>LOC</th>\n",
       "      <th>PHASE</th>\n",
       "      <th>discrete_column</th>\n",
       "      <th>COLLEGE</th>\n",
       "    </tr>\n",
       "  </thead>\n",
       "  <tbody>\n",
       "    <tr>\n",
       "      <th>0</th>\n",
       "      <td>88452</td>\n",
       "      <td>0</td>\n",
       "      <td>3</td>\n",
       "      <td>0</td>\n",
       "      <td>0</td>\n",
       "      <td>0.0</td>\n",
       "      <td>6</td>\n",
       "    </tr>\n",
       "    <tr>\n",
       "      <th>1</th>\n",
       "      <td>106390</td>\n",
       "      <td>0</td>\n",
       "      <td>5</td>\n",
       "      <td>0</td>\n",
       "      <td>0</td>\n",
       "      <td>1.0</td>\n",
       "      <td>6</td>\n",
       "    </tr>\n",
       "    <tr>\n",
       "      <th>2</th>\n",
       "      <td>116220</td>\n",
       "      <td>0</td>\n",
       "      <td>1</td>\n",
       "      <td>3</td>\n",
       "      <td>0</td>\n",
       "      <td>2.0</td>\n",
       "      <td>6</td>\n",
       "    </tr>\n",
       "    <tr>\n",
       "      <th>3</th>\n",
       "      <td>119753</td>\n",
       "      <td>1</td>\n",
       "      <td>5</td>\n",
       "      <td>0</td>\n",
       "      <td>0</td>\n",
       "      <td>2.0</td>\n",
       "      <td>6</td>\n",
       "    </tr>\n",
       "    <tr>\n",
       "      <th>4</th>\n",
       "      <td>120672</td>\n",
       "      <td>0</td>\n",
       "      <td>3</td>\n",
       "      <td>0</td>\n",
       "      <td>0</td>\n",
       "      <td>2.0</td>\n",
       "      <td>6</td>\n",
       "    </tr>\n",
       "  </tbody>\n",
       "</table>\n",
       "</div>"
      ],
      "text/plain": [
       "     RANK  SX  CAT  LOC  PHASE  discrete_column  COLLEGE\n",
       "0   88452   0    3    0      0              0.0        6\n",
       "1  106390   0    5    0      0              1.0        6\n",
       "2  116220   0    1    3      0              2.0        6\n",
       "3  119753   1    5    0      0              2.0        6\n",
       "4  120672   0    3    0      0              2.0        6"
      ]
     },
     "execution_count": 122,
     "metadata": {},
     "output_type": "execute_result"
    }
   ],
   "source": [
    "df_updated.head()"
   ]
  },
  {
   "cell_type": "code",
   "execution_count": 123,
   "metadata": {},
   "outputs": [],
   "source": [
    "#"
   ]
  },
  {
   "cell_type": "code",
   "execution_count": 124,
   "metadata": {},
   "outputs": [
    {
     "data": {
      "text/plain": [
       "<Axes: xlabel='COLLEGE', ylabel='count'>"
      ]
     },
     "execution_count": 124,
     "metadata": {},
     "output_type": "execute_result"
    },
    {
     "data": {
      "image/png": "[encoded data removed]",
      "text/plain": [
       "<Figure size 1600x800 with 1 Axes>"
      ]
     },
     "metadata": {},
     "output_type": "display_data"
    }
   ],
   "source": [
    "plt.figure(figsize=(16, 8))\n",
    "sns.countplot(x=df_updated['COLLEGE'])"
   ]
  },
  {
   "cell_type": "code",
   "execution_count": 125,
   "metadata": {},
   "outputs": [],
   "source": [
    "from sklearn.model_selection import train_test_split \n",
    "X_train,X_test,y_train,y_test=train_test_split(df_updated.drop([\"COLLEGE\"],axis=1),df_updated[\"COLLEGE\"],test_size=0.2,random_state=231)"
   ]
  },
  {
   "cell_type": "code",
   "execution_count": 126,
   "metadata": {},
   "outputs": [
    {
     "name": "stdout",
     "output_type": "stream",
     "text": [
      "82.5\n",
      "[[20  0  0  0  0  0  0  1  0  0]\n",
      " [ 0 16  4  0  0  1  0  0  1  0]\n",
      " [ 1  5 17  0  0  1  2  1  0  0]\n",
      " [ 0  1  0 15  2  0  0  1  2  0]\n",
      " [ 0  0  0  1 15  0  0  2  1  0]\n",
      " [ 0  1  0  1  0 15  0  0  0  0]\n",
      " [ 0  0  1  0  0  1 19  0  0  0]\n",
      " [ 0  0  0  0  0  0  0 15  0  0]\n",
      " [ 1  0  1  0  0  0  0  0 14  0]\n",
      " [ 0  0  2  0  0  0  0  0  0 19]]\n",
      "              precision    recall  f1-score   support\n",
      "\n",
      "           0       0.91      0.95      0.93        21\n",
      "           1       0.70      0.73      0.71        22\n",
      "           2       0.68      0.63      0.65        27\n",
      "           3       0.88      0.71      0.79        21\n",
      "           4       0.88      0.79      0.83        19\n",
      "           5       0.83      0.88      0.86        17\n",
      "           6       0.90      0.90      0.90        21\n",
      "           7       0.75      1.00      0.86        15\n",
      "           8       0.78      0.88      0.82        16\n",
      "           9       1.00      0.90      0.95        21\n",
      "\n",
      "    accuracy                           0.82       200\n",
      "   macro avg       0.83      0.84      0.83       200\n",
      "weighted avg       0.83      0.82      0.82       200\n",
      "\n"
     ]
    }
   ],
   "source": [
    "from sklearn.ensemble import RandomForestClassifier\n",
    "from sklearn.metrics import accuracy_score,confusion_matrix,classification_report\n",
    "rfc=RandomForestClassifier()\n",
    "rfc.fit(X_train,y_train)\n",
    "y_p_1=rfc.predict(X_test)\n",
    "print(accuracy_score(y_p_1,y_test)*100)\n",
    "print(confusion_matrix(y_p_1,y_test))\n",
    "print(classification_report(y_p_1,y_test))"
   ]
  },
  {
   "cell_type": "code",
   "execution_count": 127,
   "metadata": {},
   "outputs": [
    {
     "name": "stdout",
     "output_type": "stream",
     "text": [
      "0.795\n",
      "              precision    recall  f1-score   support\n",
      "\n",
      "           0       0.82      0.90      0.86        20\n",
      "           1       0.70      0.76      0.73        21\n",
      "           2       0.68      0.61      0.64        28\n",
      "           3       0.82      0.78      0.80        18\n",
      "           4       0.88      0.68      0.77        22\n",
      "           5       0.83      0.79      0.81        19\n",
      "           6       0.86      0.86      0.86        21\n",
      "           7       0.60      0.80      0.69        15\n",
      "           8       0.83      0.94      0.88        16\n",
      "           9       1.00      0.95      0.97        20\n",
      "\n",
      "    accuracy                           0.80       200\n",
      "   macro avg       0.80      0.81      0.80       200\n",
      "weighted avg       0.80      0.80      0.79       200\n",
      "\n"
     ]
    }
   ],
   "source": [
    "from sklearn.tree import DecisionTreeClassifier\n",
    "dt=DecisionTreeClassifier()\n",
    "dt.fit(X_train,y_train)\n",
    "y_p=dt.predict(X_test)\n",
    "print(accuracy_score(y_p,y_test))\n",
    "print(classification_report(y_p,y_test))"
   ]
  },
  {
   "cell_type": "code",
   "execution_count": 128,
   "metadata": {},
   "outputs": [
    {
     "data": {
      "text/plain": [
       "array([9, 2, 8, 3, 5, 5, 3, 1, 4, 7, 8, 9, 7, 0, 5, 6, 6, 0, 9, 7, 8, 2,\n",
       "       2, 4, 6, 4, 2, 9, 2, 8, 4, 0, 1, 2, 4, 5, 1, 0, 7, 9, 8, 2, 6, 6,\n",
       "       6, 7, 3, 0, 0, 3, 4, 5, 6, 6, 5, 9, 9, 3, 9, 9, 4, 7, 2, 5, 1, 3,\n",
       "       3, 1, 4, 2, 7, 1, 4, 6, 4, 3, 5, 1, 9, 4, 3, 3, 6, 9, 9, 7, 8, 9,\n",
       "       1, 2, 4, 8, 0, 6, 9, 5, 2, 6, 2, 5, 2, 5, 0, 9, 6, 4, 3, 1, 0, 4,\n",
       "       1, 8, 9, 1, 6, 6, 0, 5, 0, 5, 4, 3, 0, 4, 8, 7, 1, 1, 3, 6, 1, 7,\n",
       "       2, 0, 8, 2, 3, 5, 4, 2, 2, 5, 1, 2, 2, 9, 2, 8, 5, 4, 8, 3, 7, 4,\n",
       "       1, 2, 9, 6, 6, 3, 0, 2, 0, 4, 8, 9, 1, 9, 7, 0, 2, 5, 3, 5, 7, 4,\n",
       "       8, 2, 2, 1, 0, 8, 1, 0, 6, 0, 5, 1, 6, 2, 0, 7, 1, 3, 4, 8, 2, 2,\n",
       "       6, 7])"
      ]
     },
     "execution_count": 128,
     "metadata": {},
     "output_type": "execute_result"
    }
   ],
   "source": [
    "y_p"
   ]
  },
  {
   "cell_type": "code",
   "execution_count": 129,
   "metadata": {},
   "outputs": [
    {
     "data": {
      "text/plain": [
       "110    9\n",
       "637    5\n",
       "87     8\n",
       "428    8\n",
       "672    5\n",
       "      ..\n",
       "420    8\n",
       "496    1\n",
       "171    2\n",
       "385    6\n",
       "708    7\n",
       "Name: COLLEGE, Length: 200, dtype: int64"
      ]
     },
     "execution_count": 129,
     "metadata": {},
     "output_type": "execute_result"
    }
   ],
   "source": [
    "y_test"
   ]
  },
  {
   "cell_type": "code",
   "execution_count": 130,
   "metadata": {},
   "outputs": [
    {
     "data": {
      "text/plain": [
       "array([9, 2, 8, 3, 5, 5, 3, 1, 4, 7, 3, 9, 7, 0, 1, 6, 9, 0, 9, 7, 8, 2,\n",
       "       2, 4, 6, 7, 2, 9, 2, 8, 4, 0, 1, 0, 4, 5, 1, 1, 7, 9, 8, 2, 6, 6,\n",
       "       6, 0, 3, 0, 0, 3, 4, 5, 6, 6, 5, 9, 9, 3, 9, 9, 7, 0, 2, 5, 5, 3,\n",
       "       3, 1, 4, 2, 7, 6, 4, 6, 4, 3, 5, 1, 9, 4, 3, 3, 6, 9, 6, 7, 8, 9,\n",
       "       1, 2, 4, 8, 0, 6, 9, 5, 2, 6, 2, 5, 2, 5, 0, 9, 6, 4, 3, 1, 0, 4,\n",
       "       1, 8, 9, 1, 6, 9, 0, 5, 0, 5, 7, 3, 0, 4, 8, 7, 1, 1, 3, 6, 1, 7,\n",
       "       2, 0, 8, 2, 3, 1, 4, 1, 2, 5, 1, 2, 2, 9, 2, 8, 5, 4, 8, 3, 7, 4,\n",
       "       1, 2, 9, 6, 6, 3, 0, 2, 0, 4, 8, 9, 1, 9, 7, 3, 2, 2, 3, 5, 7, 4,\n",
       "       8, 2, 2, 1, 0, 8, 3, 0, 6, 0, 5, 1, 6, 2, 0, 8, 1, 3, 4, 8, 2, 2,\n",
       "       6, 7])"
      ]
     },
     "execution_count": 130,
     "metadata": {},
     "output_type": "execute_result"
    }
   ],
   "source": [
    "y_p_1"
   ]
  },
  {
   "cell_type": "code",
   "execution_count": 131,
   "metadata": {},
   "outputs": [
    {
     "data": {
      "text/plain": [
       "110    9\n",
       "637    5\n",
       "87     8\n",
       "428    8\n",
       "672    5\n",
       "      ..\n",
       "420    8\n",
       "496    1\n",
       "171    2\n",
       "385    6\n",
       "708    7\n",
       "Name: COLLEGE, Length: 200, dtype: int64"
      ]
     },
     "execution_count": 131,
     "metadata": {},
     "output_type": "execute_result"
    }
   ],
   "source": [
    "y_test"
   ]
  },
  {
   "cell_type": "code",
   "execution_count": null,
   "metadata": {},
   "outputs": [],
   "source": []
  }
 ],
 "metadata": {
  "kernelspec": {
   "display_name": "base",
   "language": "python",
   "name": "python3"
  },
  "language_info": {
   "codemirror_mode": {
    "name": "ipython",
    "version": 3
   },
   "file_extension": ".py",
   "mimetype": "text/x-python",
   "name": "python",
   "nbconvert_exporter": "python",
   "pygments_lexer": "ipython3",
   "version": "3.11.5"
  }
 },
 "nbformat": 4,
 "nbformat_minor": 2
}
