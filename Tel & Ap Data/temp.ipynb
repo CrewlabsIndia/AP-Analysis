{
 "cells": [
  {
   "cell_type": "code",
   "execution_count": 1,
   "metadata": {},
   "outputs": [],
   "source": [
    "import pandas as pd"
   ]
  },
  {
   "cell_type": "code",
   "execution_count": 2,
   "metadata": {},
   "outputs": [],
   "source": [
    "df=pd.read_csv('/Users/namanmuktha/Desktop/crewlabs/mh-prod/Tel & Ap Data/Ap_sort_Mbbs.csv')"
   ]
  },
  {
   "cell_type": "code",
   "execution_count": 3,
   "metadata": {},
   "outputs": [
    {
     "data": {
      "text/html": [
       "<div>\n",
       "<style scoped>\n",
       "    .dataframe tbody tr th:only-of-type {\n",
       "        vertical-align: middle;\n",
       "    }\n",
       "\n",
       "    .dataframe tbody tr th {\n",
       "        vertical-align: top;\n",
       "    }\n",
       "\n",
       "    .dataframe thead th {\n",
       "        text-align: right;\n",
       "    }\n",
       "</style>\n",
       "<table border=\"1\" class=\"dataframe\">\n",
       "  <thead>\n",
       "    <tr style=\"text-align: right;\">\n",
       "      <th></th>\n",
       "      <th>RANK</th>\n",
       "      <th>NEET_ROLL_NO</th>\n",
       "      <th>SCORE</th>\n",
       "      <th>SX</th>\n",
       "      <th>CAT</th>\n",
       "      <th>LOC</th>\n",
       "      <th>PHASE</th>\n",
       "      <th>COLLEGE</th>\n",
       "      <th>EWS</th>\n",
       "    </tr>\n",
       "  </thead>\n",
       "  <tbody>\n",
       "    <tr>\n",
       "      <th>0</th>\n",
       "      <td>1503</td>\n",
       "      <td>1206060037</td>\n",
       "      <td>680</td>\n",
       "      <td>M</td>\n",
       "      <td>BCD</td>\n",
       "      <td>AU</td>\n",
       "      <td>P1</td>\n",
       "      <td>Siddhartha Medical College, Vijayawada</td>\n",
       "      <td>NO</td>\n",
       "    </tr>\n",
       "    <tr>\n",
       "      <th>1</th>\n",
       "      <td>2599</td>\n",
       "      <td>1209010031</td>\n",
       "      <td>671</td>\n",
       "      <td>F</td>\n",
       "      <td>OC</td>\n",
       "      <td>AU</td>\n",
       "      <td>P1</td>\n",
       "      <td>Siddhartha Medical College, Vijayawada</td>\n",
       "      <td>NO</td>\n",
       "    </tr>\n",
       "    <tr>\n",
       "      <th>2</th>\n",
       "      <td>5738</td>\n",
       "      <td>1205060436</td>\n",
       "      <td>655</td>\n",
       "      <td>M</td>\n",
       "      <td>OC</td>\n",
       "      <td>AU</td>\n",
       "      <td>P1</td>\n",
       "      <td>Siddhartha Medical College, Vijayawada</td>\n",
       "      <td>NO</td>\n",
       "    </tr>\n",
       "    <tr>\n",
       "      <th>3</th>\n",
       "      <td>8695</td>\n",
       "      <td>1205090412</td>\n",
       "      <td>644</td>\n",
       "      <td>M</td>\n",
       "      <td>OC</td>\n",
       "      <td>APNL</td>\n",
       "      <td>P1</td>\n",
       "      <td>Siddhartha Medical College, Vijayawada</td>\n",
       "      <td>NO</td>\n",
       "    </tr>\n",
       "    <tr>\n",
       "      <th>4</th>\n",
       "      <td>11748</td>\n",
       "      <td>1205050763</td>\n",
       "      <td>635</td>\n",
       "      <td>F</td>\n",
       "      <td>OC</td>\n",
       "      <td>SVU</td>\n",
       "      <td>P1</td>\n",
       "      <td>Siddhartha Medical College, Vijayawada</td>\n",
       "      <td>NO</td>\n",
       "    </tr>\n",
       "  </tbody>\n",
       "</table>\n",
       "</div>"
      ],
      "text/plain": [
       "    RANK  NEET_ROLL_NO  SCORE SX  CAT   LOC PHASE  \\\n",
       "0   1503    1206060037    680  M  BCD    AU    P1   \n",
       "1   2599    1209010031    671  F   OC    AU    P1   \n",
       "2   5738    1205060436    655  M   OC    AU    P1   \n",
       "3   8695    1205090412    644  M   OC  APNL    P1   \n",
       "4  11748    1205050763    635  F   OC   SVU    P1   \n",
       "\n",
       "                                  COLLEGE EWS  \n",
       "0  Siddhartha Medical College, Vijayawada  NO  \n",
       "1  Siddhartha Medical College, Vijayawada  NO  \n",
       "2  Siddhartha Medical College, Vijayawada  NO  \n",
       "3  Siddhartha Medical College, Vijayawada  NO  \n",
       "4  Siddhartha Medical College, Vijayawada  NO  "
      ]
     },
     "execution_count": 3,
     "metadata": {},
     "output_type": "execute_result"
    }
   ],
   "source": [
    "df.head()"
   ]
  },
  {
   "cell_type": "code",
   "execution_count": 4,
   "metadata": {},
   "outputs": [],
   "source": [
    "tem=pd.read_excel('/Users/namanmuktha/Desktop/crewlabs/mh-prod/Tel & Ap Data/AP MBBS SPL Reservations data Updated.xlsx')"
   ]
  },
  {
   "cell_type": "code",
   "execution_count": 5,
   "metadata": {},
   "outputs": [
    {
     "data": {
      "text/html": [
       "<div>\n",
       "<style scoped>\n",
       "    .dataframe tbody tr th:only-of-type {\n",
       "        vertical-align: middle;\n",
       "    }\n",
       "\n",
       "    .dataframe tbody tr th {\n",
       "        vertical-align: top;\n",
       "    }\n",
       "\n",
       "    .dataframe thead th {\n",
       "        text-align: right;\n",
       "    }\n",
       "</style>\n",
       "<table border=\"1\" class=\"dataframe\">\n",
       "  <thead>\n",
       "    <tr style=\"text-align: right;\">\n",
       "      <th></th>\n",
       "      <th>Serial no</th>\n",
       "      <th>AIQ Rank</th>\n",
       "    </tr>\n",
       "  </thead>\n",
       "  <tbody>\n",
       "    <tr>\n",
       "      <th>0</th>\n",
       "      <td>1.0</td>\n",
       "      <td>295022.0</td>\n",
       "    </tr>\n",
       "    <tr>\n",
       "      <th>1</th>\n",
       "      <td>2.0</td>\n",
       "      <td>218177.0</td>\n",
       "    </tr>\n",
       "    <tr>\n",
       "      <th>2</th>\n",
       "      <td>3.0</td>\n",
       "      <td>227357.0</td>\n",
       "    </tr>\n",
       "    <tr>\n",
       "      <th>3</th>\n",
       "      <td>4.0</td>\n",
       "      <td>103038.0</td>\n",
       "    </tr>\n",
       "    <tr>\n",
       "      <th>4</th>\n",
       "      <td>5.0</td>\n",
       "      <td>61480.0</td>\n",
       "    </tr>\n",
       "  </tbody>\n",
       "</table>\n",
       "</div>"
      ],
      "text/plain": [
       "   Serial no  AIQ Rank\n",
       "0        1.0  295022.0\n",
       "1        2.0  218177.0\n",
       "2        3.0  227357.0\n",
       "3        4.0  103038.0\n",
       "4        5.0   61480.0"
      ]
     },
     "execution_count": 5,
     "metadata": {},
     "output_type": "execute_result"
    }
   ],
   "source": [
    "tem.head()"
   ]
  },
  {
   "cell_type": "code",
   "execution_count": 6,
   "metadata": {},
   "outputs": [],
   "source": [
    "ranks=tem['AIQ Rank']"
   ]
  },
  {
   "cell_type": "code",
   "execution_count": 8,
   "metadata": {},
   "outputs": [
    {
     "data": {
      "text/plain": [
       "pandas.core.series.Series"
      ]
     },
     "execution_count": 8,
     "metadata": {},
     "output_type": "execute_result"
    }
   ],
   "source": [
    "type(ranks)"
   ]
  },
  {
   "cell_type": "code",
   "execution_count": 9,
   "metadata": {},
   "outputs": [],
   "source": [
    "df = df[~df['RANK'].isin(ranks)]"
   ]
  },
  {
   "cell_type": "code",
   "execution_count": 10,
   "metadata": {},
   "outputs": [
    {
     "data": {
      "text/html": [
       "<div>\n",
       "<style scoped>\n",
       "    .dataframe tbody tr th:only-of-type {\n",
       "        vertical-align: middle;\n",
       "    }\n",
       "\n",
       "    .dataframe tbody tr th {\n",
       "        vertical-align: top;\n",
       "    }\n",
       "\n",
       "    .dataframe thead th {\n",
       "        text-align: right;\n",
       "    }\n",
       "</style>\n",
       "<table border=\"1\" class=\"dataframe\">\n",
       "  <thead>\n",
       "    <tr style=\"text-align: right;\">\n",
       "      <th></th>\n",
       "      <th>RANK</th>\n",
       "      <th>NEET_ROLL_NO</th>\n",
       "      <th>SCORE</th>\n",
       "      <th>SX</th>\n",
       "      <th>CAT</th>\n",
       "      <th>LOC</th>\n",
       "      <th>PHASE</th>\n",
       "      <th>COLLEGE</th>\n",
       "      <th>EWS</th>\n",
       "    </tr>\n",
       "  </thead>\n",
       "  <tbody>\n",
       "    <tr>\n",
       "      <th>0</th>\n",
       "      <td>1503</td>\n",
       "      <td>1206060037</td>\n",
       "      <td>680</td>\n",
       "      <td>M</td>\n",
       "      <td>BCD</td>\n",
       "      <td>AU</td>\n",
       "      <td>P1</td>\n",
       "      <td>Siddhartha Medical College, Vijayawada</td>\n",
       "      <td>NO</td>\n",
       "    </tr>\n",
       "    <tr>\n",
       "      <th>1</th>\n",
       "      <td>2599</td>\n",
       "      <td>1209010031</td>\n",
       "      <td>671</td>\n",
       "      <td>F</td>\n",
       "      <td>OC</td>\n",
       "      <td>AU</td>\n",
       "      <td>P1</td>\n",
       "      <td>Siddhartha Medical College, Vijayawada</td>\n",
       "      <td>NO</td>\n",
       "    </tr>\n",
       "    <tr>\n",
       "      <th>2</th>\n",
       "      <td>5738</td>\n",
       "      <td>1205060436</td>\n",
       "      <td>655</td>\n",
       "      <td>M</td>\n",
       "      <td>OC</td>\n",
       "      <td>AU</td>\n",
       "      <td>P1</td>\n",
       "      <td>Siddhartha Medical College, Vijayawada</td>\n",
       "      <td>NO</td>\n",
       "    </tr>\n",
       "    <tr>\n",
       "      <th>3</th>\n",
       "      <td>8695</td>\n",
       "      <td>1205090412</td>\n",
       "      <td>644</td>\n",
       "      <td>M</td>\n",
       "      <td>OC</td>\n",
       "      <td>APNL</td>\n",
       "      <td>P1</td>\n",
       "      <td>Siddhartha Medical College, Vijayawada</td>\n",
       "      <td>NO</td>\n",
       "    </tr>\n",
       "    <tr>\n",
       "      <th>4</th>\n",
       "      <td>11748</td>\n",
       "      <td>1205050763</td>\n",
       "      <td>635</td>\n",
       "      <td>F</td>\n",
       "      <td>OC</td>\n",
       "      <td>SVU</td>\n",
       "      <td>P1</td>\n",
       "      <td>Siddhartha Medical College, Vijayawada</td>\n",
       "      <td>NO</td>\n",
       "    </tr>\n",
       "  </tbody>\n",
       "</table>\n",
       "</div>"
      ],
      "text/plain": [
       "    RANK  NEET_ROLL_NO  SCORE SX  CAT   LOC PHASE  \\\n",
       "0   1503    1206060037    680  M  BCD    AU    P1   \n",
       "1   2599    1209010031    671  F   OC    AU    P1   \n",
       "2   5738    1205060436    655  M   OC    AU    P1   \n",
       "3   8695    1205090412    644  M   OC  APNL    P1   \n",
       "4  11748    1205050763    635  F   OC   SVU    P1   \n",
       "\n",
       "                                  COLLEGE EWS  \n",
       "0  Siddhartha Medical College, Vijayawada  NO  \n",
       "1  Siddhartha Medical College, Vijayawada  NO  \n",
       "2  Siddhartha Medical College, Vijayawada  NO  \n",
       "3  Siddhartha Medical College, Vijayawada  NO  \n",
       "4  Siddhartha Medical College, Vijayawada  NO  "
      ]
     },
     "execution_count": 10,
     "metadata": {},
     "output_type": "execute_result"
    }
   ],
   "source": [
    "df.head()"
   ]
  },
  {
   "cell_type": "code",
   "execution_count": 12,
   "metadata": {},
   "outputs": [],
   "source": [
    "df.to_csv('/Users/namanmuktha/Desktop/crewlabs/mh-prod/Tel & Ap Data/Ap_sort_Mbbs.csv',index=False)"
   ]
  },
  {
   "cell_type": "code",
   "execution_count": null,
   "metadata": {},
   "outputs": [],
   "source": []
  }
 ],
 "metadata": {
  "kernelspec": {
   "display_name": "base",
   "language": "python",
   "name": "python3"
  },
  "language_info": {
   "codemirror_mode": {
    "name": "ipython",
    "version": 3
   },
   "file_extension": ".py",
   "mimetype": "text/x-python",
   "name": "python",
   "nbconvert_exporter": "python",
   "pygments_lexer": "ipython3",
   "version": "3.11.5"
  }
 },
 "nbformat": 4,
 "nbformat_minor": 2
}
